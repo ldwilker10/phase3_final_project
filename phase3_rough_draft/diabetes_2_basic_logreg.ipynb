{
 "cells": [
  {
   "cell_type": "markdown",
   "metadata": {},
   "source": [
    "# Phase 3 Project Submission\n",
    "\n",
    "Please fill out:\n",
    "* Student name: Lucas Wilkerson\n",
    "* Student pace: Flex/part time\n",
    "* Scheduled project review date/time: \n",
    "* Instructor name: Morgan Jones\n",
    "* Blog post URL:"
   ]
  },
  {
   "cell_type": "markdown",
   "metadata": {},
   "source": [
    "# Diabetes Risk Assessment and Prediction"
   ]
  },
  {
   "cell_type": "markdown",
   "metadata": {},
   "source": [
    "## Project Overview"
   ]
  },
  {
   "cell_type": "markdown",
   "metadata": {},
   "source": [
    "## Business Problem and Stakeholder"
   ]
  },
  {
   "cell_type": "markdown",
   "metadata": {},
   "source": [
    "## Data Understanding"
   ]
  },
  {
   "cell_type": "code",
   "execution_count": 5,
   "metadata": {},
   "outputs": [],
   "source": [
    "# Importing standard Packages \n",
    "import pandas as pd\n",
    "import numpy as np\n",
    "import math \n",
    "\n",
    "# Importing packages for visualization \n",
    "import matplotlib.pyplot as plt\n",
    "%matplotlib inline\n",
    "import seaborn as sns\n",
    "\n",
    "\n",
    "# Importing packages for statistics and modeling\n",
    "import statsmodels.api as sm\n",
    "import sklearn.metrics as metrics\n",
    "from scipy import stats\n",
    "from sklearn.linear_model import LinearRegression\n",
    "from sklearn.linear_model import LogisticRegression\n",
    "from sklearn.preprocessing import OneHotEncoder\n",
    "from sklearn.preprocessing import StandardScaler\n",
    "from sklearn.preprocessing import MinMaxScaler\n",
    "from sklearn.preprocessing import LabelEncoder\n",
    "from sklearn.model_selection import train_test_split, cross_val_score, GridSearchCV\n",
    "from sklearn.ensemble import AdaBoostClassifier, GradientBoostingClassifier\n",
    "from sklearn.ensemble import BaggingClassifier, RandomForestClassifier\n",
    "from sklearn.tree import DecisionTreeClassifier\n",
    "from sklearn.neighbors import KNeighborsClassifier\n",
    "from sklearn.metrics import accuracy_score, f1_score, precision_score, recall_score\n",
    "from sklearn.metrics import RocCurveDisplay, confusion_matrix, classification_report, make_scorer\n",
    "from sklearn.metrics import mean_absolute_error, mean_squared_error\n",
    "from sklearn.metrics import roc_curve, auc\n",
    "from sklearn.metrics import plot_confusion_matrix, plot_roc_curve , log_loss\n",
    "from imblearn.over_sampling import SMOTE\n",
    "from scipy.stats import kstest\n",
    "\n",
    "from xgboost import XGBClassifier\n",
    "from xgboost import plot_importance\n",
    "from sklearn.pipeline import Pipeline\n",
    "from sklearn.feature_selection import (VarianceThreshold, SelectKBest, f_regression, mutual_info_regression, \n",
    "    RFE, RFECV)\n",
    "\n",
    "\n"
   ]
  },
  {
   "cell_type": "markdown",
   "metadata": {},
   "source": [
    "## Data Preparation/ Preprocessing"
   ]
  },
  {
   "cell_type": "code",
   "execution_count": 6,
   "metadata": {},
   "outputs": [
    {
     "data": {
      "text/html": [
       "<div>\n",
       "<style scoped>\n",
       "    .dataframe tbody tr th:only-of-type {\n",
       "        vertical-align: middle;\n",
       "    }\n",
       "\n",
       "    .dataframe tbody tr th {\n",
       "        vertical-align: top;\n",
       "    }\n",
       "\n",
       "    .dataframe thead th {\n",
       "        text-align: right;\n",
       "    }\n",
       "</style>\n",
       "<table border=\"1\" class=\"dataframe\">\n",
       "  <thead>\n",
       "    <tr style=\"text-align: right;\">\n",
       "      <th></th>\n",
       "      <th>Age</th>\n",
       "      <th>Gender</th>\n",
       "      <th>BMI</th>\n",
       "      <th>SBP</th>\n",
       "      <th>DBP</th>\n",
       "      <th>FPG</th>\n",
       "      <th>Chol</th>\n",
       "      <th>Tri</th>\n",
       "      <th>HDL</th>\n",
       "      <th>LDL</th>\n",
       "      <th>ALT</th>\n",
       "      <th>BUN</th>\n",
       "      <th>CCR</th>\n",
       "      <th>FFPG</th>\n",
       "      <th>smoking</th>\n",
       "      <th>drinking</th>\n",
       "      <th>family_histroy</th>\n",
       "      <th>Diabetes</th>\n",
       "    </tr>\n",
       "  </thead>\n",
       "  <tbody>\n",
       "    <tr>\n",
       "      <th>0</th>\n",
       "      <td>26</td>\n",
       "      <td>1</td>\n",
       "      <td>20.1</td>\n",
       "      <td>119</td>\n",
       "      <td>81</td>\n",
       "      <td>5.80</td>\n",
       "      <td>4.36</td>\n",
       "      <td>0.86</td>\n",
       "      <td>0.90</td>\n",
       "      <td>2.43</td>\n",
       "      <td>12.0</td>\n",
       "      <td>5.40</td>\n",
       "      <td>63.8</td>\n",
       "      <td>5.40</td>\n",
       "      <td>3.0</td>\n",
       "      <td>3.0</td>\n",
       "      <td>0</td>\n",
       "      <td>0</td>\n",
       "    </tr>\n",
       "    <tr>\n",
       "      <th>1</th>\n",
       "      <td>40</td>\n",
       "      <td>1</td>\n",
       "      <td>17.7</td>\n",
       "      <td>97</td>\n",
       "      <td>54</td>\n",
       "      <td>4.60</td>\n",
       "      <td>3.70</td>\n",
       "      <td>1.02</td>\n",
       "      <td>1.50</td>\n",
       "      <td>2.04</td>\n",
       "      <td>9.2</td>\n",
       "      <td>3.70</td>\n",
       "      <td>70.3</td>\n",
       "      <td>4.10</td>\n",
       "      <td>1.0</td>\n",
       "      <td>1.0</td>\n",
       "      <td>0</td>\n",
       "      <td>0</td>\n",
       "    </tr>\n",
       "    <tr>\n",
       "      <th>2</th>\n",
       "      <td>40</td>\n",
       "      <td>2</td>\n",
       "      <td>19.7</td>\n",
       "      <td>85</td>\n",
       "      <td>53</td>\n",
       "      <td>5.30</td>\n",
       "      <td>5.87</td>\n",
       "      <td>1.29</td>\n",
       "      <td>1.75</td>\n",
       "      <td>3.37</td>\n",
       "      <td>10.1</td>\n",
       "      <td>4.10</td>\n",
       "      <td>61.1</td>\n",
       "      <td>4.85</td>\n",
       "      <td>3.0</td>\n",
       "      <td>3.0</td>\n",
       "      <td>0</td>\n",
       "      <td>0</td>\n",
       "    </tr>\n",
       "    <tr>\n",
       "      <th>3</th>\n",
       "      <td>43</td>\n",
       "      <td>1</td>\n",
       "      <td>23.1</td>\n",
       "      <td>111</td>\n",
       "      <td>71</td>\n",
       "      <td>4.50</td>\n",
       "      <td>4.05</td>\n",
       "      <td>0.74</td>\n",
       "      <td>1.27</td>\n",
       "      <td>2.60</td>\n",
       "      <td>36.5</td>\n",
       "      <td>4.38</td>\n",
       "      <td>73.4</td>\n",
       "      <td>5.30</td>\n",
       "      <td>2.0</td>\n",
       "      <td>3.0</td>\n",
       "      <td>0</td>\n",
       "      <td>0</td>\n",
       "    </tr>\n",
       "    <tr>\n",
       "      <th>4</th>\n",
       "      <td>36</td>\n",
       "      <td>1</td>\n",
       "      <td>26.5</td>\n",
       "      <td>130</td>\n",
       "      <td>82</td>\n",
       "      <td>5.54</td>\n",
       "      <td>6.69</td>\n",
       "      <td>3.49</td>\n",
       "      <td>0.91</td>\n",
       "      <td>3.64</td>\n",
       "      <td>69.3</td>\n",
       "      <td>3.86</td>\n",
       "      <td>67.5</td>\n",
       "      <td>5.53</td>\n",
       "      <td>3.0</td>\n",
       "      <td>3.0</td>\n",
       "      <td>0</td>\n",
       "      <td>0</td>\n",
       "    </tr>\n",
       "  </tbody>\n",
       "</table>\n",
       "</div>"
      ],
      "text/plain": [
       "   Age  Gender   BMI  SBP  DBP   FPG  Chol   Tri   HDL   LDL   ALT   BUN  \\\n",
       "0   26       1  20.1  119   81  5.80  4.36  0.86  0.90  2.43  12.0  5.40   \n",
       "1   40       1  17.7   97   54  4.60  3.70  1.02  1.50  2.04   9.2  3.70   \n",
       "2   40       2  19.7   85   53  5.30  5.87  1.29  1.75  3.37  10.1  4.10   \n",
       "3   43       1  23.1  111   71  4.50  4.05  0.74  1.27  2.60  36.5  4.38   \n",
       "4   36       1  26.5  130   82  5.54  6.69  3.49  0.91  3.64  69.3  3.86   \n",
       "\n",
       "    CCR  FFPG  smoking  drinking  family_histroy  Diabetes  \n",
       "0  63.8  5.40      3.0       3.0               0         0  \n",
       "1  70.3  4.10      1.0       1.0               0         0  \n",
       "2  61.1  4.85      3.0       3.0               0         0  \n",
       "3  73.4  5.30      2.0       3.0               0         0  \n",
       "4  67.5  5.53      3.0       3.0               0         0  "
      ]
     },
     "execution_count": 6,
     "metadata": {},
     "output_type": "execute_result"
    }
   ],
   "source": [
    "# Loading Dataset\n",
    "diabetes = pd.read_csv('diabetes_2.csv')\n",
    "\n",
    "#Previewing first 5 rows \n",
    "diabetes.head()"
   ]
  },
  {
   "cell_type": "code",
   "execution_count": 7,
   "metadata": {},
   "outputs": [
    {
     "name": "stdout",
     "output_type": "stream",
     "text": [
      "<class 'pandas.core.frame.DataFrame'>\n",
      "RangeIndex: 4303 entries, 0 to 4302\n",
      "Data columns (total 18 columns):\n",
      " #   Column          Non-Null Count  Dtype  \n",
      "---  ------          --------------  -----  \n",
      " 0   Age             4303 non-null   int64  \n",
      " 1   Gender          4303 non-null   int64  \n",
      " 2   BMI             4303 non-null   float64\n",
      " 3   SBP             4303 non-null   int64  \n",
      " 4   DBP             4303 non-null   int64  \n",
      " 5   FPG             4303 non-null   float64\n",
      " 6   Chol            4303 non-null   float64\n",
      " 7   Tri             4303 non-null   float64\n",
      " 8   HDL             4303 non-null   float64\n",
      " 9   LDL             4303 non-null   float64\n",
      " 10  ALT             4303 non-null   float64\n",
      " 11  BUN             4303 non-null   float64\n",
      " 12  CCR             4303 non-null   float64\n",
      " 13  FFPG            4303 non-null   float64\n",
      " 14  smoking         4303 non-null   float64\n",
      " 15  drinking        4303 non-null   float64\n",
      " 16  family_histroy  4303 non-null   int64  \n",
      " 17  Diabetes        4303 non-null   int64  \n",
      "dtypes: float64(12), int64(6)\n",
      "memory usage: 605.2 KB\n"
     ]
    }
   ],
   "source": [
    "# Previewing general information on dataset\n",
    "diabetes.info()"
   ]
  },
  {
   "cell_type": "markdown",
   "metadata": {},
   "source": [
    "Features of Dataset:\n",
    "- Age\n",
    "- Gender\n",
    "- BMI\n",
    "- SBP (Systolic Blood Pressure)\n",
    "- DBP (Diastolic Blood Pressure)\n",
    "- FPG (Fasting Plasma Glucose)\n",
    "- FFPG (Final Fasting Plasma Glucose)\n",
    "- Cholesterol\n",
    "- Triglyceride\n",
    "- HDL (High-Density Lipoprotein)\n",
    "- LDL (Low-Density Lipoprotein)\n",
    "- ALT (Alanine Aminotransferase)\n",
    "- BUN (Blood urea nitrogen)\n",
    "- CCR (Creatinine Clearance)\n",
    "- Smoking Status\n",
    "- Drinking Status\n",
    "- Family History\n",
    "- Diabetes: presence of Diabetes "
   ]
  },
  {
   "cell_type": "code",
   "execution_count": 8,
   "metadata": {},
   "outputs": [
    {
     "data": {
      "text/plain": [
       "Age               0\n",
       "Gender            0\n",
       "BMI               0\n",
       "SBP               0\n",
       "DBP               0\n",
       "FPG               0\n",
       "Chol              0\n",
       "Tri               0\n",
       "HDL               0\n",
       "LDL               0\n",
       "ALT               0\n",
       "BUN               0\n",
       "CCR               0\n",
       "FFPG              0\n",
       "smoking           0\n",
       "drinking          0\n",
       "family_histroy    0\n",
       "Diabetes          0\n",
       "dtype: int64"
      ]
     },
     "execution_count": 8,
     "metadata": {},
     "output_type": "execute_result"
    }
   ],
   "source": [
    "# Checking for missing values\n",
    "diabetes.isna().sum()\n"
   ]
  },
  {
   "cell_type": "code",
   "execution_count": 9,
   "metadata": {},
   "outputs": [],
   "source": [
    "# Dropping any duplicate rows \n",
    "diabetes = diabetes.drop_duplicates()"
   ]
  },
  {
   "cell_type": "code",
   "execution_count": 10,
   "metadata": {},
   "outputs": [
    {
     "data": {
      "text/plain": [
       "0    3000\n",
       "1    1303\n",
       "Name: Diabetes, dtype: int64"
      ]
     },
     "execution_count": 10,
     "metadata": {},
     "output_type": "execute_result"
    }
   ],
   "source": [
    "# Getting number of patients with and without diabetes\n",
    "diabetes['Diabetes'].value_counts()"
   ]
  },
  {
   "cell_type": "code",
   "execution_count": 11,
   "metadata": {},
   "outputs": [
    {
     "data": {
      "text/html": [
       "<div>\n",
       "<style scoped>\n",
       "    .dataframe tbody tr th:only-of-type {\n",
       "        vertical-align: middle;\n",
       "    }\n",
       "\n",
       "    .dataframe tbody tr th {\n",
       "        vertical-align: top;\n",
       "    }\n",
       "\n",
       "    .dataframe thead th {\n",
       "        text-align: right;\n",
       "    }\n",
       "</style>\n",
       "<table border=\"1\" class=\"dataframe\">\n",
       "  <thead>\n",
       "    <tr style=\"text-align: right;\">\n",
       "      <th></th>\n",
       "      <th>Age</th>\n",
       "      <th>Gender</th>\n",
       "      <th>BMI</th>\n",
       "      <th>SBP</th>\n",
       "      <th>DBP</th>\n",
       "      <th>FPG</th>\n",
       "      <th>Chol</th>\n",
       "      <th>Tri</th>\n",
       "      <th>HDL</th>\n",
       "      <th>LDL</th>\n",
       "      <th>ALT</th>\n",
       "      <th>BUN</th>\n",
       "      <th>CCR</th>\n",
       "      <th>FFPG</th>\n",
       "      <th>smoking</th>\n",
       "      <th>drinking</th>\n",
       "      <th>family_histroy</th>\n",
       "      <th>Diabetes</th>\n",
       "    </tr>\n",
       "  </thead>\n",
       "  <tbody>\n",
       "    <tr>\n",
       "      <th>count</th>\n",
       "      <td>4303.000000</td>\n",
       "      <td>4303.000000</td>\n",
       "      <td>4303.000000</td>\n",
       "      <td>4303.000000</td>\n",
       "      <td>4303.000000</td>\n",
       "      <td>4303.000000</td>\n",
       "      <td>4303.000000</td>\n",
       "      <td>4303.000000</td>\n",
       "      <td>4303.000000</td>\n",
       "      <td>4303.000000</td>\n",
       "      <td>4303.000000</td>\n",
       "      <td>4303.000000</td>\n",
       "      <td>4303.000000</td>\n",
       "      <td>4303.000000</td>\n",
       "      <td>4303.000000</td>\n",
       "      <td>4303.000000</td>\n",
       "      <td>4303.000000</td>\n",
       "      <td>4303.000000</td>\n",
       "    </tr>\n",
       "    <tr>\n",
       "      <th>mean</th>\n",
       "      <td>48.085057</td>\n",
       "      <td>1.351615</td>\n",
       "      <td>24.123923</td>\n",
       "      <td>123.219382</td>\n",
       "      <td>76.360446</td>\n",
       "      <td>5.226368</td>\n",
       "      <td>4.860753</td>\n",
       "      <td>1.588476</td>\n",
       "      <td>1.666765</td>\n",
       "      <td>2.976220</td>\n",
       "      <td>26.754810</td>\n",
       "      <td>4.841088</td>\n",
       "      <td>71.557080</td>\n",
       "      <td>5.729084</td>\n",
       "      <td>3.006123</td>\n",
       "      <td>3.209935</td>\n",
       "      <td>0.061585</td>\n",
       "      <td>0.302812</td>\n",
       "    </tr>\n",
       "    <tr>\n",
       "      <th>std</th>\n",
       "      <td>14.686155</td>\n",
       "      <td>0.477530</td>\n",
       "      <td>3.397294</td>\n",
       "      <td>17.513858</td>\n",
       "      <td>11.004056</td>\n",
       "      <td>0.781089</td>\n",
       "      <td>0.925377</td>\n",
       "      <td>1.260003</td>\n",
       "      <td>1.079377</td>\n",
       "      <td>0.892196</td>\n",
       "      <td>22.279922</td>\n",
       "      <td>1.251566</td>\n",
       "      <td>16.937394</td>\n",
       "      <td>1.424568</td>\n",
       "      <td>1.199571</td>\n",
       "      <td>0.939842</td>\n",
       "      <td>0.240428</td>\n",
       "      <td>0.459528</td>\n",
       "    </tr>\n",
       "    <tr>\n",
       "      <th>min</th>\n",
       "      <td>22.000000</td>\n",
       "      <td>1.000000</td>\n",
       "      <td>15.600000</td>\n",
       "      <td>72.000000</td>\n",
       "      <td>45.000000</td>\n",
       "      <td>1.780000</td>\n",
       "      <td>1.650000</td>\n",
       "      <td>0.000000</td>\n",
       "      <td>0.000000</td>\n",
       "      <td>0.540000</td>\n",
       "      <td>4.500000</td>\n",
       "      <td>1.380000</td>\n",
       "      <td>4.860753</td>\n",
       "      <td>3.200000</td>\n",
       "      <td>1.000000</td>\n",
       "      <td>1.000000</td>\n",
       "      <td>0.000000</td>\n",
       "      <td>0.000000</td>\n",
       "    </tr>\n",
       "    <tr>\n",
       "      <th>25%</th>\n",
       "      <td>35.000000</td>\n",
       "      <td>1.000000</td>\n",
       "      <td>21.700000</td>\n",
       "      <td>111.000000</td>\n",
       "      <td>69.000000</td>\n",
       "      <td>4.700000</td>\n",
       "      <td>4.200000</td>\n",
       "      <td>0.860000</td>\n",
       "      <td>1.130000</td>\n",
       "      <td>2.350000</td>\n",
       "      <td>14.300000</td>\n",
       "      <td>3.960000</td>\n",
       "      <td>60.000000</td>\n",
       "      <td>4.900000</td>\n",
       "      <td>3.000000</td>\n",
       "      <td>3.000000</td>\n",
       "      <td>0.000000</td>\n",
       "      <td>0.000000</td>\n",
       "    </tr>\n",
       "    <tr>\n",
       "      <th>50%</th>\n",
       "      <td>46.000000</td>\n",
       "      <td>1.000000</td>\n",
       "      <td>24.000000</td>\n",
       "      <td>122.000000</td>\n",
       "      <td>76.000000</td>\n",
       "      <td>5.140000</td>\n",
       "      <td>4.790000</td>\n",
       "      <td>1.280000</td>\n",
       "      <td>1.340000</td>\n",
       "      <td>2.820000</td>\n",
       "      <td>20.500000</td>\n",
       "      <td>4.760000</td>\n",
       "      <td>72.000000</td>\n",
       "      <td>5.300000</td>\n",
       "      <td>3.000000</td>\n",
       "      <td>3.000000</td>\n",
       "      <td>0.000000</td>\n",
       "      <td>0.000000</td>\n",
       "    </tr>\n",
       "    <tr>\n",
       "      <th>75%</th>\n",
       "      <td>59.000000</td>\n",
       "      <td>2.000000</td>\n",
       "      <td>26.300000</td>\n",
       "      <td>134.000000</td>\n",
       "      <td>83.000000</td>\n",
       "      <td>5.700000</td>\n",
       "      <td>5.430000</td>\n",
       "      <td>1.940000</td>\n",
       "      <td>1.610000</td>\n",
       "      <td>3.420000</td>\n",
       "      <td>31.050000</td>\n",
       "      <td>5.570000</td>\n",
       "      <td>82.300000</td>\n",
       "      <td>6.020000</td>\n",
       "      <td>3.000000</td>\n",
       "      <td>3.000000</td>\n",
       "      <td>0.000000</td>\n",
       "      <td>1.000000</td>\n",
       "    </tr>\n",
       "    <tr>\n",
       "      <th>max</th>\n",
       "      <td>93.000000</td>\n",
       "      <td>2.000000</td>\n",
       "      <td>45.800000</td>\n",
       "      <td>200.000000</td>\n",
       "      <td>134.000000</td>\n",
       "      <td>6.990000</td>\n",
       "      <td>11.650000</td>\n",
       "      <td>32.640000</td>\n",
       "      <td>4.860753</td>\n",
       "      <td>6.270000</td>\n",
       "      <td>436.200000</td>\n",
       "      <td>17.730000</td>\n",
       "      <td>307.000000</td>\n",
       "      <td>29.700000</td>\n",
       "      <td>4.860753</td>\n",
       "      <td>4.860753</td>\n",
       "      <td>1.000000</td>\n",
       "      <td>1.000000</td>\n",
       "    </tr>\n",
       "  </tbody>\n",
       "</table>\n",
       "</div>"
      ],
      "text/plain": [
       "               Age       Gender          BMI          SBP          DBP  \\\n",
       "count  4303.000000  4303.000000  4303.000000  4303.000000  4303.000000   \n",
       "mean     48.085057     1.351615    24.123923   123.219382    76.360446   \n",
       "std      14.686155     0.477530     3.397294    17.513858    11.004056   \n",
       "min      22.000000     1.000000    15.600000    72.000000    45.000000   \n",
       "25%      35.000000     1.000000    21.700000   111.000000    69.000000   \n",
       "50%      46.000000     1.000000    24.000000   122.000000    76.000000   \n",
       "75%      59.000000     2.000000    26.300000   134.000000    83.000000   \n",
       "max      93.000000     2.000000    45.800000   200.000000   134.000000   \n",
       "\n",
       "               FPG         Chol          Tri          HDL          LDL  \\\n",
       "count  4303.000000  4303.000000  4303.000000  4303.000000  4303.000000   \n",
       "mean      5.226368     4.860753     1.588476     1.666765     2.976220   \n",
       "std       0.781089     0.925377     1.260003     1.079377     0.892196   \n",
       "min       1.780000     1.650000     0.000000     0.000000     0.540000   \n",
       "25%       4.700000     4.200000     0.860000     1.130000     2.350000   \n",
       "50%       5.140000     4.790000     1.280000     1.340000     2.820000   \n",
       "75%       5.700000     5.430000     1.940000     1.610000     3.420000   \n",
       "max       6.990000    11.650000    32.640000     4.860753     6.270000   \n",
       "\n",
       "               ALT          BUN          CCR         FFPG      smoking  \\\n",
       "count  4303.000000  4303.000000  4303.000000  4303.000000  4303.000000   \n",
       "mean     26.754810     4.841088    71.557080     5.729084     3.006123   \n",
       "std      22.279922     1.251566    16.937394     1.424568     1.199571   \n",
       "min       4.500000     1.380000     4.860753     3.200000     1.000000   \n",
       "25%      14.300000     3.960000    60.000000     4.900000     3.000000   \n",
       "50%      20.500000     4.760000    72.000000     5.300000     3.000000   \n",
       "75%      31.050000     5.570000    82.300000     6.020000     3.000000   \n",
       "max     436.200000    17.730000   307.000000    29.700000     4.860753   \n",
       "\n",
       "          drinking  family_histroy     Diabetes  \n",
       "count  4303.000000     4303.000000  4303.000000  \n",
       "mean      3.209935        0.061585     0.302812  \n",
       "std       0.939842        0.240428     0.459528  \n",
       "min       1.000000        0.000000     0.000000  \n",
       "25%       3.000000        0.000000     0.000000  \n",
       "50%       3.000000        0.000000     0.000000  \n",
       "75%       3.000000        0.000000     1.000000  \n",
       "max       4.860753        1.000000     1.000000  "
      ]
     },
     "execution_count": 11,
     "metadata": {},
     "output_type": "execute_result"
    }
   ],
   "source": [
    "# Getting descriptive statistics on dataset \n",
    "diabetes.describe()"
   ]
  },
  {
   "cell_type": "code",
   "execution_count": 12,
   "metadata": {},
   "outputs": [
    {
     "name": "stdout",
     "output_type": "stream",
     "text": [
      "34    169\n",
      "33    137\n",
      "35    137\n",
      "37    128\n",
      "29    121\n",
      "     ... \n",
      "91      2\n",
      "90      2\n",
      "23      2\n",
      "22      2\n",
      "93      1\n",
      "Name: Age, Length: 70, dtype: int64\n",
      "1    2790\n",
      "2    1513\n",
      "Name: Gender, dtype: int64\n",
      "23.50    62\n",
      "23.40    59\n",
      "26.00    59\n",
      "24.80    56\n",
      "26.10    55\n",
      "         ..\n",
      "27.48     1\n",
      "19.47     1\n",
      "20.76     1\n",
      "26.06     1\n",
      "32.50     1\n",
      "Name: BMI, Length: 275, dtype: int64\n",
      "122    107\n",
      "111    106\n",
      "123    104\n",
      "129    103\n",
      "110    103\n",
      "      ... \n",
      "191      1\n",
      "186      1\n",
      "190      1\n",
      "198      1\n",
      "72       1\n",
      "Name: SBP, Length: 111, dtype: int64\n",
      "72     191\n",
      "77     190\n",
      "73     156\n",
      "76     153\n",
      "74     147\n",
      "      ... \n",
      "126      1\n",
      "134      1\n",
      "47       1\n",
      "111      1\n",
      "48       1\n",
      "Name: DBP, Length: 75, dtype: int64\n",
      "5.10    97\n",
      "5.00    93\n",
      "4.90    77\n",
      "5.20    71\n",
      "5.30    71\n",
      "        ..\n",
      "2.95     1\n",
      "3.57     1\n",
      "3.64     1\n",
      "3.27     1\n",
      "3.70     1\n",
      "Name: FPG, Length: 361, dtype: int64\n",
      "4.00    70\n",
      "4.50    49\n",
      "5.00    47\n",
      "4.60    41\n",
      "4.20    40\n",
      "        ..\n",
      "6.51     1\n",
      "8.25     1\n",
      "7.25     1\n",
      "2.61     1\n",
      "2.93     1\n",
      "Name: Chol, Length: 486, dtype: int64\n",
      "1.00    85\n",
      "0.70    63\n",
      "0.60    59\n",
      "1.10    56\n",
      "0.90    52\n",
      "        ..\n",
      "8.50     1\n",
      "4.75     1\n",
      "4.96     1\n",
      "3.24     1\n",
      "5.06     1\n",
      "Name: Tri, Length: 478, dtype: int64\n",
      "4.860753    411\n",
      "1.000000     68\n",
      "1.300000     62\n",
      "1.200000     61\n",
      "1.240000     58\n",
      "           ... \n",
      "2.200000      1\n",
      "2.380000      1\n",
      "2.070000      1\n",
      "0.480000      1\n",
      "2.770000      1\n",
      "Name: HDL, Length: 188, dtype: int64\n",
      "4.860753    394\n",
      "2.000000     35\n",
      "2.400000     33\n",
      "2.660000     33\n",
      "2.590000     32\n",
      "           ... \n",
      "0.880000      1\n",
      "4.870000      1\n",
      "4.380000      1\n",
      "4.690000      1\n",
      "4.470000      1\n",
      "Name: LDL, Length: 384, dtype: int64\n",
      "12.0     82\n",
      "13.0     80\n",
      "16.0     79\n",
      "18.0     76\n",
      "19.0     75\n",
      "         ..\n",
      "156.7     1\n",
      "118.7     1\n",
      "55.9      1\n",
      "55.1      1\n",
      "46.8      1\n",
      "Name: ALT, Length: 680, dtype: int64\n",
      "4.860753     96\n",
      "4.800000     57\n",
      "4.000000     56\n",
      "5.000000     54\n",
      "4.500000     49\n",
      "             ..\n",
      "17.730000     1\n",
      "6.770000      1\n",
      "2.560000      1\n",
      "6.690000      1\n",
      "5.840000      1\n",
      "Name: BUN, Length: 576, dtype: int64\n",
      "73.000000     37\n",
      "59.000000     34\n",
      "83.000000     34\n",
      "75.000000     34\n",
      "4.860753      34\n",
      "              ..\n",
      "72.270000      1\n",
      "99.100000      1\n",
      "90.290000      1\n",
      "135.100000     1\n",
      "102.400000     1\n",
      "Name: CCR, Length: 700, dtype: int64\n",
      "5.20    149\n",
      "4.90    135\n",
      "5.30    132\n",
      "4.80    130\n",
      "5.10    128\n",
      "       ... \n",
      "6.79      1\n",
      "7.54      1\n",
      "9.80      1\n",
      "3.96      1\n",
      "8.11      1\n",
      "Name: FFPG, Length: 479, dtype: int64\n",
      "3.000000    2534\n",
      "4.860753     888\n",
      "1.000000     745\n",
      "2.000000     136\n",
      "Name: smoking, dtype: int64\n",
      "3.000000    2749\n",
      "4.860753     888\n",
      "2.000000     583\n",
      "1.000000      83\n",
      "Name: drinking, dtype: int64\n",
      "0    4038\n",
      "1     265\n",
      "Name: family_histroy, dtype: int64\n",
      "0    3000\n",
      "1    1303\n",
      "Name: Diabetes, dtype: int64\n"
     ]
    }
   ],
   "source": [
    "#Getting value_counts for whole dataset\n",
    "for col in diabetes:\n",
    "        print (diabetes[col].value_counts())"
   ]
  },
  {
   "cell_type": "markdown",
   "metadata": {},
   "source": [
    "When looking over the values, units for glucose measurements(FPG, FFPG)and lipid measurements (Chol, Tri, HDL, LDL) are presented in metric units (mmol). While initially there seems to be no null/missing values, upon review of  value counts there is an abnormal value, 4.860753, that seems to be common in most columns. This may be a placeholder for missing values. This will need to be addressed. "
   ]
  },
  {
   "cell_type": "markdown",
   "metadata": {},
   "source": [
    "The current dataset contains 4303 entries with 18 columns which contain numerical data types. Looking further into our dataset, the column Diabetes is a binary classification variable. This is the target variable in which a value of 0 represents absense of diabetes and a value of 1 represents presence of diabetes. \n",
    "\n",
    "Regarding the Diabetes column there are 3000 entries showing no diabetes diagnosis while 1303 indicate a diabetes diagnosis. "
   ]
  },
  {
   "cell_type": "code",
   "execution_count": 13,
   "metadata": {},
   "outputs": [
    {
     "name": "stdout",
     "output_type": "stream",
     "text": [
      "      Age  Gender   BMI  SBP  DBP   FPG  Chol   Tri   HDL   LDL   ALT   BUN  \\\n",
      "0      26       1  20.1  119   81  5.80  4.36  0.86  0.90  2.43  12.0  5.40   \n",
      "1      40       1  17.7   97   54  4.60  3.70  1.02  1.50  2.04   9.2  3.70   \n",
      "2      40       2  19.7   85   53  5.30  5.87  1.29  1.75  3.37  10.1  4.10   \n",
      "3      43       1  23.1  111   71  4.50  4.05  0.74  1.27  2.60  36.5  4.38   \n",
      "4      36       1  26.5  130   82  5.54  6.69  3.49  0.91  3.64  69.3  3.86   \n",
      "...   ...     ...   ...  ...  ...   ...   ...   ...   ...   ...   ...   ...   \n",
      "3255   77       1  22.9  134   73  5.52  4.02  1.28  1.23  2.25  42.2  4.34   \n",
      "3256   54       1  23.4  126   75  6.82  5.00  1.50  1.24  2.98   8.0  3.50   \n",
      "3257   67       1  24.6  138   81  4.85  3.89  1.38  1.14  2.17  18.1  4.73   \n",
      "3258   60       2  29.0  101   60  6.70  5.91  1.29  1.73  2.85  18.9  7.33   \n",
      "3259   37       1  34.3  120   71  4.97  5.42  2.66  1.08  2.87  81.0  4.61   \n",
      "\n",
      "       CCR  FFPG  smoking  drinking  family_histroy  Diabetes  \n",
      "0     63.8  5.40      3.0       3.0               0         0  \n",
      "1     70.3  4.10      1.0       1.0               0         0  \n",
      "2     61.1  4.85      3.0       3.0               0         0  \n",
      "3     73.4  5.30      2.0       3.0               0         0  \n",
      "4     67.5  5.53      3.0       3.0               0         0  \n",
      "...    ...   ...      ...       ...             ...       ...  \n",
      "3255  60.6  6.30      3.0       3.0               0         1  \n",
      "3256  77.0  6.70      1.0       3.0               0         1  \n",
      "3257  70.6  6.80      3.0       3.0               0         1  \n",
      "3258  50.2  7.00      3.0       3.0               0         1  \n",
      "3259  75.5  8.20      1.0       2.0               0         1  \n",
      "\n",
      "[3260 rows x 18 columns]\n"
     ]
    }
   ],
   "source": [
    "# Create a new DataFrame to store the filtered data\n",
    "filtered_diabetes = diabetes.copy()\n",
    "\n",
    "# Value to drop\n",
    "value_to_drop = 4.860753\n",
    "\n",
    "# Loop through the columns and drop rows containing the value\n",
    "for col in diabetes.columns:\n",
    "    filtered_diabetes = filtered_diabetes[filtered_diabetes[col] != value_to_drop]\n",
    "\n",
    "# Reset the index of the filtered DataFrame\n",
    "filtered_diabetes.reset_index(drop=True, inplace=True)\n",
    "\n",
    "# Print the filtered DataFrame\n",
    "print(filtered_diabetes)"
   ]
  },
  {
   "cell_type": "code",
   "execution_count": 14,
   "metadata": {},
   "outputs": [
    {
     "name": "stdout",
     "output_type": "stream",
     "text": [
      "<class 'pandas.core.frame.DataFrame'>\n",
      "RangeIndex: 3260 entries, 0 to 3259\n",
      "Data columns (total 18 columns):\n",
      " #   Column          Non-Null Count  Dtype  \n",
      "---  ------          --------------  -----  \n",
      " 0   Age             3260 non-null   int64  \n",
      " 1   Gender          3260 non-null   int64  \n",
      " 2   BMI             3260 non-null   float64\n",
      " 3   SBP             3260 non-null   int64  \n",
      " 4   DBP             3260 non-null   int64  \n",
      " 5   FPG             3260 non-null   float64\n",
      " 6   Chol            3260 non-null   float64\n",
      " 7   Tri             3260 non-null   float64\n",
      " 8   HDL             3260 non-null   float64\n",
      " 9   LDL             3260 non-null   float64\n",
      " 10  ALT             3260 non-null   float64\n",
      " 11  BUN             3260 non-null   float64\n",
      " 12  CCR             3260 non-null   float64\n",
      " 13  FFPG            3260 non-null   float64\n",
      " 14  smoking         3260 non-null   float64\n",
      " 15  drinking        3260 non-null   float64\n",
      " 16  family_histroy  3260 non-null   int64  \n",
      " 17  Diabetes        3260 non-null   int64  \n",
      "dtypes: float64(12), int64(6)\n",
      "memory usage: 458.6 KB\n"
     ]
    }
   ],
   "source": [
    "diabetes_df = filtered_diabetes.copy()\n",
    "diabetes_df.info()"
   ]
  },
  {
   "cell_type": "code",
   "execution_count": 15,
   "metadata": {},
   "outputs": [
    {
     "data": {
      "text/plain": [
       "0    3000\n",
       "1     260\n",
       "Name: Diabetes, dtype: int64"
      ]
     },
     "execution_count": 15,
     "metadata": {},
     "output_type": "execute_result"
    }
   ],
   "source": [
    "# Getting number of patients with and without diabetes\n",
    "diabetes_df['Diabetes'].value_counts()"
   ]
  },
  {
   "cell_type": "markdown",
   "metadata": {},
   "source": [
    "After cleaning and preparation the cleaned dataset now contains 3260 rows with 18 columns containing numerical data types. Our target variable is the presence of diabetes which is indicated by the \"Diabetes\" column. Our independent, or feature, variables contain various health and lifestyle indicators ranging from numerical columns containing lab values of various health markers to categorical columns, such as smoking, drinking, and gender.  "
   ]
  },
  {
   "cell_type": "markdown",
   "metadata": {},
   "source": [
    "## Data Analysis"
   ]
  },
  {
   "cell_type": "code",
   "execution_count": 16,
   "metadata": {},
   "outputs": [
    {
     "data": {
      "text/plain": [
       "Diabetes          1.000000\n",
       "FFPG              0.525417\n",
       "FPG               0.362254\n",
       "Age               0.337337\n",
       "SBP               0.190874\n",
       "BMI               0.157559\n",
       "Tri               0.115426\n",
       "DBP               0.113250\n",
       "BUN               0.103984\n",
       "Chol              0.098017\n",
       "family_histroy    0.074080\n",
       "LDL               0.072715\n",
       "ALT               0.068399\n",
       "drinking          0.029131\n",
       "CCR               0.016781\n",
       "Gender           -0.067812\n",
       "HDL              -0.083152\n",
       "smoking          -0.101890\n",
       "Name: Diabetes, dtype: float64"
      ]
     },
     "execution_count": 16,
     "metadata": {},
     "output_type": "execute_result"
    }
   ],
   "source": [
    "diabetes_df.corr()[\"Diabetes\"].sort_values(ascending = False)"
   ]
  },
  {
   "cell_type": "code",
   "execution_count": 17,
   "metadata": {},
   "outputs": [
    {
     "data": {
      "image/png": "[encoded data removed]",
      "text/plain": [
       "<Figure size 576x432 with 2 Axes>"
      ]
     },
     "metadata": {
      "needs_background": "light"
     },
     "output_type": "display_data"
    }
   ],
   "source": [
    "plt.figure(figsize=(8, 6))\n",
    "sns.heatmap(diabetes_df.corr()[['Diabetes']].sort_values(by='Diabetes', ascending=False),\n",
    "            annot=True, cmap='coolwarm', vmin=-1, vmax=1)\n",
    "plt.title('Correlation Heatmap with Presence of Diabetes')\n",
    "plt.show()"
   ]
  },
  {
   "cell_type": "markdown",
   "metadata": {},
   "source": [
    "Looking at the correlations of the current variables we see that the top 3 highest correlates are:\n",
    "\n",
    "- FFPG (Final Fasting Plasma Glucose): highest correlation at 0.53\n",
    "- FPG (Fasting Plasma Glucose): 2nd highest correlation at 0.36\n",
    "- Age: 3rd highest correlation at 0.34"
   ]
  },
  {
   "cell_type": "code",
   "execution_count": 18,
   "metadata": {},
   "outputs": [
    {
     "data": {
      "image/png": "[encoded data removed]",
      "text/plain": [
       "<Figure size 2160x1440 with 2 Axes>"
      ]
     },
     "metadata": {
      "needs_background": "light"
     },
     "output_type": "display_data"
    }
   ],
   "source": [
    "#Generating Correlation matrix\n",
    "corr_matrix = diabetes_df.corr()\n",
    "fig, ax = plt.subplots(figsize=(30, 20))\n",
    "sns.heatmap(corr_matrix, cmap='coolwarm', annot=True, ax=ax)\n",
    "ax.set_title('Correlation Matrix')\n",
    "plt.show()"
   ]
  },
  {
   "cell_type": "markdown",
   "metadata": {},
   "source": [
    "Upon looking at the correlation matrix, two relationships standout which include:\n",
    "- CHOL and LDL: 0.87\n",
    "- SBP and DBP: 0.66\n",
    "\n",
    "I will leave these variables in for the current time being for the baseline model. May need to address these in future iterations. "
   ]
  },
  {
   "cell_type": "markdown",
   "metadata": {},
   "source": [
    "# 1st Baseline \"Dummy\" Model"
   ]
  },
  {
   "cell_type": "code",
   "execution_count": 19,
   "metadata": {},
   "outputs": [],
   "source": [
    "from sklearn.dummy import DummyClassifier\n",
    "\n",
    "#Separating target variable from predictors\n",
    "y = diabetes_df['Diabetes']\n",
    "X = diabetes_df.drop('Diabetes', axis=1)\n",
    "\n",
    "# Split the data into training and test sets\n",
    "X_train, X_test, y_train, y_test = train_test_split(X, y, random_state=42)"
   ]
  },
  {
   "cell_type": "code",
   "execution_count": 20,
   "metadata": {},
   "outputs": [
    {
     "data": {
      "text/plain": [
       "array([0, 0, 0, ..., 0, 0, 0])"
      ]
     },
     "execution_count": 20,
     "metadata": {},
     "output_type": "execute_result"
    }
   ],
   "source": [
    "#Instantiate the classifier\n",
    "# Dummy model that will always choose the majority \n",
    "dummy_model = DummyClassifier(strategy=\"most_frequent\")\n",
    "\n",
    "# Fit the model to the data\n",
    "dummy_model.fit(X_train, y_train) \n",
    "\n",
    "# Making predictions \n",
    "\n",
    "dummy_model.predict(X_train)\n"
   ]
  },
  {
   "cell_type": "code",
   "execution_count": 21,
   "metadata": {},
   "outputs": [],
   "source": [
    "y_pred = dummy_model.predict(X_test)"
   ]
  },
  {
   "cell_type": "markdown",
   "metadata": {},
   "source": [
    "## Model Evaluation"
   ]
  },
  {
   "cell_type": "code",
   "execution_count": 22,
   "metadata": {},
   "outputs": [
    {
     "data": {
      "text/plain": [
       "0.9190184049079755"
      ]
     },
     "execution_count": 22,
     "metadata": {},
     "output_type": "execute_result"
    }
   ],
   "source": [
    "dummy_score = dummy_model.score(X_test, y_test)\n",
    "dummy_score"
   ]
  },
  {
   "cell_type": "code",
   "execution_count": 23,
   "metadata": {},
   "outputs": [
    {
     "data": {
      "text/plain": [
       "array([0.92229039, 0.9202454 , 0.9202454 , 0.9202454 , 0.9202454 ])"
      ]
     },
     "execution_count": 23,
     "metadata": {},
     "output_type": "execute_result"
    }
   ],
   "source": [
    "# Using cross-validation to see model performance to new data\n",
    "cv_results = cross_val_score(dummy_model, X_train, y_train, cv=5)\n",
    "cv_results"
   ]
  },
  {
   "cell_type": "markdown",
   "metadata": {},
   "source": [
    "We can see our cross-validation yielded high accuracy scores. "
   ]
  },
  {
   "cell_type": "code",
   "execution_count": 24,
   "metadata": {},
   "outputs": [
    {
     "name": "stdout",
     "output_type": "stream",
     "text": [
      "              precision    recall  f1-score   support\n",
      "\n",
      "           0       0.92      1.00      0.96       749\n",
      "           1       0.00      0.00      0.00        66\n",
      "\n",
      "    accuracy                           0.92       815\n",
      "   macro avg       0.46      0.50      0.48       815\n",
      "weighted avg       0.84      0.92      0.88       815\n",
      "\n"
     ]
    },
    {
     "name": "stderr",
     "output_type": "stream",
     "text": [
      "/Users/lucaswilkerson/anaconda3/envs/learn-env/lib/python3.8/site-packages/sklearn/metrics/_classification.py:1221: UndefinedMetricWarning: Precision and F-score are ill-defined and being set to 0.0 in labels with no predicted samples. Use `zero_division` parameter to control this behavior.\n",
      "  _warn_prf(average, modifier, msg_start, len(result))\n"
     ]
    }
   ],
   "source": [
    "print(classification_report(y_test,y_pred))"
   ]
  },
  {
   "cell_type": "code",
   "execution_count": 25,
   "metadata": {},
   "outputs": [
    {
     "data": {
      "text/plain": [
       "array([[2251,    0],\n",
       "       [ 194,    0]])"
      ]
     },
     "execution_count": 25,
     "metadata": {},
     "output_type": "execute_result"
    }
   ],
   "source": [
    "# Confusion Matrix\n",
    "confusion_matrix(y_train, dummy_model.predict(X_train))"
   ]
  },
  {
   "cell_type": "code",
   "execution_count": 26,
   "metadata": {},
   "outputs": [
    {
     "data": {
      "text/plain": [
       "<sklearn.metrics._plot.roc_curve.RocCurveDisplay at 0x7f996ff91790>"
      ]
     },
     "execution_count": 26,
     "metadata": {},
     "output_type": "execute_result"
    },
    {
     "data": {
      "image/png": "[encoded data removed]",
      "text/plain": [
       "<Figure size 432x288 with 1 Axes>"
      ]
     },
     "metadata": {
      "needs_background": "light"
     },
     "output_type": "display_data"
    }
   ],
   "source": [
    "# Plotting ROC Curve\n",
    "plot_roc_curve(dummy_model, X_train, y_train)"
   ]
  },
  {
   "cell_type": "markdown",
   "metadata": {},
   "source": [
    "## Dummy Model Additional Class"
   ]
  },
  {
   "cell_type": "code",
   "execution_count": 20,
   "metadata": {},
   "outputs": [],
   "source": [
    "\"\"\"# Making a class to organize model and cross-validation\n",
    "class ModelWithCV():\n",
    "    '''Structure to save the model and more easily see its crossvalidation'''\n",
    "    \n",
    "    def __init__(self, model, model_name, X, y, cv_now=True):\n",
    "        self.model = model\n",
    "        self.name = model_name\n",
    "        self.X = X\n",
    "        self.y = y\n",
    "        # For CV results\n",
    "        self.cv_results = None\n",
    "        self.cv_mean = None\n",
    "        self.cv_median = None\n",
    "        self.cv_std = None\n",
    "        #\n",
    "        if cv_now:\n",
    "            self.cross_validate()\n",
    "        \n",
    "    def cross_validate(self, X=None, y=None, kfolds=10):\n",
    "        '''\n",
    "        Perform cross-validation and return results.\n",
    "        \n",
    "        Args: \n",
    "          X:\n",
    "            Optional; Training data to perform CV on. Otherwise use X from object\n",
    "          y:\n",
    "            Optional; Training data to perform CV on. Otherwise use y from object\n",
    "          kfolds:\n",
    "            Optional; Number of folds for CV (default is 10)  \n",
    "        '''\n",
    "        \n",
    "        cv_X = X if X else self.X\n",
    "        cv_y = y if y else self.y\n",
    "\n",
    "        self.cv_results = cross_val_score(self.model, cv_X, cv_y, cv=kfolds)\n",
    "        self.cv_mean = np.mean(self.cv_results)\n",
    "        self.cv_median = np.median(self.cv_results)\n",
    "        self.cv_std = np.std(self.cv_results)\n",
    "\n",
    "    def print_cv_summary(self):\n",
    "        cv_summary = (\n",
    "        f'''CV Results for `{self.name}` model:\n",
    "            {self.cv_mean:.5f} ± {self.cv_std:.5f} accuracy\n",
    "        ''')\n",
    "        print(cv_summary)\n",
    "\n",
    "        \n",
    "    def plot_cv(self, ax):\n",
    "        '''\n",
    "        Plot the cross-validation values using the array of results and given \n",
    "        Axis for plotting.\n",
    "        '''\n",
    "        ax.set_title(f'CV Results for `{self.name}` Model')\n",
    "        # Thinner violinplot with higher bw\n",
    "        sns.violinplot(y=self.cv_results, ax=ax, bw=.4)\n",
    "        sns.swarmplot(\n",
    "                y=self.cv_results,\n",
    "                color='orange',\n",
    "                size=10,\n",
    "                alpha= 0.8,\n",
    "                ax=ax\n",
    "        )\n",
    "\n",
    "        return ax\n",
    "        \"\"\""
   ]
  },
  {
   "cell_type": "code",
   "execution_count": 21,
   "metadata": {},
   "outputs": [],
   "source": [
    "\"\"\"dummy_model_results = ModelWithCV(\n",
    "                        model=dummy_model,\n",
    "                        model_name='dummy',\n",
    "                        X=X_train, \n",
    "                        y=y_train\n",
    ")\"\"\""
   ]
  },
  {
   "cell_type": "code",
   "execution_count": 22,
   "metadata": {},
   "outputs": [
    {
     "name": "stdout",
     "output_type": "stream",
     "text": [
      "CV Results for `dummy` model:\n",
      "            0.92066 ± 0.00187 accuracy\n",
      "        \n"
     ]
    },
    {
     "data": {
      "image/png": "[encoded data removed]",
      "text/plain": [
       "<Figure size 432x288 with 1 Axes>"
      ]
     },
     "metadata": {
      "needs_background": "light"
     },
     "output_type": "display_data"
    }
   ],
   "source": [
    "\"\"\"\n",
    "fig, ax = plt.subplots()\n",
    "\n",
    "ax = dummy_model_results.plot_cv(ax)\n",
    "plt.tight_layout();\n",
    "\n",
    "dummy_model_results.print_cv_summary() \"\"\""
   ]
  },
  {
   "cell_type": "code",
   "execution_count": 23,
   "metadata": {},
   "outputs": [
    {
     "data": {
      "image/png": "[encoded data removed]",
      "text/plain": [
       "<Figure size 432x288 with 2 Axes>"
      ]
     },
     "metadata": {
      "needs_background": "light"
     },
     "output_type": "display_data"
    }
   ],
   "source": [
    "\"\"\"\n",
    "fig, ax = plt.subplots()\n",
    "\n",
    "fig.suptitle(\"Dummy Model\")\n",
    "\n",
    "plot_confusion_matrix(dummy_model, X_train, y_train, ax=ax, cmap=\"plasma\");\"\"\""
   ]
  },
  {
   "cell_type": "markdown",
   "metadata": {},
   "source": [
    "## End of Dummy Model Additional Info"
   ]
  },
  {
   "cell_type": "markdown",
   "metadata": {},
   "source": [
    "## Baseline Model "
   ]
  },
  {
   "cell_type": "code",
   "execution_count": 27,
   "metadata": {},
   "outputs": [],
   "source": [
    "#Separating target variable from predictors\n",
    "y = diabetes_df['Diabetes']\n",
    "X = diabetes_df.drop('Diabetes', axis=1)\n",
    "\n",
    "# Split the data into training and test sets\n",
    "X_train, X_test, y_train, y_test = train_test_split(X, y, random_state=42)"
   ]
  },
  {
   "cell_type": "code",
   "execution_count": 28,
   "metadata": {},
   "outputs": [],
   "source": [
    "sm = SMOTE()\n",
    "#fit\n",
    "X_train_resample,y_train_resample = sm.fit_resample(X_train,y_train)"
   ]
  },
  {
   "cell_type": "code",
   "execution_count": 29,
   "metadata": {},
   "outputs": [
    {
     "data": {
      "text/html": [
       "<div>\n",
       "<style scoped>\n",
       "    .dataframe tbody tr th:only-of-type {\n",
       "        vertical-align: middle;\n",
       "    }\n",
       "\n",
       "    .dataframe tbody tr th {\n",
       "        vertical-align: top;\n",
       "    }\n",
       "\n",
       "    .dataframe thead th {\n",
       "        text-align: right;\n",
       "    }\n",
       "</style>\n",
       "<table border=\"1\" class=\"dataframe\">\n",
       "  <thead>\n",
       "    <tr style=\"text-align: right;\">\n",
       "      <th></th>\n",
       "      <th>Age</th>\n",
       "      <th>Gender</th>\n",
       "      <th>BMI</th>\n",
       "      <th>SBP</th>\n",
       "      <th>DBP</th>\n",
       "      <th>FPG</th>\n",
       "      <th>Chol</th>\n",
       "      <th>Tri</th>\n",
       "      <th>HDL</th>\n",
       "      <th>LDL</th>\n",
       "      <th>ALT</th>\n",
       "      <th>BUN</th>\n",
       "      <th>CCR</th>\n",
       "      <th>FFPG</th>\n",
       "      <th>smoking</th>\n",
       "      <th>drinking</th>\n",
       "      <th>family_histroy</th>\n",
       "    </tr>\n",
       "  </thead>\n",
       "  <tbody>\n",
       "    <tr>\n",
       "      <th>0</th>\n",
       "      <td>-1.520151</td>\n",
       "      <td>-0.554599</td>\n",
       "      <td>-1.565582</td>\n",
       "      <td>-0.342275</td>\n",
       "      <td>-0.323385</td>\n",
       "      <td>0.341187</td>\n",
       "      <td>-0.869595</td>\n",
       "      <td>-1.219286</td>\n",
       "      <td>0.868973</td>\n",
       "      <td>-0.482116</td>\n",
       "      <td>0.226632</td>\n",
       "      <td>-0.037813</td>\n",
       "      <td>-0.215865</td>\n",
       "      <td>-0.917241</td>\n",
       "      <td>0.735894</td>\n",
       "      <td>-1.876134</td>\n",
       "      <td>-0.199306</td>\n",
       "    </tr>\n",
       "    <tr>\n",
       "      <th>1</th>\n",
       "      <td>1.135859</td>\n",
       "      <td>1.803103</td>\n",
       "      <td>0.787829</td>\n",
       "      <td>1.205948</td>\n",
       "      <td>-0.044588</td>\n",
       "      <td>-0.256636</td>\n",
       "      <td>0.031992</td>\n",
       "      <td>7.344950</td>\n",
       "      <td>-1.013132</td>\n",
       "      <td>-2.511648</td>\n",
       "      <td>-0.287861</td>\n",
       "      <td>-0.300518</td>\n",
       "      <td>0.463229</td>\n",
       "      <td>-0.719357</td>\n",
       "      <td>0.735894</td>\n",
       "      <td>0.489199</td>\n",
       "      <td>-0.199306</td>\n",
       "    </tr>\n",
       "    <tr>\n",
       "      <th>2</th>\n",
       "      <td>-1.111534</td>\n",
       "      <td>-0.554599</td>\n",
       "      <td>-1.813310</td>\n",
       "      <td>-1.724618</td>\n",
       "      <td>-0.323385</td>\n",
       "      <td>-2.063100</td>\n",
       "      <td>-0.764215</td>\n",
       "      <td>-0.031343</td>\n",
       "      <td>-0.800063</td>\n",
       "      <td>-0.691038</td>\n",
       "      <td>-0.793248</td>\n",
       "      <td>0.011444</td>\n",
       "      <td>1.076391</td>\n",
       "      <td>-0.426194</td>\n",
       "      <td>-0.479097</td>\n",
       "      <td>-1.876134</td>\n",
       "      <td>-0.199306</td>\n",
       "    </tr>\n",
       "    <tr>\n",
       "      <th>3</th>\n",
       "      <td>-0.294300</td>\n",
       "      <td>-0.554599</td>\n",
       "      <td>1.097489</td>\n",
       "      <td>0.321249</td>\n",
       "      <td>0.234210</td>\n",
       "      <td>0.471149</td>\n",
       "      <td>1.495608</td>\n",
       "      <td>0.944795</td>\n",
       "      <td>0.762439</td>\n",
       "      <td>1.681724</td>\n",
       "      <td>0.035404</td>\n",
       "      <td>0.290568</td>\n",
       "      <td>0.199503</td>\n",
       "      <td>-0.294271</td>\n",
       "      <td>-1.694088</td>\n",
       "      <td>-1.876134</td>\n",
       "      <td>-0.199306</td>\n",
       "    </tr>\n",
       "    <tr>\n",
       "      <th>4</th>\n",
       "      <td>-1.315843</td>\n",
       "      <td>1.803103</td>\n",
       "      <td>-1.410753</td>\n",
       "      <td>-1.392855</td>\n",
       "      <td>-1.159777</td>\n",
       "      <td>-0.178659</td>\n",
       "      <td>-1.876563</td>\n",
       "      <td>-1.182450</td>\n",
       "      <td>0.371813</td>\n",
       "      <td>-1.646112</td>\n",
       "      <td>-0.743164</td>\n",
       "      <td>-0.776672</td>\n",
       "      <td>-1.026822</td>\n",
       "      <td>-1.019848</td>\n",
       "      <td>0.735894</td>\n",
       "      <td>0.489199</td>\n",
       "      <td>-0.199306</td>\n",
       "    </tr>\n",
       "  </tbody>\n",
       "</table>\n",
       "</div>"
      ],
      "text/plain": [
       "        Age    Gender       BMI       SBP       DBP       FPG      Chol  \\\n",
       "0 -1.520151 -0.554599 -1.565582 -0.342275 -0.323385  0.341187 -0.869595   \n",
       "1  1.135859  1.803103  0.787829  1.205948 -0.044588 -0.256636  0.031992   \n",
       "2 -1.111534 -0.554599 -1.813310 -1.724618 -0.323385 -2.063100 -0.764215   \n",
       "3 -0.294300 -0.554599  1.097489  0.321249  0.234210  0.471149  1.495608   \n",
       "4 -1.315843  1.803103 -1.410753 -1.392855 -1.159777 -0.178659 -1.876563   \n",
       "\n",
       "        Tri       HDL       LDL       ALT       BUN       CCR      FFPG  \\\n",
       "0 -1.219286  0.868973 -0.482116  0.226632 -0.037813 -0.215865 -0.917241   \n",
       "1  7.344950 -1.013132 -2.511648 -0.287861 -0.300518  0.463229 -0.719357   \n",
       "2 -0.031343 -0.800063 -0.691038 -0.793248  0.011444  1.076391 -0.426194   \n",
       "3  0.944795  0.762439  1.681724  0.035404  0.290568  0.199503 -0.294271   \n",
       "4 -1.182450  0.371813 -1.646112 -0.743164 -0.776672 -1.026822 -1.019848   \n",
       "\n",
       "    smoking  drinking  family_histroy  \n",
       "0  0.735894 -1.876134       -0.199306  \n",
       "1  0.735894  0.489199       -0.199306  \n",
       "2 -0.479097 -1.876134       -0.199306  \n",
       "3 -1.694088 -1.876134       -0.199306  \n",
       "4  0.735894  0.489199       -0.199306  "
      ]
     },
     "execution_count": 29,
     "metadata": {},
     "output_type": "execute_result"
    }
   ],
   "source": [
    "# Scaling the dataset\n",
    "scaler = StandardScaler()\n",
    "\n",
    "# Transform the training and test sets\n",
    "X_train_scaled = scaler.fit_transform(X_train_resample)\n",
    "X_test_scaled = scaler.transform(X_test)\n",
    "\n",
    "# Convert into a Dataframe\n",
    "scaled_data = pd.DataFrame(X_train_scaled, columns = X_train_resample.columns)\n",
    "scaled_data.head()"
   ]
  },
  {
   "cell_type": "code",
   "execution_count": 30,
   "metadata": {},
   "outputs": [],
   "source": [
    "#Instantiate the model \n",
    "\n",
    "baseline_model = LogisticRegression(random_state = 42)\n",
    "\n",
    "# Fit the model to the data\n",
    "baseline_model.fit(X_train_scaled, y_train_resample) \n",
    "\n",
    "# Making predictions \n",
    "y_base_pred= baseline_model.predict(X_test_scaled)\n",
    "\n",
    "#"
   ]
  },
  {
   "cell_type": "code",
   "execution_count": 34,
   "metadata": {},
   "outputs": [
    {
     "data": {
      "text/plain": [
       "0.9042944785276074"
      ]
     },
     "execution_count": 34,
     "metadata": {},
     "output_type": "execute_result"
    }
   ],
   "source": [
    "# Baseline test R^2\n",
    "baseline_score = baseline_model.score(X_test_scaled, y_test)\n",
    "baseline_r2 = baseline_score\n",
    "baseline_r2"
   ]
  },
  {
   "cell_type": "code",
   "execution_count": 32,
   "metadata": {},
   "outputs": [
    {
     "data": {
      "text/plain": [
       "array([0.87791343, 0.91675916, 0.88777778, 0.90111111, 0.90111111])"
      ]
     },
     "execution_count": 32,
     "metadata": {},
     "output_type": "execute_result"
    }
   ],
   "source": [
    "# Cross Validation\n",
    "base_cv = cross_val_score(baseline_model, X_train_scaled, y_train_resample)\n",
    "base_cv"
   ]
  },
  {
   "cell_type": "code",
   "execution_count": 33,
   "metadata": {},
   "outputs": [
    {
     "name": "stdout",
     "output_type": "stream",
     "text": [
      "              precision    recall  f1-score   support\n",
      "\n",
      "           0       0.99      0.91      0.95       749\n",
      "           1       0.45      0.86      0.59        66\n",
      "\n",
      "    accuracy                           0.90       815\n",
      "   macro avg       0.72      0.89      0.77       815\n",
      "weighted avg       0.94      0.90      0.92       815\n",
      "\n"
     ]
    }
   ],
   "source": [
    "# Classification report for confusion matrix \n",
    "baseline_report = classification_report(y_test, y_base_pred)\n",
    "print(baseline_report)"
   ]
  },
  {
   "cell_type": "code",
   "execution_count": null,
   "metadata": {},
   "outputs": [],
   "source": [
    "accuracy_score, f1_score, precision_score, recall_score"
   ]
  },
  {
   "cell_type": "code",
   "execution_count": 50,
   "metadata": {},
   "outputs": [
    {
     "name": "stdout",
     "output_type": "stream",
     "text": [
      "0.9042944785276074\n"
     ]
    }
   ],
   "source": [
    "print(accuracy_score(y_test, y_base_pred))"
   ]
  },
  {
   "cell_type": "code",
   "execution_count": 59,
   "metadata": {},
   "outputs": [],
   "source": [
    "def model_scores(model, X_train, X_test, y_train, y_test):\n",
    "    \n",
    "    train_r2 = model.score(X_train, y_train)\n",
    "    y_pred_train = model.predict(X_train)\n",
    "    \n",
    "    test_r2 = model.score(X_test, y_test)\n",
    "    y_pred_test = model.predict(X_test)\n",
    "    \n",
    "  \n",
    "    print(\"Model's R^2:\", test_r2)\n",
    "    print(\"Cross Validation Scores:\", cross_val_score(model, X_train, y_train))\n",
    "    \n",
    "    print(\"Model's Accuracy Score:\", accuracy_score(y_test, y_pred_test))\n",
    "    print(\"Model's Precision Score:\", precision_score(y_test, y_pred_test))\n",
    "    print(\"Model's F1 Score:\", f1_score(y_test, y_pred_test))\n",
    "    print(\"Model's Recall Score:\", recall_score(y_test, y_pred_test))"
   ]
  },
  {
   "cell_type": "code",
   "execution_count": 65,
   "metadata": {},
   "outputs": [
    {
     "name": "stdout",
     "output_type": "stream",
     "text": [
      "Model's R^2: 0.9042944785276074\n",
      "Cross Validation Scores: [0.87791343 0.91675916 0.88777778 0.90111111 0.90111111]\n",
      "Model's Accuracy Score: 0.9042944785276074\n",
      "Model's Precision Score: 0.4523809523809524\n",
      "Model's F1 Score: 0.59375\n",
      "Model's Recall Score: 0.8636363636363636\n"
     ]
    }
   ],
   "source": [
    "model_scores(baseline_model, X_train_scaled, X_test_scaled, y_train_resample, y_test)"
   ]
  },
  {
   "cell_type": "markdown",
   "metadata": {},
   "source": [
    "## Decision Tree Classifier"
   ]
  },
  {
   "cell_type": "code",
   "execution_count": 62,
   "metadata": {},
   "outputs": [
    {
     "name": "stdout",
     "output_type": "stream",
     "text": [
      "Trained data score:  0.9187027987561084\n",
      "Test data score:  0.8932515337423312\n"
     ]
    }
   ],
   "source": [
    "# Decision tree model classifier \n",
    "dt_classifier = DecisionTreeClassifier(random_state=42, max_depth = 5)\n",
    "\n",
    "dt_classifier.fit(X_train_scaled, y_train_resample)\n",
    "y_tree_pred = dt_classifier.predict(X_test_scaled)\n",
    "\n",
    "# Scoring on trained data\n",
    "dt_train_score = dt_classifier.score(X_train_scaled, y_train_resample)\n",
    "print('Trained data score: ', dt_train_score)\n",
    "\n",
    "# Scoring on test data\n",
    "dt_test_score = dt_classifier.score(X_test_scaled, y_test)\n",
    "print('Test data score: ', dt_test_score)\n"
   ]
  },
  {
   "cell_type": "code",
   "execution_count": 63,
   "metadata": {},
   "outputs": [
    {
     "data": {
      "text/plain": [
       "array([0.89234184, 0.90899001, 0.89444444, 0.90111111, 0.89777778])"
      ]
     },
     "execution_count": 63,
     "metadata": {},
     "output_type": "execute_result"
    }
   ],
   "source": [
    "# Cross validating model\n",
    "dt_cv = cross_val_score(dt_classifier, X_train_scaled, y_train_resample)\n",
    "dt_cv"
   ]
  },
  {
   "cell_type": "code",
   "execution_count": 66,
   "metadata": {},
   "outputs": [
    {
     "name": "stdout",
     "output_type": "stream",
     "text": [
      "Model's R^2: 0.8932515337423312\n",
      "Cross Validation Scores: [0.89234184 0.90899001 0.89444444 0.90111111 0.89777778]\n",
      "Model's Accuracy Score: 0.8932515337423312\n",
      "Model's Precision Score: 0.4117647058823529\n",
      "Model's F1 Score: 0.5297297297297296\n",
      "Model's Recall Score: 0.7424242424242424\n"
     ]
    }
   ],
   "source": [
    "# Checking classification metrics\n",
    "model_scores(dt_classifier, X_train_scaled, X_test_scaled, y_train_resample, y_test)\n",
    "    "
   ]
  },
  {
   "cell_type": "markdown",
   "metadata": {},
   "source": [
    "## K-Nearest Neighbors"
   ]
  },
  {
   "cell_type": "code",
   "execution_count": 95,
   "metadata": {},
   "outputs": [
    {
     "name": "stdout",
     "output_type": "stream",
     "text": [
      "Trained data score:  0.950244335850733\n",
      "Test data score:  0.8478527607361963\n",
      "Cross validation scores: [0.94117647 0.92785794 0.92222222 0.93333333 0.92333333]\n",
      "Model's R^2: 0.8478527607361963\n",
      "Cross Validation Scores: [0.94117647 0.92785794 0.92222222 0.93333333 0.92333333]\n",
      "Model's Accuracy Score: 0.8478527607361963\n",
      "Model's Precision Score: 0.3013698630136986\n",
      "Model's F1 Score: 0.41509433962264153\n",
      "Model's Recall Score: 0.6666666666666666\n"
     ]
    }
   ],
   "source": [
    "# Instantiate KNN Model \n",
    "knn = KNeighborsClassifier()\n",
    "\n",
    "knn.fit(X_train_scaled, y_train_resample)\n",
    "knn_y_pred = knn.predict(X_test_scaled)\n",
    "\n",
    "# Knn Train Model Score\n",
    "knn_train_score = knn.score(X_train_scaled, y_train_resample)\n",
    "knn_train_score\n",
    "print('Trained data score: ', knn_train_score)\n",
    "\n",
    "# Knn Test Model Score\n",
    "knn_test_score = knn.score(X_test_scaled, y_test)\n",
    "knn_test_score\n",
    "print('Test data score: ', knn_test_score)\n",
    "\n",
    "# Cross validating model\n",
    "knn_cv = cross_val_score(knn, X_train_scaled, y_train_resample)\n",
    "knn_cv\n",
    "print('Cross validation scores:', knn_cv)\n",
    "\n",
    "\n",
    "# Checking classification metrics\n",
    "model_scores(knn, X_train_scaled, X_test_scaled, y_train_resample, y_test)"
   ]
  },
  {
   "cell_type": "code",
   "execution_count": 84,
   "metadata": {},
   "outputs": [
    {
     "name": "stdout",
     "output_type": "stream",
     "text": [
      "              precision    recall  f1-score   support\n",
      "\n",
      "           0       0.97      0.86      0.91       749\n",
      "           1       0.30      0.67      0.42        66\n",
      "\n",
      "    accuracy                           0.85       815\n",
      "   macro avg       0.63      0.77      0.66       815\n",
      "weighted avg       0.91      0.85      0.87       815\n",
      "\n"
     ]
    }
   ],
   "source": [
    "# Classification report for confusion matrix \n",
    "knn_report = classification_report(y_test, knn_y_pred)\n",
    "print(knn_report)"
   ]
  },
  {
   "cell_type": "markdown",
   "metadata": {},
   "source": [
    "## Random Forest"
   ]
  },
  {
   "cell_type": "code",
   "execution_count": 87,
   "metadata": {},
   "outputs": [
    {
     "name": "stdout",
     "output_type": "stream",
     "text": [
      "Trained data score:  1.0\n",
      "Test data score:  0.9325153374233128\n",
      "Cross validation scores: [0.95338513 0.96448391 0.95333333 0.95555556 0.96333333]\n",
      "Model's R^2: 0.9325153374233128\n",
      "Cross Validation Scores: [0.95338513 0.96448391 0.95333333 0.95555556 0.96333333]\n",
      "Model's Accuracy Score: 0.9325153374233128\n",
      "Model's Precision Score: 0.569620253164557\n",
      "Model's F1 Score: 0.6206896551724138\n",
      "Model's Recall Score: 0.6818181818181818\n"
     ]
    }
   ],
   "source": [
    "# Random forest classifier model\n",
    "# may need to tune and add n_estimators = 4\n",
    "rfc = RandomForestClassifier(random_state=42)\n",
    "rfc.fit(X_train_scaled, y_train_resample)\n",
    "\n",
    "# Getting test predictions\n",
    "y_rfc_pred = rfc.predict(X_test_scaled)\n",
    "\n",
    "# Random Forest Train Model Score\n",
    "rfc_train_score = rfc.score(X_train_scaled, y_train_resample)\n",
    "rfc_train_score\n",
    "print('Trained data score: ', rfc_train_score)\n",
    "\n",
    "# Random Forest Test Model Score\n",
    "rfc_test_score = rfc.score(X_test_scaled, y_test)\n",
    "rfc_test_score\n",
    "print('Test data score: ', rfc_test_score)\n",
    "\n",
    "# Cross validating model\n",
    "rfc_cv = cross_val_score(rfc, X_train_scaled, y_train_resample)\n",
    "rfc_cv\n",
    "print('Cross validation scores:', rfc_cv)\n",
    "\n",
    "\n",
    "# Checking classification metrics\n",
    "model_scores(rfc, X_train_scaled, X_test_scaled, y_train_resample, y_test)"
   ]
  },
  {
   "cell_type": "code",
   "execution_count": 55,
   "metadata": {},
   "outputs": [],
   "source": [
    "# potential feature selection/engineering or pipelines"
   ]
  },
  {
   "cell_type": "code",
   "execution_count": 92,
   "metadata": {},
   "outputs": [
    {
     "name": "stdout",
     "output_type": "stream",
     "text": [
      "LogisticRegression(random_state=42)\n",
      "Model's R^2: 0.9042944785276074\n",
      "Cross Validation Scores: [0.87791343 0.91675916 0.88777778 0.90111111 0.90111111]\n",
      "Model's Accuracy Score: 0.9042944785276074\n",
      "Model's Precision Score: 0.4523809523809524\n",
      "Model's F1 Score: 0.59375\n",
      "Model's Recall Score: 0.8636363636363636\n",
      "None\n",
      "DecisionTreeClassifier(max_depth=5, random_state=42)\n",
      "Model's R^2: 0.8932515337423312\n",
      "Cross Validation Scores: [0.89234184 0.90899001 0.89444444 0.90111111 0.89777778]\n",
      "Model's Accuracy Score: 0.8932515337423312\n",
      "Model's Precision Score: 0.4117647058823529\n",
      "Model's F1 Score: 0.5297297297297296\n",
      "Model's Recall Score: 0.7424242424242424\n",
      "None\n",
      "KNeighborsClassifier()\n",
      "Model's R^2: 0.8478527607361963\n",
      "Cross Validation Scores: [0.94117647 0.92785794 0.92222222 0.93333333 0.92333333]\n",
      "Model's Accuracy Score: 0.8478527607361963\n",
      "Model's Precision Score: 0.3013698630136986\n",
      "Model's F1 Score: 0.41509433962264153\n",
      "Model's Recall Score: 0.6666666666666666\n",
      "None\n",
      "RandomForestClassifier(random_state=42)\n",
      "Model's R^2: 0.9325153374233128\n",
      "Cross Validation Scores: [0.95338513 0.96448391 0.95333333 0.95555556 0.96333333]\n",
      "Model's Accuracy Score: 0.9325153374233128\n",
      "Model's Precision Score: 0.569620253164557\n",
      "Model's F1 Score: 0.6206896551724138\n",
      "Model's Recall Score: 0.6818181818181818\n",
      "None\n"
     ]
    }
   ],
   "source": [
    "models = [baseline_model, dt_classifier, knn, rfc]\n",
    "for model in models:\n",
    "    print(model)\n",
    "    print(model_scores(model, X_train_scaled, X_test_scaled, y_train_resample, y_test))"
   ]
  },
  {
   "cell_type": "markdown",
   "metadata": {},
   "source": [
    "I will be using recall and accuracy as evaluation metrics more so than precision. As a preventive/treatment measure, I find that having a higher recall in this case can be warranted. With diabetes being a gateway disease, early treatment and lifestyle intervention would have a higher chance for positive outcomes. \n",
    "\n",
    "\"Out of all the patients we saw that actually had the disease, what percentage of them did our model correctly identify as having the disease?\"\n",
    "\n",
    "\"A doctor that is overly obsessed with recall will have a very low threshold for declaring someone as sick because they are most worried about sick patients. Their precision will be quite low, because they classify almost everyone as sick, and don't care when they're wrong -- they only care about making sure that sick people are identified as sick.\""
   ]
  },
  {
   "cell_type": "code",
   "execution_count": null,
   "metadata": {},
   "outputs": [],
   "source": []
  },
  {
   "cell_type": "markdown",
   "metadata": {},
   "source": [
    "## Parameter Tuning \n",
    "### GridSearch"
   ]
  },
  {
   "cell_type": "code",
   "execution_count": 97,
   "metadata": {},
   "outputs": [
    {
     "name": "stderr",
     "output_type": "stream",
     "text": [
      "/Users/lucaswilkerson/anaconda3/envs/learn-env/lib/python3.8/site-packages/sklearn/model_selection/_validation.py:548: FitFailedWarning: Estimator fit failed. The score on this train-test partition for these parameters will be set to nan. Details: \n",
      "Traceback (most recent call last):\n",
      "  File \"/Users/lucaswilkerson/anaconda3/envs/learn-env/lib/python3.8/site-packages/sklearn/model_selection/_validation.py\", line 531, in _fit_and_score\n",
      "    estimator.fit(X_train, y_train, **fit_params)\n",
      "  File \"/Users/lucaswilkerson/anaconda3/envs/learn-env/lib/python3.8/site-packages/sklearn/ensemble/_forest.py\", line 386, in fit\n",
      "    trees = Parallel(n_jobs=self.n_jobs, verbose=self.verbose,\n",
      "  File \"/Users/lucaswilkerson/anaconda3/envs/learn-env/lib/python3.8/site-packages/joblib/parallel.py\", line 1048, in __call__\n",
      "    if self.dispatch_one_batch(iterator):\n",
      "  File \"/Users/lucaswilkerson/anaconda3/envs/learn-env/lib/python3.8/site-packages/joblib/parallel.py\", line 866, in dispatch_one_batch\n",
      "    self._dispatch(tasks)\n",
      "  File \"/Users/lucaswilkerson/anaconda3/envs/learn-env/lib/python3.8/site-packages/joblib/parallel.py\", line 784, in _dispatch\n",
      "    job = self._backend.apply_async(batch, callback=cb)\n",
      "  File \"/Users/lucaswilkerson/anaconda3/envs/learn-env/lib/python3.8/site-packages/joblib/_parallel_backends.py\", line 208, in apply_async\n",
      "    result = ImmediateResult(func)\n",
      "  File \"/Users/lucaswilkerson/anaconda3/envs/learn-env/lib/python3.8/site-packages/joblib/_parallel_backends.py\", line 572, in __init__\n",
      "    self.results = batch()\n",
      "  File \"/Users/lucaswilkerson/anaconda3/envs/learn-env/lib/python3.8/site-packages/joblib/parallel.py\", line 262, in __call__\n",
      "    return [func(*args, **kwargs)\n",
      "  File \"/Users/lucaswilkerson/anaconda3/envs/learn-env/lib/python3.8/site-packages/joblib/parallel.py\", line 262, in <listcomp>\n",
      "    return [func(*args, **kwargs)\n",
      "  File \"/Users/lucaswilkerson/anaconda3/envs/learn-env/lib/python3.8/site-packages/sklearn/ensemble/_forest.py\", line 168, in _parallel_build_trees\n",
      "    tree.fit(X, y, sample_weight=curr_sample_weight, check_input=False)\n",
      "  File \"/Users/lucaswilkerson/anaconda3/envs/learn-env/lib/python3.8/site-packages/sklearn/tree/_classes.py\", line 890, in fit\n",
      "    super().fit(\n",
      "  File \"/Users/lucaswilkerson/anaconda3/envs/learn-env/lib/python3.8/site-packages/sklearn/tree/_classes.py\", line 228, in fit\n",
      "    raise ValueError(\"min_samples_split must be an integer \"\n",
      "ValueError: min_samples_split must be an integer greater than 1 or a float in (0.0, 1.0]; got the integer 1\n",
      "\n",
      "  warnings.warn(\"Estimator fit failed. The score on this train-test\"\n",
      "/Users/lucaswilkerson/anaconda3/envs/learn-env/lib/python3.8/site-packages/sklearn/model_selection/_validation.py:548: FitFailedWarning: Estimator fit failed. The score on this train-test partition for these parameters will be set to nan. Details: \n",
      "Traceback (most recent call last):\n",
      "  File \"/Users/lucaswilkerson/anaconda3/envs/learn-env/lib/python3.8/site-packages/sklearn/model_selection/_validation.py\", line 531, in _fit_and_score\n",
      "    estimator.fit(X_train, y_train, **fit_params)\n",
      "  File \"/Users/lucaswilkerson/anaconda3/envs/learn-env/lib/python3.8/site-packages/sklearn/ensemble/_forest.py\", line 386, in fit\n",
      "    trees = Parallel(n_jobs=self.n_jobs, verbose=self.verbose,\n",
      "  File \"/Users/lucaswilkerson/anaconda3/envs/learn-env/lib/python3.8/site-packages/joblib/parallel.py\", line 1048, in __call__\n",
      "    if self.dispatch_one_batch(iterator):\n",
      "  File \"/Users/lucaswilkerson/anaconda3/envs/learn-env/lib/python3.8/site-packages/joblib/parallel.py\", line 866, in dispatch_one_batch\n",
      "    self._dispatch(tasks)\n",
      "  File \"/Users/lucaswilkerson/anaconda3/envs/learn-env/lib/python3.8/site-packages/joblib/parallel.py\", line 784, in _dispatch\n",
      "    job = self._backend.apply_async(batch, callback=cb)\n",
      "  File \"/Users/lucaswilkerson/anaconda3/envs/learn-env/lib/python3.8/site-packages/joblib/_parallel_backends.py\", line 208, in apply_async\n",
      "    result = ImmediateResult(func)\n",
      "  File \"/Users/lucaswilkerson/anaconda3/envs/learn-env/lib/python3.8/site-packages/joblib/_parallel_backends.py\", line 572, in __init__\n",
      "    self.results = batch()\n",
      "  File \"/Users/lucaswilkerson/anaconda3/envs/learn-env/lib/python3.8/site-packages/joblib/parallel.py\", line 262, in __call__\n",
      "    return [func(*args, **kwargs)\n",
      "  File \"/Users/lucaswilkerson/anaconda3/envs/learn-env/lib/python3.8/site-packages/joblib/parallel.py\", line 262, in <listcomp>\n",
      "    return [func(*args, **kwargs)\n",
      "  File \"/Users/lucaswilkerson/anaconda3/envs/learn-env/lib/python3.8/site-packages/sklearn/ensemble/_forest.py\", line 168, in _parallel_build_trees\n",
      "    tree.fit(X, y, sample_weight=curr_sample_weight, check_input=False)\n",
      "  File \"/Users/lucaswilkerson/anaconda3/envs/learn-env/lib/python3.8/site-packages/sklearn/tree/_classes.py\", line 890, in fit\n",
      "    super().fit(\n",
      "  File \"/Users/lucaswilkerson/anaconda3/envs/learn-env/lib/python3.8/site-packages/sklearn/tree/_classes.py\", line 228, in fit\n",
      "    raise ValueError(\"min_samples_split must be an integer \"\n",
      "ValueError: min_samples_split must be an integer greater than 1 or a float in (0.0, 1.0]; got the integer 1\n",
      "\n",
      "  warnings.warn(\"Estimator fit failed. The score on this train-test\"\n",
      "/Users/lucaswilkerson/anaconda3/envs/learn-env/lib/python3.8/site-packages/sklearn/model_selection/_validation.py:548: FitFailedWarning: Estimator fit failed. The score on this train-test partition for these parameters will be set to nan. Details: \n",
      "Traceback (most recent call last):\n",
      "  File \"/Users/lucaswilkerson/anaconda3/envs/learn-env/lib/python3.8/site-packages/sklearn/model_selection/_validation.py\", line 531, in _fit_and_score\n",
      "    estimator.fit(X_train, y_train, **fit_params)\n",
      "  File \"/Users/lucaswilkerson/anaconda3/envs/learn-env/lib/python3.8/site-packages/sklearn/ensemble/_forest.py\", line 386, in fit\n",
      "    trees = Parallel(n_jobs=self.n_jobs, verbose=self.verbose,\n",
      "  File \"/Users/lucaswilkerson/anaconda3/envs/learn-env/lib/python3.8/site-packages/joblib/parallel.py\", line 1048, in __call__\n",
      "    if self.dispatch_one_batch(iterator):\n",
      "  File \"/Users/lucaswilkerson/anaconda3/envs/learn-env/lib/python3.8/site-packages/joblib/parallel.py\", line 866, in dispatch_one_batch\n",
      "    self._dispatch(tasks)\n",
      "  File \"/Users/lucaswilkerson/anaconda3/envs/learn-env/lib/python3.8/site-packages/joblib/parallel.py\", line 784, in _dispatch\n",
      "    job = self._backend.apply_async(batch, callback=cb)\n",
      "  File \"/Users/lucaswilkerson/anaconda3/envs/learn-env/lib/python3.8/site-packages/joblib/_parallel_backends.py\", line 208, in apply_async\n",
      "    result = ImmediateResult(func)\n",
      "  File \"/Users/lucaswilkerson/anaconda3/envs/learn-env/lib/python3.8/site-packages/joblib/_parallel_backends.py\", line 572, in __init__\n",
      "    self.results = batch()\n",
      "  File \"/Users/lucaswilkerson/anaconda3/envs/learn-env/lib/python3.8/site-packages/joblib/parallel.py\", line 262, in __call__\n",
      "    return [func(*args, **kwargs)\n",
      "  File \"/Users/lucaswilkerson/anaconda3/envs/learn-env/lib/python3.8/site-packages/joblib/parallel.py\", line 262, in <listcomp>\n",
      "    return [func(*args, **kwargs)\n",
      "  File \"/Users/lucaswilkerson/anaconda3/envs/learn-env/lib/python3.8/site-packages/sklearn/ensemble/_forest.py\", line 168, in _parallel_build_trees\n",
      "    tree.fit(X, y, sample_weight=curr_sample_weight, check_input=False)\n",
      "  File \"/Users/lucaswilkerson/anaconda3/envs/learn-env/lib/python3.8/site-packages/sklearn/tree/_classes.py\", line 890, in fit\n",
      "    super().fit(\n",
      "  File \"/Users/lucaswilkerson/anaconda3/envs/learn-env/lib/python3.8/site-packages/sklearn/tree/_classes.py\", line 228, in fit\n",
      "    raise ValueError(\"min_samples_split must be an integer \"\n",
      "ValueError: min_samples_split must be an integer greater than 1 or a float in (0.0, 1.0]; got the integer 1\n",
      "\n",
      "  warnings.warn(\"Estimator fit failed. The score on this train-test\"\n",
      "/Users/lucaswilkerson/anaconda3/envs/learn-env/lib/python3.8/site-packages/sklearn/model_selection/_validation.py:548: FitFailedWarning: Estimator fit failed. The score on this train-test partition for these parameters will be set to nan. Details: \n",
      "Traceback (most recent call last):\n",
      "  File \"/Users/lucaswilkerson/anaconda3/envs/learn-env/lib/python3.8/site-packages/sklearn/model_selection/_validation.py\", line 531, in _fit_and_score\n",
      "    estimator.fit(X_train, y_train, **fit_params)\n",
      "  File \"/Users/lucaswilkerson/anaconda3/envs/learn-env/lib/python3.8/site-packages/sklearn/ensemble/_forest.py\", line 386, in fit\n",
      "    trees = Parallel(n_jobs=self.n_jobs, verbose=self.verbose,\n",
      "  File \"/Users/lucaswilkerson/anaconda3/envs/learn-env/lib/python3.8/site-packages/joblib/parallel.py\", line 1048, in __call__\n",
      "    if self.dispatch_one_batch(iterator):\n",
      "  File \"/Users/lucaswilkerson/anaconda3/envs/learn-env/lib/python3.8/site-packages/joblib/parallel.py\", line 866, in dispatch_one_batch\n",
      "    self._dispatch(tasks)\n",
      "  File \"/Users/lucaswilkerson/anaconda3/envs/learn-env/lib/python3.8/site-packages/joblib/parallel.py\", line 784, in _dispatch\n",
      "    job = self._backend.apply_async(batch, callback=cb)\n",
      "  File \"/Users/lucaswilkerson/anaconda3/envs/learn-env/lib/python3.8/site-packages/joblib/_parallel_backends.py\", line 208, in apply_async\n",
      "    result = ImmediateResult(func)\n",
      "  File \"/Users/lucaswilkerson/anaconda3/envs/learn-env/lib/python3.8/site-packages/joblib/_parallel_backends.py\", line 572, in __init__\n",
      "    self.results = batch()\n",
      "  File \"/Users/lucaswilkerson/anaconda3/envs/learn-env/lib/python3.8/site-packages/joblib/parallel.py\", line 262, in __call__\n",
      "    return [func(*args, **kwargs)\n",
      "  File \"/Users/lucaswilkerson/anaconda3/envs/learn-env/lib/python3.8/site-packages/joblib/parallel.py\", line 262, in <listcomp>\n",
      "    return [func(*args, **kwargs)\n",
      "  File \"/Users/lucaswilkerson/anaconda3/envs/learn-env/lib/python3.8/site-packages/sklearn/ensemble/_forest.py\", line 168, in _parallel_build_trees\n",
      "    tree.fit(X, y, sample_weight=curr_sample_weight, check_input=False)\n",
      "  File \"/Users/lucaswilkerson/anaconda3/envs/learn-env/lib/python3.8/site-packages/sklearn/tree/_classes.py\", line 890, in fit\n",
      "    super().fit(\n",
      "  File \"/Users/lucaswilkerson/anaconda3/envs/learn-env/lib/python3.8/site-packages/sklearn/tree/_classes.py\", line 228, in fit\n",
      "    raise ValueError(\"min_samples_split must be an integer \"\n",
      "ValueError: min_samples_split must be an integer greater than 1 or a float in (0.0, 1.0]; got the integer 1\n",
      "\n",
      "  warnings.warn(\"Estimator fit failed. The score on this train-test\"\n",
      "/Users/lucaswilkerson/anaconda3/envs/learn-env/lib/python3.8/site-packages/sklearn/model_selection/_validation.py:548: FitFailedWarning: Estimator fit failed. The score on this train-test partition for these parameters will be set to nan. Details: \n",
      "Traceback (most recent call last):\n",
      "  File \"/Users/lucaswilkerson/anaconda3/envs/learn-env/lib/python3.8/site-packages/sklearn/model_selection/_validation.py\", line 531, in _fit_and_score\n",
      "    estimator.fit(X_train, y_train, **fit_params)\n",
      "  File \"/Users/lucaswilkerson/anaconda3/envs/learn-env/lib/python3.8/site-packages/sklearn/ensemble/_forest.py\", line 386, in fit\n",
      "    trees = Parallel(n_jobs=self.n_jobs, verbose=self.verbose,\n",
      "  File \"/Users/lucaswilkerson/anaconda3/envs/learn-env/lib/python3.8/site-packages/joblib/parallel.py\", line 1048, in __call__\n",
      "    if self.dispatch_one_batch(iterator):\n",
      "  File \"/Users/lucaswilkerson/anaconda3/envs/learn-env/lib/python3.8/site-packages/joblib/parallel.py\", line 866, in dispatch_one_batch\n",
      "    self._dispatch(tasks)\n",
      "  File \"/Users/lucaswilkerson/anaconda3/envs/learn-env/lib/python3.8/site-packages/joblib/parallel.py\", line 784, in _dispatch\n",
      "    job = self._backend.apply_async(batch, callback=cb)\n",
      "  File \"/Users/lucaswilkerson/anaconda3/envs/learn-env/lib/python3.8/site-packages/joblib/_parallel_backends.py\", line 208, in apply_async\n",
      "    result = ImmediateResult(func)\n",
      "  File \"/Users/lucaswilkerson/anaconda3/envs/learn-env/lib/python3.8/site-packages/joblib/_parallel_backends.py\", line 572, in __init__\n",
      "    self.results = batch()\n",
      "  File \"/Users/lucaswilkerson/anaconda3/envs/learn-env/lib/python3.8/site-packages/joblib/parallel.py\", line 262, in __call__\n",
      "    return [func(*args, **kwargs)\n",
      "  File \"/Users/lucaswilkerson/anaconda3/envs/learn-env/lib/python3.8/site-packages/joblib/parallel.py\", line 262, in <listcomp>\n",
      "    return [func(*args, **kwargs)\n",
      "  File \"/Users/lucaswilkerson/anaconda3/envs/learn-env/lib/python3.8/site-packages/sklearn/ensemble/_forest.py\", line 168, in _parallel_build_trees\n",
      "    tree.fit(X, y, sample_weight=curr_sample_weight, check_input=False)\n",
      "  File \"/Users/lucaswilkerson/anaconda3/envs/learn-env/lib/python3.8/site-packages/sklearn/tree/_classes.py\", line 890, in fit\n",
      "    super().fit(\n",
      "  File \"/Users/lucaswilkerson/anaconda3/envs/learn-env/lib/python3.8/site-packages/sklearn/tree/_classes.py\", line 228, in fit\n",
      "    raise ValueError(\"min_samples_split must be an integer \"\n",
      "ValueError: min_samples_split must be an integer greater than 1 or a float in (0.0, 1.0]; got the integer 1\n",
      "\n",
      "  warnings.warn(\"Estimator fit failed. The score on this train-test\"\n",
      "/Users/lucaswilkerson/anaconda3/envs/learn-env/lib/python3.8/site-packages/sklearn/model_selection/_validation.py:548: FitFailedWarning: Estimator fit failed. The score on this train-test partition for these parameters will be set to nan. Details: \n",
      "Traceback (most recent call last):\n",
      "  File \"/Users/lucaswilkerson/anaconda3/envs/learn-env/lib/python3.8/site-packages/sklearn/model_selection/_validation.py\", line 531, in _fit_and_score\n",
      "    estimator.fit(X_train, y_train, **fit_params)\n",
      "  File \"/Users/lucaswilkerson/anaconda3/envs/learn-env/lib/python3.8/site-packages/sklearn/ensemble/_forest.py\", line 386, in fit\n",
      "    trees = Parallel(n_jobs=self.n_jobs, verbose=self.verbose,\n",
      "  File \"/Users/lucaswilkerson/anaconda3/envs/learn-env/lib/python3.8/site-packages/joblib/parallel.py\", line 1048, in __call__\n",
      "    if self.dispatch_one_batch(iterator):\n",
      "  File \"/Users/lucaswilkerson/anaconda3/envs/learn-env/lib/python3.8/site-packages/joblib/parallel.py\", line 866, in dispatch_one_batch\n",
      "    self._dispatch(tasks)\n",
      "  File \"/Users/lucaswilkerson/anaconda3/envs/learn-env/lib/python3.8/site-packages/joblib/parallel.py\", line 784, in _dispatch\n",
      "    job = self._backend.apply_async(batch, callback=cb)\n",
      "  File \"/Users/lucaswilkerson/anaconda3/envs/learn-env/lib/python3.8/site-packages/joblib/_parallel_backends.py\", line 208, in apply_async\n",
      "    result = ImmediateResult(func)\n",
      "  File \"/Users/lucaswilkerson/anaconda3/envs/learn-env/lib/python3.8/site-packages/joblib/_parallel_backends.py\", line 572, in __init__\n",
      "    self.results = batch()\n",
      "  File \"/Users/lucaswilkerson/anaconda3/envs/learn-env/lib/python3.8/site-packages/joblib/parallel.py\", line 262, in __call__\n",
      "    return [func(*args, **kwargs)\n",
      "  File \"/Users/lucaswilkerson/anaconda3/envs/learn-env/lib/python3.8/site-packages/joblib/parallel.py\", line 262, in <listcomp>\n",
      "    return [func(*args, **kwargs)\n",
      "  File \"/Users/lucaswilkerson/anaconda3/envs/learn-env/lib/python3.8/site-packages/sklearn/ensemble/_forest.py\", line 168, in _parallel_build_trees\n",
      "    tree.fit(X, y, sample_weight=curr_sample_weight, check_input=False)\n",
      "  File \"/Users/lucaswilkerson/anaconda3/envs/learn-env/lib/python3.8/site-packages/sklearn/tree/_classes.py\", line 890, in fit\n",
      "    super().fit(\n",
      "  File \"/Users/lucaswilkerson/anaconda3/envs/learn-env/lib/python3.8/site-packages/sklearn/tree/_classes.py\", line 228, in fit\n",
      "    raise ValueError(\"min_samples_split must be an integer \"\n",
      "ValueError: min_samples_split must be an integer greater than 1 or a float in (0.0, 1.0]; got the integer 1\n",
      "\n",
      "  warnings.warn(\"Estimator fit failed. The score on this train-test\"\n"
     ]
    },
    {
     "name": "stderr",
     "output_type": "stream",
     "text": [
      "/Users/lucaswilkerson/anaconda3/envs/learn-env/lib/python3.8/site-packages/sklearn/model_selection/_validation.py:548: FitFailedWarning: Estimator fit failed. The score on this train-test partition for these parameters will be set to nan. Details: \n",
      "Traceback (most recent call last):\n",
      "  File \"/Users/lucaswilkerson/anaconda3/envs/learn-env/lib/python3.8/site-packages/sklearn/model_selection/_validation.py\", line 531, in _fit_and_score\n",
      "    estimator.fit(X_train, y_train, **fit_params)\n",
      "  File \"/Users/lucaswilkerson/anaconda3/envs/learn-env/lib/python3.8/site-packages/sklearn/ensemble/_forest.py\", line 386, in fit\n",
      "    trees = Parallel(n_jobs=self.n_jobs, verbose=self.verbose,\n",
      "  File \"/Users/lucaswilkerson/anaconda3/envs/learn-env/lib/python3.8/site-packages/joblib/parallel.py\", line 1048, in __call__\n",
      "    if self.dispatch_one_batch(iterator):\n",
      "  File \"/Users/lucaswilkerson/anaconda3/envs/learn-env/lib/python3.8/site-packages/joblib/parallel.py\", line 866, in dispatch_one_batch\n",
      "    self._dispatch(tasks)\n",
      "  File \"/Users/lucaswilkerson/anaconda3/envs/learn-env/lib/python3.8/site-packages/joblib/parallel.py\", line 784, in _dispatch\n",
      "    job = self._backend.apply_async(batch, callback=cb)\n",
      "  File \"/Users/lucaswilkerson/anaconda3/envs/learn-env/lib/python3.8/site-packages/joblib/_parallel_backends.py\", line 208, in apply_async\n",
      "    result = ImmediateResult(func)\n",
      "  File \"/Users/lucaswilkerson/anaconda3/envs/learn-env/lib/python3.8/site-packages/joblib/_parallel_backends.py\", line 572, in __init__\n",
      "    self.results = batch()\n",
      "  File \"/Users/lucaswilkerson/anaconda3/envs/learn-env/lib/python3.8/site-packages/joblib/parallel.py\", line 262, in __call__\n",
      "    return [func(*args, **kwargs)\n",
      "  File \"/Users/lucaswilkerson/anaconda3/envs/learn-env/lib/python3.8/site-packages/joblib/parallel.py\", line 262, in <listcomp>\n",
      "    return [func(*args, **kwargs)\n",
      "  File \"/Users/lucaswilkerson/anaconda3/envs/learn-env/lib/python3.8/site-packages/sklearn/ensemble/_forest.py\", line 168, in _parallel_build_trees\n",
      "    tree.fit(X, y, sample_weight=curr_sample_weight, check_input=False)\n",
      "  File \"/Users/lucaswilkerson/anaconda3/envs/learn-env/lib/python3.8/site-packages/sklearn/tree/_classes.py\", line 890, in fit\n",
      "    super().fit(\n",
      "  File \"/Users/lucaswilkerson/anaconda3/envs/learn-env/lib/python3.8/site-packages/sklearn/tree/_classes.py\", line 228, in fit\n",
      "    raise ValueError(\"min_samples_split must be an integer \"\n",
      "ValueError: min_samples_split must be an integer greater than 1 or a float in (0.0, 1.0]; got the integer 1\n",
      "\n",
      "  warnings.warn(\"Estimator fit failed. The score on this train-test\"\n",
      "/Users/lucaswilkerson/anaconda3/envs/learn-env/lib/python3.8/site-packages/sklearn/model_selection/_validation.py:548: FitFailedWarning: Estimator fit failed. The score on this train-test partition for these parameters will be set to nan. Details: \n",
      "Traceback (most recent call last):\n",
      "  File \"/Users/lucaswilkerson/anaconda3/envs/learn-env/lib/python3.8/site-packages/sklearn/model_selection/_validation.py\", line 531, in _fit_and_score\n",
      "    estimator.fit(X_train, y_train, **fit_params)\n",
      "  File \"/Users/lucaswilkerson/anaconda3/envs/learn-env/lib/python3.8/site-packages/sklearn/ensemble/_forest.py\", line 386, in fit\n",
      "    trees = Parallel(n_jobs=self.n_jobs, verbose=self.verbose,\n",
      "  File \"/Users/lucaswilkerson/anaconda3/envs/learn-env/lib/python3.8/site-packages/joblib/parallel.py\", line 1048, in __call__\n",
      "    if self.dispatch_one_batch(iterator):\n",
      "  File \"/Users/lucaswilkerson/anaconda3/envs/learn-env/lib/python3.8/site-packages/joblib/parallel.py\", line 866, in dispatch_one_batch\n",
      "    self._dispatch(tasks)\n",
      "  File \"/Users/lucaswilkerson/anaconda3/envs/learn-env/lib/python3.8/site-packages/joblib/parallel.py\", line 784, in _dispatch\n",
      "    job = self._backend.apply_async(batch, callback=cb)\n",
      "  File \"/Users/lucaswilkerson/anaconda3/envs/learn-env/lib/python3.8/site-packages/joblib/_parallel_backends.py\", line 208, in apply_async\n",
      "    result = ImmediateResult(func)\n",
      "  File \"/Users/lucaswilkerson/anaconda3/envs/learn-env/lib/python3.8/site-packages/joblib/_parallel_backends.py\", line 572, in __init__\n",
      "    self.results = batch()\n",
      "  File \"/Users/lucaswilkerson/anaconda3/envs/learn-env/lib/python3.8/site-packages/joblib/parallel.py\", line 262, in __call__\n",
      "    return [func(*args, **kwargs)\n",
      "  File \"/Users/lucaswilkerson/anaconda3/envs/learn-env/lib/python3.8/site-packages/joblib/parallel.py\", line 262, in <listcomp>\n",
      "    return [func(*args, **kwargs)\n",
      "  File \"/Users/lucaswilkerson/anaconda3/envs/learn-env/lib/python3.8/site-packages/sklearn/ensemble/_forest.py\", line 168, in _parallel_build_trees\n",
      "    tree.fit(X, y, sample_weight=curr_sample_weight, check_input=False)\n",
      "  File \"/Users/lucaswilkerson/anaconda3/envs/learn-env/lib/python3.8/site-packages/sklearn/tree/_classes.py\", line 890, in fit\n",
      "    super().fit(\n",
      "  File \"/Users/lucaswilkerson/anaconda3/envs/learn-env/lib/python3.8/site-packages/sklearn/tree/_classes.py\", line 228, in fit\n",
      "    raise ValueError(\"min_samples_split must be an integer \"\n",
      "ValueError: min_samples_split must be an integer greater than 1 or a float in (0.0, 1.0]; got the integer 1\n",
      "\n",
      "  warnings.warn(\"Estimator fit failed. The score on this train-test\"\n",
      "/Users/lucaswilkerson/anaconda3/envs/learn-env/lib/python3.8/site-packages/sklearn/model_selection/_validation.py:548: FitFailedWarning: Estimator fit failed. The score on this train-test partition for these parameters will be set to nan. Details: \n",
      "Traceback (most recent call last):\n",
      "  File \"/Users/lucaswilkerson/anaconda3/envs/learn-env/lib/python3.8/site-packages/sklearn/model_selection/_validation.py\", line 531, in _fit_and_score\n",
      "    estimator.fit(X_train, y_train, **fit_params)\n",
      "  File \"/Users/lucaswilkerson/anaconda3/envs/learn-env/lib/python3.8/site-packages/sklearn/ensemble/_forest.py\", line 386, in fit\n",
      "    trees = Parallel(n_jobs=self.n_jobs, verbose=self.verbose,\n",
      "  File \"/Users/lucaswilkerson/anaconda3/envs/learn-env/lib/python3.8/site-packages/joblib/parallel.py\", line 1048, in __call__\n",
      "    if self.dispatch_one_batch(iterator):\n",
      "  File \"/Users/lucaswilkerson/anaconda3/envs/learn-env/lib/python3.8/site-packages/joblib/parallel.py\", line 866, in dispatch_one_batch\n",
      "    self._dispatch(tasks)\n",
      "  File \"/Users/lucaswilkerson/anaconda3/envs/learn-env/lib/python3.8/site-packages/joblib/parallel.py\", line 784, in _dispatch\n",
      "    job = self._backend.apply_async(batch, callback=cb)\n",
      "  File \"/Users/lucaswilkerson/anaconda3/envs/learn-env/lib/python3.8/site-packages/joblib/_parallel_backends.py\", line 208, in apply_async\n",
      "    result = ImmediateResult(func)\n",
      "  File \"/Users/lucaswilkerson/anaconda3/envs/learn-env/lib/python3.8/site-packages/joblib/_parallel_backends.py\", line 572, in __init__\n",
      "    self.results = batch()\n",
      "  File \"/Users/lucaswilkerson/anaconda3/envs/learn-env/lib/python3.8/site-packages/joblib/parallel.py\", line 262, in __call__\n",
      "    return [func(*args, **kwargs)\n",
      "  File \"/Users/lucaswilkerson/anaconda3/envs/learn-env/lib/python3.8/site-packages/joblib/parallel.py\", line 262, in <listcomp>\n",
      "    return [func(*args, **kwargs)\n",
      "  File \"/Users/lucaswilkerson/anaconda3/envs/learn-env/lib/python3.8/site-packages/sklearn/ensemble/_forest.py\", line 168, in _parallel_build_trees\n",
      "    tree.fit(X, y, sample_weight=curr_sample_weight, check_input=False)\n",
      "  File \"/Users/lucaswilkerson/anaconda3/envs/learn-env/lib/python3.8/site-packages/sklearn/tree/_classes.py\", line 890, in fit\n",
      "    super().fit(\n",
      "  File \"/Users/lucaswilkerson/anaconda3/envs/learn-env/lib/python3.8/site-packages/sklearn/tree/_classes.py\", line 228, in fit\n",
      "    raise ValueError(\"min_samples_split must be an integer \"\n",
      "ValueError: min_samples_split must be an integer greater than 1 or a float in (0.0, 1.0]; got the integer 1\n",
      "\n",
      "  warnings.warn(\"Estimator fit failed. The score on this train-test\"\n",
      "/Users/lucaswilkerson/anaconda3/envs/learn-env/lib/python3.8/site-packages/sklearn/model_selection/_validation.py:548: FitFailedWarning: Estimator fit failed. The score on this train-test partition for these parameters will be set to nan. Details: \n",
      "Traceback (most recent call last):\n",
      "  File \"/Users/lucaswilkerson/anaconda3/envs/learn-env/lib/python3.8/site-packages/sklearn/model_selection/_validation.py\", line 531, in _fit_and_score\n",
      "    estimator.fit(X_train, y_train, **fit_params)\n",
      "  File \"/Users/lucaswilkerson/anaconda3/envs/learn-env/lib/python3.8/site-packages/sklearn/ensemble/_forest.py\", line 386, in fit\n",
      "    trees = Parallel(n_jobs=self.n_jobs, verbose=self.verbose,\n",
      "  File \"/Users/lucaswilkerson/anaconda3/envs/learn-env/lib/python3.8/site-packages/joblib/parallel.py\", line 1048, in __call__\n",
      "    if self.dispatch_one_batch(iterator):\n",
      "  File \"/Users/lucaswilkerson/anaconda3/envs/learn-env/lib/python3.8/site-packages/joblib/parallel.py\", line 866, in dispatch_one_batch\n",
      "    self._dispatch(tasks)\n",
      "  File \"/Users/lucaswilkerson/anaconda3/envs/learn-env/lib/python3.8/site-packages/joblib/parallel.py\", line 784, in _dispatch\n",
      "    job = self._backend.apply_async(batch, callback=cb)\n",
      "  File \"/Users/lucaswilkerson/anaconda3/envs/learn-env/lib/python3.8/site-packages/joblib/_parallel_backends.py\", line 208, in apply_async\n",
      "    result = ImmediateResult(func)\n",
      "  File \"/Users/lucaswilkerson/anaconda3/envs/learn-env/lib/python3.8/site-packages/joblib/_parallel_backends.py\", line 572, in __init__\n",
      "    self.results = batch()\n",
      "  File \"/Users/lucaswilkerson/anaconda3/envs/learn-env/lib/python3.8/site-packages/joblib/parallel.py\", line 262, in __call__\n",
      "    return [func(*args, **kwargs)\n",
      "  File \"/Users/lucaswilkerson/anaconda3/envs/learn-env/lib/python3.8/site-packages/joblib/parallel.py\", line 262, in <listcomp>\n",
      "    return [func(*args, **kwargs)\n",
      "  File \"/Users/lucaswilkerson/anaconda3/envs/learn-env/lib/python3.8/site-packages/sklearn/ensemble/_forest.py\", line 168, in _parallel_build_trees\n",
      "    tree.fit(X, y, sample_weight=curr_sample_weight, check_input=False)\n",
      "  File \"/Users/lucaswilkerson/anaconda3/envs/learn-env/lib/python3.8/site-packages/sklearn/tree/_classes.py\", line 890, in fit\n",
      "    super().fit(\n",
      "  File \"/Users/lucaswilkerson/anaconda3/envs/learn-env/lib/python3.8/site-packages/sklearn/tree/_classes.py\", line 228, in fit\n",
      "    raise ValueError(\"min_samples_split must be an integer \"\n",
      "ValueError: min_samples_split must be an integer greater than 1 or a float in (0.0, 1.0]; got the integer 1\n",
      "\n",
      "  warnings.warn(\"Estimator fit failed. The score on this train-test\"\n",
      "/Users/lucaswilkerson/anaconda3/envs/learn-env/lib/python3.8/site-packages/sklearn/model_selection/_validation.py:548: FitFailedWarning: Estimator fit failed. The score on this train-test partition for these parameters will be set to nan. Details: \n",
      "Traceback (most recent call last):\n",
      "  File \"/Users/lucaswilkerson/anaconda3/envs/learn-env/lib/python3.8/site-packages/sklearn/model_selection/_validation.py\", line 531, in _fit_and_score\n",
      "    estimator.fit(X_train, y_train, **fit_params)\n",
      "  File \"/Users/lucaswilkerson/anaconda3/envs/learn-env/lib/python3.8/site-packages/sklearn/ensemble/_forest.py\", line 386, in fit\n",
      "    trees = Parallel(n_jobs=self.n_jobs, verbose=self.verbose,\n",
      "  File \"/Users/lucaswilkerson/anaconda3/envs/learn-env/lib/python3.8/site-packages/joblib/parallel.py\", line 1048, in __call__\n",
      "    if self.dispatch_one_batch(iterator):\n",
      "  File \"/Users/lucaswilkerson/anaconda3/envs/learn-env/lib/python3.8/site-packages/joblib/parallel.py\", line 866, in dispatch_one_batch\n",
      "    self._dispatch(tasks)\n",
      "  File \"/Users/lucaswilkerson/anaconda3/envs/learn-env/lib/python3.8/site-packages/joblib/parallel.py\", line 784, in _dispatch\n",
      "    job = self._backend.apply_async(batch, callback=cb)\n",
      "  File \"/Users/lucaswilkerson/anaconda3/envs/learn-env/lib/python3.8/site-packages/joblib/_parallel_backends.py\", line 208, in apply_async\n",
      "    result = ImmediateResult(func)\n",
      "  File \"/Users/lucaswilkerson/anaconda3/envs/learn-env/lib/python3.8/site-packages/joblib/_parallel_backends.py\", line 572, in __init__\n",
      "    self.results = batch()\n",
      "  File \"/Users/lucaswilkerson/anaconda3/envs/learn-env/lib/python3.8/site-packages/joblib/parallel.py\", line 262, in __call__\n",
      "    return [func(*args, **kwargs)\n",
      "  File \"/Users/lucaswilkerson/anaconda3/envs/learn-env/lib/python3.8/site-packages/joblib/parallel.py\", line 262, in <listcomp>\n",
      "    return [func(*args, **kwargs)\n",
      "  File \"/Users/lucaswilkerson/anaconda3/envs/learn-env/lib/python3.8/site-packages/sklearn/ensemble/_forest.py\", line 168, in _parallel_build_trees\n",
      "    tree.fit(X, y, sample_weight=curr_sample_weight, check_input=False)\n",
      "  File \"/Users/lucaswilkerson/anaconda3/envs/learn-env/lib/python3.8/site-packages/sklearn/tree/_classes.py\", line 890, in fit\n",
      "    super().fit(\n",
      "  File \"/Users/lucaswilkerson/anaconda3/envs/learn-env/lib/python3.8/site-packages/sklearn/tree/_classes.py\", line 228, in fit\n",
      "    raise ValueError(\"min_samples_split must be an integer \"\n",
      "ValueError: min_samples_split must be an integer greater than 1 or a float in (0.0, 1.0]; got the integer 1\n",
      "\n",
      "  warnings.warn(\"Estimator fit failed. The score on this train-test\"\n",
      "/Users/lucaswilkerson/anaconda3/envs/learn-env/lib/python3.8/site-packages/sklearn/model_selection/_validation.py:548: FitFailedWarning: Estimator fit failed. The score on this train-test partition for these parameters will be set to nan. Details: \n",
      "Traceback (most recent call last):\n",
      "  File \"/Users/lucaswilkerson/anaconda3/envs/learn-env/lib/python3.8/site-packages/sklearn/model_selection/_validation.py\", line 531, in _fit_and_score\n",
      "    estimator.fit(X_train, y_train, **fit_params)\n",
      "  File \"/Users/lucaswilkerson/anaconda3/envs/learn-env/lib/python3.8/site-packages/sklearn/ensemble/_forest.py\", line 386, in fit\n",
      "    trees = Parallel(n_jobs=self.n_jobs, verbose=self.verbose,\n",
      "  File \"/Users/lucaswilkerson/anaconda3/envs/learn-env/lib/python3.8/site-packages/joblib/parallel.py\", line 1048, in __call__\n",
      "    if self.dispatch_one_batch(iterator):\n",
      "  File \"/Users/lucaswilkerson/anaconda3/envs/learn-env/lib/python3.8/site-packages/joblib/parallel.py\", line 866, in dispatch_one_batch\n",
      "    self._dispatch(tasks)\n",
      "  File \"/Users/lucaswilkerson/anaconda3/envs/learn-env/lib/python3.8/site-packages/joblib/parallel.py\", line 784, in _dispatch\n",
      "    job = self._backend.apply_async(batch, callback=cb)\n",
      "  File \"/Users/lucaswilkerson/anaconda3/envs/learn-env/lib/python3.8/site-packages/joblib/_parallel_backends.py\", line 208, in apply_async\n",
      "    result = ImmediateResult(func)\n",
      "  File \"/Users/lucaswilkerson/anaconda3/envs/learn-env/lib/python3.8/site-packages/joblib/_parallel_backends.py\", line 572, in __init__\n",
      "    self.results = batch()\n",
      "  File \"/Users/lucaswilkerson/anaconda3/envs/learn-env/lib/python3.8/site-packages/joblib/parallel.py\", line 262, in __call__\n",
      "    return [func(*args, **kwargs)\n",
      "  File \"/Users/lucaswilkerson/anaconda3/envs/learn-env/lib/python3.8/site-packages/joblib/parallel.py\", line 262, in <listcomp>\n",
      "    return [func(*args, **kwargs)\n",
      "  File \"/Users/lucaswilkerson/anaconda3/envs/learn-env/lib/python3.8/site-packages/sklearn/ensemble/_forest.py\", line 168, in _parallel_build_trees\n",
      "    tree.fit(X, y, sample_weight=curr_sample_weight, check_input=False)\n",
      "  File \"/Users/lucaswilkerson/anaconda3/envs/learn-env/lib/python3.8/site-packages/sklearn/tree/_classes.py\", line 890, in fit\n",
      "    super().fit(\n",
      "  File \"/Users/lucaswilkerson/anaconda3/envs/learn-env/lib/python3.8/site-packages/sklearn/tree/_classes.py\", line 228, in fit\n",
      "    raise ValueError(\"min_samples_split must be an integer \"\n",
      "ValueError: min_samples_split must be an integer greater than 1 or a float in (0.0, 1.0]; got the integer 1\n",
      "\n",
      "  warnings.warn(\"Estimator fit failed. The score on this train-test\"\n"
     ]
    },
    {
     "name": "stderr",
     "output_type": "stream",
     "text": [
      "/Users/lucaswilkerson/anaconda3/envs/learn-env/lib/python3.8/site-packages/sklearn/model_selection/_validation.py:548: FitFailedWarning: Estimator fit failed. The score on this train-test partition for these parameters will be set to nan. Details: \n",
      "Traceback (most recent call last):\n",
      "  File \"/Users/lucaswilkerson/anaconda3/envs/learn-env/lib/python3.8/site-packages/sklearn/model_selection/_validation.py\", line 531, in _fit_and_score\n",
      "    estimator.fit(X_train, y_train, **fit_params)\n",
      "  File \"/Users/lucaswilkerson/anaconda3/envs/learn-env/lib/python3.8/site-packages/sklearn/ensemble/_forest.py\", line 386, in fit\n",
      "    trees = Parallel(n_jobs=self.n_jobs, verbose=self.verbose,\n",
      "  File \"/Users/lucaswilkerson/anaconda3/envs/learn-env/lib/python3.8/site-packages/joblib/parallel.py\", line 1048, in __call__\n",
      "    if self.dispatch_one_batch(iterator):\n",
      "  File \"/Users/lucaswilkerson/anaconda3/envs/learn-env/lib/python3.8/site-packages/joblib/parallel.py\", line 866, in dispatch_one_batch\n",
      "    self._dispatch(tasks)\n",
      "  File \"/Users/lucaswilkerson/anaconda3/envs/learn-env/lib/python3.8/site-packages/joblib/parallel.py\", line 784, in _dispatch\n",
      "    job = self._backend.apply_async(batch, callback=cb)\n",
      "  File \"/Users/lucaswilkerson/anaconda3/envs/learn-env/lib/python3.8/site-packages/joblib/_parallel_backends.py\", line 208, in apply_async\n",
      "    result = ImmediateResult(func)\n",
      "  File \"/Users/lucaswilkerson/anaconda3/envs/learn-env/lib/python3.8/site-packages/joblib/_parallel_backends.py\", line 572, in __init__\n",
      "    self.results = batch()\n",
      "  File \"/Users/lucaswilkerson/anaconda3/envs/learn-env/lib/python3.8/site-packages/joblib/parallel.py\", line 262, in __call__\n",
      "    return [func(*args, **kwargs)\n",
      "  File \"/Users/lucaswilkerson/anaconda3/envs/learn-env/lib/python3.8/site-packages/joblib/parallel.py\", line 262, in <listcomp>\n",
      "    return [func(*args, **kwargs)\n",
      "  File \"/Users/lucaswilkerson/anaconda3/envs/learn-env/lib/python3.8/site-packages/sklearn/ensemble/_forest.py\", line 168, in _parallel_build_trees\n",
      "    tree.fit(X, y, sample_weight=curr_sample_weight, check_input=False)\n",
      "  File \"/Users/lucaswilkerson/anaconda3/envs/learn-env/lib/python3.8/site-packages/sklearn/tree/_classes.py\", line 890, in fit\n",
      "    super().fit(\n",
      "  File \"/Users/lucaswilkerson/anaconda3/envs/learn-env/lib/python3.8/site-packages/sklearn/tree/_classes.py\", line 228, in fit\n",
      "    raise ValueError(\"min_samples_split must be an integer \"\n",
      "ValueError: min_samples_split must be an integer greater than 1 or a float in (0.0, 1.0]; got the integer 1\n",
      "\n",
      "  warnings.warn(\"Estimator fit failed. The score on this train-test\"\n",
      "/Users/lucaswilkerson/anaconda3/envs/learn-env/lib/python3.8/site-packages/sklearn/model_selection/_validation.py:548: FitFailedWarning: Estimator fit failed. The score on this train-test partition for these parameters will be set to nan. Details: \n",
      "Traceback (most recent call last):\n",
      "  File \"/Users/lucaswilkerson/anaconda3/envs/learn-env/lib/python3.8/site-packages/sklearn/model_selection/_validation.py\", line 531, in _fit_and_score\n",
      "    estimator.fit(X_train, y_train, **fit_params)\n",
      "  File \"/Users/lucaswilkerson/anaconda3/envs/learn-env/lib/python3.8/site-packages/sklearn/ensemble/_forest.py\", line 386, in fit\n",
      "    trees = Parallel(n_jobs=self.n_jobs, verbose=self.verbose,\n",
      "  File \"/Users/lucaswilkerson/anaconda3/envs/learn-env/lib/python3.8/site-packages/joblib/parallel.py\", line 1048, in __call__\n",
      "    if self.dispatch_one_batch(iterator):\n",
      "  File \"/Users/lucaswilkerson/anaconda3/envs/learn-env/lib/python3.8/site-packages/joblib/parallel.py\", line 866, in dispatch_one_batch\n",
      "    self._dispatch(tasks)\n",
      "  File \"/Users/lucaswilkerson/anaconda3/envs/learn-env/lib/python3.8/site-packages/joblib/parallel.py\", line 784, in _dispatch\n",
      "    job = self._backend.apply_async(batch, callback=cb)\n",
      "  File \"/Users/lucaswilkerson/anaconda3/envs/learn-env/lib/python3.8/site-packages/joblib/_parallel_backends.py\", line 208, in apply_async\n",
      "    result = ImmediateResult(func)\n",
      "  File \"/Users/lucaswilkerson/anaconda3/envs/learn-env/lib/python3.8/site-packages/joblib/_parallel_backends.py\", line 572, in __init__\n",
      "    self.results = batch()\n",
      "  File \"/Users/lucaswilkerson/anaconda3/envs/learn-env/lib/python3.8/site-packages/joblib/parallel.py\", line 262, in __call__\n",
      "    return [func(*args, **kwargs)\n",
      "  File \"/Users/lucaswilkerson/anaconda3/envs/learn-env/lib/python3.8/site-packages/joblib/parallel.py\", line 262, in <listcomp>\n",
      "    return [func(*args, **kwargs)\n",
      "  File \"/Users/lucaswilkerson/anaconda3/envs/learn-env/lib/python3.8/site-packages/sklearn/ensemble/_forest.py\", line 168, in _parallel_build_trees\n",
      "    tree.fit(X, y, sample_weight=curr_sample_weight, check_input=False)\n",
      "  File \"/Users/lucaswilkerson/anaconda3/envs/learn-env/lib/python3.8/site-packages/sklearn/tree/_classes.py\", line 890, in fit\n",
      "    super().fit(\n",
      "  File \"/Users/lucaswilkerson/anaconda3/envs/learn-env/lib/python3.8/site-packages/sklearn/tree/_classes.py\", line 228, in fit\n",
      "    raise ValueError(\"min_samples_split must be an integer \"\n",
      "ValueError: min_samples_split must be an integer greater than 1 or a float in (0.0, 1.0]; got the integer 1\n",
      "\n",
      "  warnings.warn(\"Estimator fit failed. The score on this train-test\"\n",
      "/Users/lucaswilkerson/anaconda3/envs/learn-env/lib/python3.8/site-packages/sklearn/model_selection/_validation.py:548: FitFailedWarning: Estimator fit failed. The score on this train-test partition for these parameters will be set to nan. Details: \n",
      "Traceback (most recent call last):\n",
      "  File \"/Users/lucaswilkerson/anaconda3/envs/learn-env/lib/python3.8/site-packages/sklearn/model_selection/_validation.py\", line 531, in _fit_and_score\n",
      "    estimator.fit(X_train, y_train, **fit_params)\n",
      "  File \"/Users/lucaswilkerson/anaconda3/envs/learn-env/lib/python3.8/site-packages/sklearn/ensemble/_forest.py\", line 386, in fit\n",
      "    trees = Parallel(n_jobs=self.n_jobs, verbose=self.verbose,\n",
      "  File \"/Users/lucaswilkerson/anaconda3/envs/learn-env/lib/python3.8/site-packages/joblib/parallel.py\", line 1048, in __call__\n",
      "    if self.dispatch_one_batch(iterator):\n",
      "  File \"/Users/lucaswilkerson/anaconda3/envs/learn-env/lib/python3.8/site-packages/joblib/parallel.py\", line 866, in dispatch_one_batch\n",
      "    self._dispatch(tasks)\n",
      "  File \"/Users/lucaswilkerson/anaconda3/envs/learn-env/lib/python3.8/site-packages/joblib/parallel.py\", line 784, in _dispatch\n",
      "    job = self._backend.apply_async(batch, callback=cb)\n",
      "  File \"/Users/lucaswilkerson/anaconda3/envs/learn-env/lib/python3.8/site-packages/joblib/_parallel_backends.py\", line 208, in apply_async\n",
      "    result = ImmediateResult(func)\n",
      "  File \"/Users/lucaswilkerson/anaconda3/envs/learn-env/lib/python3.8/site-packages/joblib/_parallel_backends.py\", line 572, in __init__\n",
      "    self.results = batch()\n",
      "  File \"/Users/lucaswilkerson/anaconda3/envs/learn-env/lib/python3.8/site-packages/joblib/parallel.py\", line 262, in __call__\n",
      "    return [func(*args, **kwargs)\n",
      "  File \"/Users/lucaswilkerson/anaconda3/envs/learn-env/lib/python3.8/site-packages/joblib/parallel.py\", line 262, in <listcomp>\n",
      "    return [func(*args, **kwargs)\n",
      "  File \"/Users/lucaswilkerson/anaconda3/envs/learn-env/lib/python3.8/site-packages/sklearn/ensemble/_forest.py\", line 168, in _parallel_build_trees\n",
      "    tree.fit(X, y, sample_weight=curr_sample_weight, check_input=False)\n",
      "  File \"/Users/lucaswilkerson/anaconda3/envs/learn-env/lib/python3.8/site-packages/sklearn/tree/_classes.py\", line 890, in fit\n",
      "    super().fit(\n",
      "  File \"/Users/lucaswilkerson/anaconda3/envs/learn-env/lib/python3.8/site-packages/sklearn/tree/_classes.py\", line 228, in fit\n",
      "    raise ValueError(\"min_samples_split must be an integer \"\n",
      "ValueError: min_samples_split must be an integer greater than 1 or a float in (0.0, 1.0]; got the integer 1\n",
      "\n",
      "  warnings.warn(\"Estimator fit failed. The score on this train-test\"\n",
      "/Users/lucaswilkerson/anaconda3/envs/learn-env/lib/python3.8/site-packages/sklearn/model_selection/_validation.py:548: FitFailedWarning: Estimator fit failed. The score on this train-test partition for these parameters will be set to nan. Details: \n",
      "Traceback (most recent call last):\n",
      "  File \"/Users/lucaswilkerson/anaconda3/envs/learn-env/lib/python3.8/site-packages/sklearn/model_selection/_validation.py\", line 531, in _fit_and_score\n",
      "    estimator.fit(X_train, y_train, **fit_params)\n",
      "  File \"/Users/lucaswilkerson/anaconda3/envs/learn-env/lib/python3.8/site-packages/sklearn/ensemble/_forest.py\", line 386, in fit\n",
      "    trees = Parallel(n_jobs=self.n_jobs, verbose=self.verbose,\n",
      "  File \"/Users/lucaswilkerson/anaconda3/envs/learn-env/lib/python3.8/site-packages/joblib/parallel.py\", line 1048, in __call__\n",
      "    if self.dispatch_one_batch(iterator):\n",
      "  File \"/Users/lucaswilkerson/anaconda3/envs/learn-env/lib/python3.8/site-packages/joblib/parallel.py\", line 866, in dispatch_one_batch\n",
      "    self._dispatch(tasks)\n",
      "  File \"/Users/lucaswilkerson/anaconda3/envs/learn-env/lib/python3.8/site-packages/joblib/parallel.py\", line 784, in _dispatch\n",
      "    job = self._backend.apply_async(batch, callback=cb)\n",
      "  File \"/Users/lucaswilkerson/anaconda3/envs/learn-env/lib/python3.8/site-packages/joblib/_parallel_backends.py\", line 208, in apply_async\n",
      "    result = ImmediateResult(func)\n",
      "  File \"/Users/lucaswilkerson/anaconda3/envs/learn-env/lib/python3.8/site-packages/joblib/_parallel_backends.py\", line 572, in __init__\n",
      "    self.results = batch()\n",
      "  File \"/Users/lucaswilkerson/anaconda3/envs/learn-env/lib/python3.8/site-packages/joblib/parallel.py\", line 262, in __call__\n",
      "    return [func(*args, **kwargs)\n",
      "  File \"/Users/lucaswilkerson/anaconda3/envs/learn-env/lib/python3.8/site-packages/joblib/parallel.py\", line 262, in <listcomp>\n",
      "    return [func(*args, **kwargs)\n",
      "  File \"/Users/lucaswilkerson/anaconda3/envs/learn-env/lib/python3.8/site-packages/sklearn/ensemble/_forest.py\", line 168, in _parallel_build_trees\n",
      "    tree.fit(X, y, sample_weight=curr_sample_weight, check_input=False)\n",
      "  File \"/Users/lucaswilkerson/anaconda3/envs/learn-env/lib/python3.8/site-packages/sklearn/tree/_classes.py\", line 890, in fit\n",
      "    super().fit(\n",
      "  File \"/Users/lucaswilkerson/anaconda3/envs/learn-env/lib/python3.8/site-packages/sklearn/tree/_classes.py\", line 228, in fit\n",
      "    raise ValueError(\"min_samples_split must be an integer \"\n",
      "ValueError: min_samples_split must be an integer greater than 1 or a float in (0.0, 1.0]; got the integer 1\n",
      "\n",
      "  warnings.warn(\"Estimator fit failed. The score on this train-test\"\n",
      "/Users/lucaswilkerson/anaconda3/envs/learn-env/lib/python3.8/site-packages/sklearn/model_selection/_validation.py:548: FitFailedWarning: Estimator fit failed. The score on this train-test partition for these parameters will be set to nan. Details: \n",
      "Traceback (most recent call last):\n",
      "  File \"/Users/lucaswilkerson/anaconda3/envs/learn-env/lib/python3.8/site-packages/sklearn/model_selection/_validation.py\", line 531, in _fit_and_score\n",
      "    estimator.fit(X_train, y_train, **fit_params)\n",
      "  File \"/Users/lucaswilkerson/anaconda3/envs/learn-env/lib/python3.8/site-packages/sklearn/ensemble/_forest.py\", line 386, in fit\n",
      "    trees = Parallel(n_jobs=self.n_jobs, verbose=self.verbose,\n",
      "  File \"/Users/lucaswilkerson/anaconda3/envs/learn-env/lib/python3.8/site-packages/joblib/parallel.py\", line 1048, in __call__\n",
      "    if self.dispatch_one_batch(iterator):\n",
      "  File \"/Users/lucaswilkerson/anaconda3/envs/learn-env/lib/python3.8/site-packages/joblib/parallel.py\", line 866, in dispatch_one_batch\n",
      "    self._dispatch(tasks)\n",
      "  File \"/Users/lucaswilkerson/anaconda3/envs/learn-env/lib/python3.8/site-packages/joblib/parallel.py\", line 784, in _dispatch\n",
      "    job = self._backend.apply_async(batch, callback=cb)\n",
      "  File \"/Users/lucaswilkerson/anaconda3/envs/learn-env/lib/python3.8/site-packages/joblib/_parallel_backends.py\", line 208, in apply_async\n",
      "    result = ImmediateResult(func)\n",
      "  File \"/Users/lucaswilkerson/anaconda3/envs/learn-env/lib/python3.8/site-packages/joblib/_parallel_backends.py\", line 572, in __init__\n",
      "    self.results = batch()\n",
      "  File \"/Users/lucaswilkerson/anaconda3/envs/learn-env/lib/python3.8/site-packages/joblib/parallel.py\", line 262, in __call__\n",
      "    return [func(*args, **kwargs)\n",
      "  File \"/Users/lucaswilkerson/anaconda3/envs/learn-env/lib/python3.8/site-packages/joblib/parallel.py\", line 262, in <listcomp>\n",
      "    return [func(*args, **kwargs)\n",
      "  File \"/Users/lucaswilkerson/anaconda3/envs/learn-env/lib/python3.8/site-packages/sklearn/ensemble/_forest.py\", line 168, in _parallel_build_trees\n",
      "    tree.fit(X, y, sample_weight=curr_sample_weight, check_input=False)\n",
      "  File \"/Users/lucaswilkerson/anaconda3/envs/learn-env/lib/python3.8/site-packages/sklearn/tree/_classes.py\", line 890, in fit\n",
      "    super().fit(\n",
      "  File \"/Users/lucaswilkerson/anaconda3/envs/learn-env/lib/python3.8/site-packages/sklearn/tree/_classes.py\", line 228, in fit\n",
      "    raise ValueError(\"min_samples_split must be an integer \"\n",
      "ValueError: min_samples_split must be an integer greater than 1 or a float in (0.0, 1.0]; got the integer 1\n",
      "\n",
      "  warnings.warn(\"Estimator fit failed. The score on this train-test\"\n",
      "/Users/lucaswilkerson/anaconda3/envs/learn-env/lib/python3.8/site-packages/sklearn/model_selection/_validation.py:548: FitFailedWarning: Estimator fit failed. The score on this train-test partition for these parameters will be set to nan. Details: \n",
      "Traceback (most recent call last):\n",
      "  File \"/Users/lucaswilkerson/anaconda3/envs/learn-env/lib/python3.8/site-packages/sklearn/model_selection/_validation.py\", line 531, in _fit_and_score\n",
      "    estimator.fit(X_train, y_train, **fit_params)\n",
      "  File \"/Users/lucaswilkerson/anaconda3/envs/learn-env/lib/python3.8/site-packages/sklearn/ensemble/_forest.py\", line 386, in fit\n",
      "    trees = Parallel(n_jobs=self.n_jobs, verbose=self.verbose,\n",
      "  File \"/Users/lucaswilkerson/anaconda3/envs/learn-env/lib/python3.8/site-packages/joblib/parallel.py\", line 1048, in __call__\n",
      "    if self.dispatch_one_batch(iterator):\n",
      "  File \"/Users/lucaswilkerson/anaconda3/envs/learn-env/lib/python3.8/site-packages/joblib/parallel.py\", line 866, in dispatch_one_batch\n",
      "    self._dispatch(tasks)\n",
      "  File \"/Users/lucaswilkerson/anaconda3/envs/learn-env/lib/python3.8/site-packages/joblib/parallel.py\", line 784, in _dispatch\n",
      "    job = self._backend.apply_async(batch, callback=cb)\n",
      "  File \"/Users/lucaswilkerson/anaconda3/envs/learn-env/lib/python3.8/site-packages/joblib/_parallel_backends.py\", line 208, in apply_async\n",
      "    result = ImmediateResult(func)\n",
      "  File \"/Users/lucaswilkerson/anaconda3/envs/learn-env/lib/python3.8/site-packages/joblib/_parallel_backends.py\", line 572, in __init__\n",
      "    self.results = batch()\n",
      "  File \"/Users/lucaswilkerson/anaconda3/envs/learn-env/lib/python3.8/site-packages/joblib/parallel.py\", line 262, in __call__\n",
      "    return [func(*args, **kwargs)\n",
      "  File \"/Users/lucaswilkerson/anaconda3/envs/learn-env/lib/python3.8/site-packages/joblib/parallel.py\", line 262, in <listcomp>\n",
      "    return [func(*args, **kwargs)\n",
      "  File \"/Users/lucaswilkerson/anaconda3/envs/learn-env/lib/python3.8/site-packages/sklearn/ensemble/_forest.py\", line 168, in _parallel_build_trees\n",
      "    tree.fit(X, y, sample_weight=curr_sample_weight, check_input=False)\n",
      "  File \"/Users/lucaswilkerson/anaconda3/envs/learn-env/lib/python3.8/site-packages/sklearn/tree/_classes.py\", line 890, in fit\n",
      "    super().fit(\n",
      "  File \"/Users/lucaswilkerson/anaconda3/envs/learn-env/lib/python3.8/site-packages/sklearn/tree/_classes.py\", line 228, in fit\n",
      "    raise ValueError(\"min_samples_split must be an integer \"\n",
      "ValueError: min_samples_split must be an integer greater than 1 or a float in (0.0, 1.0]; got the integer 1\n",
      "\n",
      "  warnings.warn(\"Estimator fit failed. The score on this train-test\"\n"
     ]
    },
    {
     "name": "stderr",
     "output_type": "stream",
     "text": [
      "/Users/lucaswilkerson/anaconda3/envs/learn-env/lib/python3.8/site-packages/sklearn/model_selection/_validation.py:548: FitFailedWarning: Estimator fit failed. The score on this train-test partition for these parameters will be set to nan. Details: \n",
      "Traceback (most recent call last):\n",
      "  File \"/Users/lucaswilkerson/anaconda3/envs/learn-env/lib/python3.8/site-packages/sklearn/model_selection/_validation.py\", line 531, in _fit_and_score\n",
      "    estimator.fit(X_train, y_train, **fit_params)\n",
      "  File \"/Users/lucaswilkerson/anaconda3/envs/learn-env/lib/python3.8/site-packages/sklearn/ensemble/_forest.py\", line 386, in fit\n",
      "    trees = Parallel(n_jobs=self.n_jobs, verbose=self.verbose,\n",
      "  File \"/Users/lucaswilkerson/anaconda3/envs/learn-env/lib/python3.8/site-packages/joblib/parallel.py\", line 1048, in __call__\n",
      "    if self.dispatch_one_batch(iterator):\n",
      "  File \"/Users/lucaswilkerson/anaconda3/envs/learn-env/lib/python3.8/site-packages/joblib/parallel.py\", line 866, in dispatch_one_batch\n",
      "    self._dispatch(tasks)\n",
      "  File \"/Users/lucaswilkerson/anaconda3/envs/learn-env/lib/python3.8/site-packages/joblib/parallel.py\", line 784, in _dispatch\n",
      "    job = self._backend.apply_async(batch, callback=cb)\n",
      "  File \"/Users/lucaswilkerson/anaconda3/envs/learn-env/lib/python3.8/site-packages/joblib/_parallel_backends.py\", line 208, in apply_async\n",
      "    result = ImmediateResult(func)\n",
      "  File \"/Users/lucaswilkerson/anaconda3/envs/learn-env/lib/python3.8/site-packages/joblib/_parallel_backends.py\", line 572, in __init__\n",
      "    self.results = batch()\n",
      "  File \"/Users/lucaswilkerson/anaconda3/envs/learn-env/lib/python3.8/site-packages/joblib/parallel.py\", line 262, in __call__\n",
      "    return [func(*args, **kwargs)\n",
      "  File \"/Users/lucaswilkerson/anaconda3/envs/learn-env/lib/python3.8/site-packages/joblib/parallel.py\", line 262, in <listcomp>\n",
      "    return [func(*args, **kwargs)\n",
      "  File \"/Users/lucaswilkerson/anaconda3/envs/learn-env/lib/python3.8/site-packages/sklearn/ensemble/_forest.py\", line 168, in _parallel_build_trees\n",
      "    tree.fit(X, y, sample_weight=curr_sample_weight, check_input=False)\n",
      "  File \"/Users/lucaswilkerson/anaconda3/envs/learn-env/lib/python3.8/site-packages/sklearn/tree/_classes.py\", line 890, in fit\n",
      "    super().fit(\n",
      "  File \"/Users/lucaswilkerson/anaconda3/envs/learn-env/lib/python3.8/site-packages/sklearn/tree/_classes.py\", line 228, in fit\n",
      "    raise ValueError(\"min_samples_split must be an integer \"\n",
      "ValueError: min_samples_split must be an integer greater than 1 or a float in (0.0, 1.0]; got the integer 1\n",
      "\n",
      "  warnings.warn(\"Estimator fit failed. The score on this train-test\"\n",
      "/Users/lucaswilkerson/anaconda3/envs/learn-env/lib/python3.8/site-packages/sklearn/model_selection/_validation.py:548: FitFailedWarning: Estimator fit failed. The score on this train-test partition for these parameters will be set to nan. Details: \n",
      "Traceback (most recent call last):\n",
      "  File \"/Users/lucaswilkerson/anaconda3/envs/learn-env/lib/python3.8/site-packages/sklearn/model_selection/_validation.py\", line 531, in _fit_and_score\n",
      "    estimator.fit(X_train, y_train, **fit_params)\n",
      "  File \"/Users/lucaswilkerson/anaconda3/envs/learn-env/lib/python3.8/site-packages/sklearn/ensemble/_forest.py\", line 386, in fit\n",
      "    trees = Parallel(n_jobs=self.n_jobs, verbose=self.verbose,\n",
      "  File \"/Users/lucaswilkerson/anaconda3/envs/learn-env/lib/python3.8/site-packages/joblib/parallel.py\", line 1048, in __call__\n",
      "    if self.dispatch_one_batch(iterator):\n",
      "  File \"/Users/lucaswilkerson/anaconda3/envs/learn-env/lib/python3.8/site-packages/joblib/parallel.py\", line 866, in dispatch_one_batch\n",
      "    self._dispatch(tasks)\n",
      "  File \"/Users/lucaswilkerson/anaconda3/envs/learn-env/lib/python3.8/site-packages/joblib/parallel.py\", line 784, in _dispatch\n",
      "    job = self._backend.apply_async(batch, callback=cb)\n",
      "  File \"/Users/lucaswilkerson/anaconda3/envs/learn-env/lib/python3.8/site-packages/joblib/_parallel_backends.py\", line 208, in apply_async\n",
      "    result = ImmediateResult(func)\n",
      "  File \"/Users/lucaswilkerson/anaconda3/envs/learn-env/lib/python3.8/site-packages/joblib/_parallel_backends.py\", line 572, in __init__\n",
      "    self.results = batch()\n",
      "  File \"/Users/lucaswilkerson/anaconda3/envs/learn-env/lib/python3.8/site-packages/joblib/parallel.py\", line 262, in __call__\n",
      "    return [func(*args, **kwargs)\n",
      "  File \"/Users/lucaswilkerson/anaconda3/envs/learn-env/lib/python3.8/site-packages/joblib/parallel.py\", line 262, in <listcomp>\n",
      "    return [func(*args, **kwargs)\n",
      "  File \"/Users/lucaswilkerson/anaconda3/envs/learn-env/lib/python3.8/site-packages/sklearn/ensemble/_forest.py\", line 168, in _parallel_build_trees\n",
      "    tree.fit(X, y, sample_weight=curr_sample_weight, check_input=False)\n",
      "  File \"/Users/lucaswilkerson/anaconda3/envs/learn-env/lib/python3.8/site-packages/sklearn/tree/_classes.py\", line 890, in fit\n",
      "    super().fit(\n",
      "  File \"/Users/lucaswilkerson/anaconda3/envs/learn-env/lib/python3.8/site-packages/sklearn/tree/_classes.py\", line 228, in fit\n",
      "    raise ValueError(\"min_samples_split must be an integer \"\n",
      "ValueError: min_samples_split must be an integer greater than 1 or a float in (0.0, 1.0]; got the integer 1\n",
      "\n",
      "  warnings.warn(\"Estimator fit failed. The score on this train-test\"\n",
      "/Users/lucaswilkerson/anaconda3/envs/learn-env/lib/python3.8/site-packages/sklearn/model_selection/_validation.py:548: FitFailedWarning: Estimator fit failed. The score on this train-test partition for these parameters will be set to nan. Details: \n",
      "Traceback (most recent call last):\n",
      "  File \"/Users/lucaswilkerson/anaconda3/envs/learn-env/lib/python3.8/site-packages/sklearn/model_selection/_validation.py\", line 531, in _fit_and_score\n",
      "    estimator.fit(X_train, y_train, **fit_params)\n",
      "  File \"/Users/lucaswilkerson/anaconda3/envs/learn-env/lib/python3.8/site-packages/sklearn/ensemble/_forest.py\", line 386, in fit\n",
      "    trees = Parallel(n_jobs=self.n_jobs, verbose=self.verbose,\n",
      "  File \"/Users/lucaswilkerson/anaconda3/envs/learn-env/lib/python3.8/site-packages/joblib/parallel.py\", line 1048, in __call__\n",
      "    if self.dispatch_one_batch(iterator):\n",
      "  File \"/Users/lucaswilkerson/anaconda3/envs/learn-env/lib/python3.8/site-packages/joblib/parallel.py\", line 866, in dispatch_one_batch\n",
      "    self._dispatch(tasks)\n",
      "  File \"/Users/lucaswilkerson/anaconda3/envs/learn-env/lib/python3.8/site-packages/joblib/parallel.py\", line 784, in _dispatch\n",
      "    job = self._backend.apply_async(batch, callback=cb)\n",
      "  File \"/Users/lucaswilkerson/anaconda3/envs/learn-env/lib/python3.8/site-packages/joblib/_parallel_backends.py\", line 208, in apply_async\n",
      "    result = ImmediateResult(func)\n",
      "  File \"/Users/lucaswilkerson/anaconda3/envs/learn-env/lib/python3.8/site-packages/joblib/_parallel_backends.py\", line 572, in __init__\n",
      "    self.results = batch()\n",
      "  File \"/Users/lucaswilkerson/anaconda3/envs/learn-env/lib/python3.8/site-packages/joblib/parallel.py\", line 262, in __call__\n",
      "    return [func(*args, **kwargs)\n",
      "  File \"/Users/lucaswilkerson/anaconda3/envs/learn-env/lib/python3.8/site-packages/joblib/parallel.py\", line 262, in <listcomp>\n",
      "    return [func(*args, **kwargs)\n",
      "  File \"/Users/lucaswilkerson/anaconda3/envs/learn-env/lib/python3.8/site-packages/sklearn/ensemble/_forest.py\", line 168, in _parallel_build_trees\n",
      "    tree.fit(X, y, sample_weight=curr_sample_weight, check_input=False)\n",
      "  File \"/Users/lucaswilkerson/anaconda3/envs/learn-env/lib/python3.8/site-packages/sklearn/tree/_classes.py\", line 890, in fit\n",
      "    super().fit(\n",
      "  File \"/Users/lucaswilkerson/anaconda3/envs/learn-env/lib/python3.8/site-packages/sklearn/tree/_classes.py\", line 228, in fit\n",
      "    raise ValueError(\"min_samples_split must be an integer \"\n",
      "ValueError: min_samples_split must be an integer greater than 1 or a float in (0.0, 1.0]; got the integer 1\n",
      "\n",
      "  warnings.warn(\"Estimator fit failed. The score on this train-test\"\n",
      "/Users/lucaswilkerson/anaconda3/envs/learn-env/lib/python3.8/site-packages/sklearn/model_selection/_validation.py:548: FitFailedWarning: Estimator fit failed. The score on this train-test partition for these parameters will be set to nan. Details: \n",
      "Traceback (most recent call last):\n",
      "  File \"/Users/lucaswilkerson/anaconda3/envs/learn-env/lib/python3.8/site-packages/sklearn/model_selection/_validation.py\", line 531, in _fit_and_score\n",
      "    estimator.fit(X_train, y_train, **fit_params)\n",
      "  File \"/Users/lucaswilkerson/anaconda3/envs/learn-env/lib/python3.8/site-packages/sklearn/ensemble/_forest.py\", line 386, in fit\n",
      "    trees = Parallel(n_jobs=self.n_jobs, verbose=self.verbose,\n",
      "  File \"/Users/lucaswilkerson/anaconda3/envs/learn-env/lib/python3.8/site-packages/joblib/parallel.py\", line 1048, in __call__\n",
      "    if self.dispatch_one_batch(iterator):\n",
      "  File \"/Users/lucaswilkerson/anaconda3/envs/learn-env/lib/python3.8/site-packages/joblib/parallel.py\", line 866, in dispatch_one_batch\n",
      "    self._dispatch(tasks)\n",
      "  File \"/Users/lucaswilkerson/anaconda3/envs/learn-env/lib/python3.8/site-packages/joblib/parallel.py\", line 784, in _dispatch\n",
      "    job = self._backend.apply_async(batch, callback=cb)\n",
      "  File \"/Users/lucaswilkerson/anaconda3/envs/learn-env/lib/python3.8/site-packages/joblib/_parallel_backends.py\", line 208, in apply_async\n",
      "    result = ImmediateResult(func)\n",
      "  File \"/Users/lucaswilkerson/anaconda3/envs/learn-env/lib/python3.8/site-packages/joblib/_parallel_backends.py\", line 572, in __init__\n",
      "    self.results = batch()\n",
      "  File \"/Users/lucaswilkerson/anaconda3/envs/learn-env/lib/python3.8/site-packages/joblib/parallel.py\", line 262, in __call__\n",
      "    return [func(*args, **kwargs)\n",
      "  File \"/Users/lucaswilkerson/anaconda3/envs/learn-env/lib/python3.8/site-packages/joblib/parallel.py\", line 262, in <listcomp>\n",
      "    return [func(*args, **kwargs)\n",
      "  File \"/Users/lucaswilkerson/anaconda3/envs/learn-env/lib/python3.8/site-packages/sklearn/ensemble/_forest.py\", line 168, in _parallel_build_trees\n",
      "    tree.fit(X, y, sample_weight=curr_sample_weight, check_input=False)\n",
      "  File \"/Users/lucaswilkerson/anaconda3/envs/learn-env/lib/python3.8/site-packages/sklearn/tree/_classes.py\", line 890, in fit\n",
      "    super().fit(\n",
      "  File \"/Users/lucaswilkerson/anaconda3/envs/learn-env/lib/python3.8/site-packages/sklearn/tree/_classes.py\", line 228, in fit\n",
      "    raise ValueError(\"min_samples_split must be an integer \"\n",
      "ValueError: min_samples_split must be an integer greater than 1 or a float in (0.0, 1.0]; got the integer 1\n",
      "\n",
      "  warnings.warn(\"Estimator fit failed. The score on this train-test\"\n",
      "/Users/lucaswilkerson/anaconda3/envs/learn-env/lib/python3.8/site-packages/sklearn/model_selection/_validation.py:548: FitFailedWarning: Estimator fit failed. The score on this train-test partition for these parameters will be set to nan. Details: \n",
      "Traceback (most recent call last):\n",
      "  File \"/Users/lucaswilkerson/anaconda3/envs/learn-env/lib/python3.8/site-packages/sklearn/model_selection/_validation.py\", line 531, in _fit_and_score\n",
      "    estimator.fit(X_train, y_train, **fit_params)\n",
      "  File \"/Users/lucaswilkerson/anaconda3/envs/learn-env/lib/python3.8/site-packages/sklearn/ensemble/_forest.py\", line 386, in fit\n",
      "    trees = Parallel(n_jobs=self.n_jobs, verbose=self.verbose,\n",
      "  File \"/Users/lucaswilkerson/anaconda3/envs/learn-env/lib/python3.8/site-packages/joblib/parallel.py\", line 1048, in __call__\n",
      "    if self.dispatch_one_batch(iterator):\n",
      "  File \"/Users/lucaswilkerson/anaconda3/envs/learn-env/lib/python3.8/site-packages/joblib/parallel.py\", line 866, in dispatch_one_batch\n",
      "    self._dispatch(tasks)\n",
      "  File \"/Users/lucaswilkerson/anaconda3/envs/learn-env/lib/python3.8/site-packages/joblib/parallel.py\", line 784, in _dispatch\n",
      "    job = self._backend.apply_async(batch, callback=cb)\n",
      "  File \"/Users/lucaswilkerson/anaconda3/envs/learn-env/lib/python3.8/site-packages/joblib/_parallel_backends.py\", line 208, in apply_async\n",
      "    result = ImmediateResult(func)\n",
      "  File \"/Users/lucaswilkerson/anaconda3/envs/learn-env/lib/python3.8/site-packages/joblib/_parallel_backends.py\", line 572, in __init__\n",
      "    self.results = batch()\n",
      "  File \"/Users/lucaswilkerson/anaconda3/envs/learn-env/lib/python3.8/site-packages/joblib/parallel.py\", line 262, in __call__\n",
      "    return [func(*args, **kwargs)\n",
      "  File \"/Users/lucaswilkerson/anaconda3/envs/learn-env/lib/python3.8/site-packages/joblib/parallel.py\", line 262, in <listcomp>\n",
      "    return [func(*args, **kwargs)\n",
      "  File \"/Users/lucaswilkerson/anaconda3/envs/learn-env/lib/python3.8/site-packages/sklearn/ensemble/_forest.py\", line 168, in _parallel_build_trees\n",
      "    tree.fit(X, y, sample_weight=curr_sample_weight, check_input=False)\n",
      "  File \"/Users/lucaswilkerson/anaconda3/envs/learn-env/lib/python3.8/site-packages/sklearn/tree/_classes.py\", line 890, in fit\n",
      "    super().fit(\n",
      "  File \"/Users/lucaswilkerson/anaconda3/envs/learn-env/lib/python3.8/site-packages/sklearn/tree/_classes.py\", line 228, in fit\n",
      "    raise ValueError(\"min_samples_split must be an integer \"\n",
      "ValueError: min_samples_split must be an integer greater than 1 or a float in (0.0, 1.0]; got the integer 1\n",
      "\n",
      "  warnings.warn(\"Estimator fit failed. The score on this train-test\"\n",
      "/Users/lucaswilkerson/anaconda3/envs/learn-env/lib/python3.8/site-packages/sklearn/model_selection/_validation.py:548: FitFailedWarning: Estimator fit failed. The score on this train-test partition for these parameters will be set to nan. Details: \n",
      "Traceback (most recent call last):\n",
      "  File \"/Users/lucaswilkerson/anaconda3/envs/learn-env/lib/python3.8/site-packages/sklearn/model_selection/_validation.py\", line 531, in _fit_and_score\n",
      "    estimator.fit(X_train, y_train, **fit_params)\n",
      "  File \"/Users/lucaswilkerson/anaconda3/envs/learn-env/lib/python3.8/site-packages/sklearn/ensemble/_forest.py\", line 386, in fit\n",
      "    trees = Parallel(n_jobs=self.n_jobs, verbose=self.verbose,\n",
      "  File \"/Users/lucaswilkerson/anaconda3/envs/learn-env/lib/python3.8/site-packages/joblib/parallel.py\", line 1048, in __call__\n",
      "    if self.dispatch_one_batch(iterator):\n",
      "  File \"/Users/lucaswilkerson/anaconda3/envs/learn-env/lib/python3.8/site-packages/joblib/parallel.py\", line 866, in dispatch_one_batch\n",
      "    self._dispatch(tasks)\n",
      "  File \"/Users/lucaswilkerson/anaconda3/envs/learn-env/lib/python3.8/site-packages/joblib/parallel.py\", line 784, in _dispatch\n",
      "    job = self._backend.apply_async(batch, callback=cb)\n",
      "  File \"/Users/lucaswilkerson/anaconda3/envs/learn-env/lib/python3.8/site-packages/joblib/_parallel_backends.py\", line 208, in apply_async\n",
      "    result = ImmediateResult(func)\n",
      "  File \"/Users/lucaswilkerson/anaconda3/envs/learn-env/lib/python3.8/site-packages/joblib/_parallel_backends.py\", line 572, in __init__\n",
      "    self.results = batch()\n",
      "  File \"/Users/lucaswilkerson/anaconda3/envs/learn-env/lib/python3.8/site-packages/joblib/parallel.py\", line 262, in __call__\n",
      "    return [func(*args, **kwargs)\n",
      "  File \"/Users/lucaswilkerson/anaconda3/envs/learn-env/lib/python3.8/site-packages/joblib/parallel.py\", line 262, in <listcomp>\n",
      "    return [func(*args, **kwargs)\n",
      "  File \"/Users/lucaswilkerson/anaconda3/envs/learn-env/lib/python3.8/site-packages/sklearn/ensemble/_forest.py\", line 168, in _parallel_build_trees\n",
      "    tree.fit(X, y, sample_weight=curr_sample_weight, check_input=False)\n",
      "  File \"/Users/lucaswilkerson/anaconda3/envs/learn-env/lib/python3.8/site-packages/sklearn/tree/_classes.py\", line 890, in fit\n",
      "    super().fit(\n",
      "  File \"/Users/lucaswilkerson/anaconda3/envs/learn-env/lib/python3.8/site-packages/sklearn/tree/_classes.py\", line 228, in fit\n",
      "    raise ValueError(\"min_samples_split must be an integer \"\n",
      "ValueError: min_samples_split must be an integer greater than 1 or a float in (0.0, 1.0]; got the integer 1\n",
      "\n",
      "  warnings.warn(\"Estimator fit failed. The score on this train-test\"\n"
     ]
    },
    {
     "data": {
      "text/plain": [
       "{'criterion': 'entropy', 'max_depth': 10, 'min_samples_split': 5}"
      ]
     },
     "execution_count": 97,
     "metadata": {},
     "output_type": "execute_result"
    }
   ],
   "source": [
    "param_grid = {\n",
    "    'criterion': ['gini', 'entropy'],\n",
    "    'max_depth': [1, 2, 5, 10],\n",
    "    'min_samples_split': [1, 5, 10, 20]\n",
    "}\n",
    "\n",
    "gs_rfc = GridSearchCV(rfc, param_grid, cv=3)\n",
    "gs_rfc.fit(X_train_scaled, y_train_resample)\n",
    "\n",
    "gs_rfc.best_params_"
   ]
  },
  {
   "cell_type": "markdown",
   "metadata": {},
   "source": [
    "### Grid Search: Decision Trees\n",
    "\n",
    "#### Combinatoric Grid Searching"
   ]
  },
  {
   "cell_type": "code",
   "execution_count": 99,
   "metadata": {},
   "outputs": [
    {
     "data": {
      "text/plain": [
       "{'criterion': 'gini',\n",
       " 'max_depth': None,\n",
       " 'min_samples_leaf': 1,\n",
       " 'min_samples_split': 2}"
      ]
     },
     "execution_count": 99,
     "metadata": {},
     "output_type": "execute_result"
    }
   ],
   "source": [
    "#Creating grid parameters\n",
    "\n",
    "dt_param_grid = {\n",
    "    \"criterion\": [\"gini\", \"entropy\"],\n",
    "    \"max_depth\": [None, 2, 3, 4, 5, 6],\n",
    "    \"min_samples_split\": [2, 5, 10],\n",
    "    \"min_samples_leaf\": [1, 2, 3, 4, 5, 6],\n",
    "}\n",
    "\n",
    "\n",
    "# Instantiate GridSearchCV\n",
    "dt_grid_search = GridSearchCV(dt_classifier, dt_param_grid, cv=3, return_train_score=True)\n",
    "\n",
    "# Fit to the data\n",
    "dt_grid_search.fit(X_train_scaled, y_train_resample)\n",
    "\n",
    "# Searching for best params\n",
    "dt_grid_search.best_params_"
   ]
  },
  {
   "cell_type": "code",
   "execution_count": 104,
   "metadata": {},
   "outputs": [
    {
     "name": "stdout",
     "output_type": "stream",
     "text": [
      "Trained data score:  1.0\n",
      "Test data score:  0.8822085889570552\n",
      "Model's R^2: 0.8822085889570552\n",
      "Cross Validation Scores: [0.89123196 0.9345172  0.92777778 0.92777778 0.92777778]\n",
      "Model's Accuracy Score: 0.8822085889570552\n",
      "Model's Precision Score: 0.36363636363636365\n",
      "Model's F1 Score: 0.45454545454545453\n",
      "Model's Recall Score: 0.6060606060606061\n"
     ]
    }
   ],
   "source": [
    "# Decision tree model classifier \n",
    "dt_best_param = DecisionTreeClassifier(random_state=42, max_depth = None,\n",
    "                                       min_samples_leaf = 1, min_samples_split = 2,\n",
    "                                      criterion = 'gini')\n",
    "\n",
    "dt_best_param.fit(X_train_scaled, y_train_resample)\n",
    "dt_pred = dt_best_param.predict(X_test_scaled)\n",
    "\n",
    "# Scoring on trained data\n",
    "dt_param_train_score = dt_best_param.score(X_train_scaled, y_train_resample)\n",
    "print('Trained data score: ', dt_param_train_score)\n",
    "\n",
    "# Scoring on test data\n",
    "dt_param_test_score = dt_best_param.score(X_test_scaled, y_test)\n",
    "print('Test data score: ', dt_param_test_score)\n",
    "\n",
    "# Checking classification metrics\n",
    "model_scores(dt_best_param, X_train_scaled, X_test_scaled, y_train_resample, y_test)"
   ]
  },
  {
   "cell_type": "code",
   "execution_count": 102,
   "metadata": {},
   "outputs": [
    {
     "name": "stdout",
     "output_type": "stream",
     "text": [
      "Trained data score:  0.9187027987561084\n",
      "Test data score:  0.8932515337423312\n",
      "Model's R^2: 0.8932515337423312\n",
      "Cross Validation Scores: [0.89234184 0.90899001 0.89444444 0.90111111 0.89777778]\n",
      "Model's Accuracy Score: 0.8932515337423312\n",
      "Model's Precision Score: 0.4117647058823529\n",
      "Model's F1 Score: 0.5297297297297296\n",
      "Model's Recall Score: 0.7424242424242424\n"
     ]
    }
   ],
   "source": [
    "# Decision tree model classifier \n",
    "dt_classifier = DecisionTreeClassifier(random_state=42, max_depth = 5)\n",
    "\n",
    "dt_classifier.fit(X_train_scaled, y_train_resample)\n",
    "y_tree_pred = dt_classifier.predict(X_test_scaled)\n",
    "\n",
    "# Scoring on trained data\n",
    "dt_train_score = dt_classifier.score(X_train_scaled, y_train_resample)\n",
    "print('Trained data score: ', dt_train_score)\n",
    "\n",
    "# Scoring on test data\n",
    "dt_test_score = dt_classifier.score(X_test_scaled, y_test)\n",
    "print('Test data score: ', dt_test_score)\n",
    "\n",
    "# Checking classification metrics\n",
    "model_scores(dt_classifier, X_train_scaled, X_test_scaled, y_train_resample, y_test)"
   ]
  },
  {
   "cell_type": "code",
   "execution_count": null,
   "metadata": {},
   "outputs": [],
   "source": []
  },
  {
   "cell_type": "code",
   "execution_count": null,
   "metadata": {},
   "outputs": [],
   "source": []
  },
  {
   "cell_type": "markdown",
   "metadata": {},
   "source": [
    "## Splitting Data into Test/Train sets"
   ]
  },
  {
   "cell_type": "code",
   "execution_count": 14,
   "metadata": {},
   "outputs": [],
   "source": [
    "#Separating target variable from predictors\n",
    "y_target = diabetes_df['Diabetes']\n",
    "X_df = diabetes_df.drop('Diabetes', axis=1)\n",
    "\n",
    "# Split the data into training and test sets\n",
    "# X_train, X_test, y_train, y_test = train_test_split(X_df, y_target, test_size=0.25, \n",
    "#                                                    random_state=42)\n",
    "\n",
    "# Split the data into training and test sets\n",
    "# Stratifying to ensure proper class proportion\n",
    "X_train, X_test, y_train, y_test = train_test_split(X_df, y_target, test_size=0.25, \n",
    "                                                   random_state=42, stratify = y_target)"
   ]
  },
  {
   "cell_type": "code",
   "execution_count": 15,
   "metadata": {},
   "outputs": [
    {
     "name": "stdout",
     "output_type": "stream",
     "text": [
      "Train percent Diabetes: 0.07975460122699386\n",
      "Test percent Diabetes:  0.07975460122699386\n"
     ]
    }
   ],
   "source": [
    "print(\"Train percent Diabetes:\", y_train.value_counts(normalize=True)[1])\n",
    "print(\"Test percent Diabetes: \", y_test.value_counts(normalize=True)[1])"
   ]
  },
  {
   "cell_type": "code",
   "execution_count": 16,
   "metadata": {},
   "outputs": [
    {
     "name": "stderr",
     "output_type": "stream",
     "text": [
      "/Users/lucaswilkerson/anaconda3/envs/learn-env/lib/python3.8/site-packages/sklearn/linear_model/_logistic.py:762: ConvergenceWarning: lbfgs failed to converge (status=1):\n",
      "STOP: TOTAL NO. of ITERATIONS REACHED LIMIT.\n",
      "\n",
      "Increase the number of iterations (max_iter) or scale the data as shown in:\n",
      "    https://scikit-learn.org/stable/modules/preprocessing.html\n",
      "Please also refer to the documentation for alternative solver options:\n",
      "    https://scikit-learn.org/stable/modules/linear_model.html#logistic-regression\n",
      "  n_iter_i = _check_optimize_result(\n",
      "/Users/lucaswilkerson/anaconda3/envs/learn-env/lib/python3.8/site-packages/sklearn/linear_model/_logistic.py:762: ConvergenceWarning: lbfgs failed to converge (status=1):\n",
      "STOP: TOTAL NO. of ITERATIONS REACHED LIMIT.\n",
      "\n",
      "Increase the number of iterations (max_iter) or scale the data as shown in:\n",
      "    https://scikit-learn.org/stable/modules/preprocessing.html\n",
      "Please also refer to the documentation for alternative solver options:\n",
      "    https://scikit-learn.org/stable/modules/linear_model.html#logistic-regression\n",
      "  n_iter_i = _check_optimize_result(\n",
      "/Users/lucaswilkerson/anaconda3/envs/learn-env/lib/python3.8/site-packages/sklearn/linear_model/_logistic.py:762: ConvergenceWarning: lbfgs failed to converge (status=1):\n",
      "STOP: TOTAL NO. of ITERATIONS REACHED LIMIT.\n",
      "\n",
      "Increase the number of iterations (max_iter) or scale the data as shown in:\n",
      "    https://scikit-learn.org/stable/modules/preprocessing.html\n",
      "Please also refer to the documentation for alternative solver options:\n",
      "    https://scikit-learn.org/stable/modules/linear_model.html#logistic-regression\n",
      "  n_iter_i = _check_optimize_result(\n",
      "/Users/lucaswilkerson/anaconda3/envs/learn-env/lib/python3.8/site-packages/sklearn/linear_model/_logistic.py:762: ConvergenceWarning: lbfgs failed to converge (status=1):\n",
      "STOP: TOTAL NO. of ITERATIONS REACHED LIMIT.\n",
      "\n",
      "Increase the number of iterations (max_iter) or scale the data as shown in:\n",
      "    https://scikit-learn.org/stable/modules/preprocessing.html\n",
      "Please also refer to the documentation for alternative solver options:\n",
      "    https://scikit-learn.org/stable/modules/linear_model.html#logistic-regression\n",
      "  n_iter_i = _check_optimize_result(\n",
      "/Users/lucaswilkerson/anaconda3/envs/learn-env/lib/python3.8/site-packages/sklearn/linear_model/_logistic.py:762: ConvergenceWarning: lbfgs failed to converge (status=1):\n",
      "STOP: TOTAL NO. of ITERATIONS REACHED LIMIT.\n",
      "\n",
      "Increase the number of iterations (max_iter) or scale the data as shown in:\n",
      "    https://scikit-learn.org/stable/modules/preprocessing.html\n",
      "Please also refer to the documentation for alternative solver options:\n",
      "    https://scikit-learn.org/stable/modules/linear_model.html#logistic-regression\n",
      "  n_iter_i = _check_optimize_result(\n"
     ]
    },
    {
     "data": {
      "text/plain": [
       "0.17656128058654402"
      ]
     },
     "execution_count": 16,
     "metadata": {},
     "output_type": "execute_result"
    }
   ],
   "source": [
    "# Import relevant class and function\n",
    "from sklearn.linear_model import LogisticRegression\n",
    "from sklearn.model_selection import cross_val_score\n",
    "\n",
    "# Instantiate a LogisticRegression with random_state=42\n",
    "baseline_model = LogisticRegression(random_state=42)\n",
    "\n",
    "# Use cross_val_score with scoring=\"neg_log_loss\" to evaluate the model\n",
    "# on X_train and y_train\n",
    "baseline_neg_log_loss_cv = cross_val_score(baseline_model, X_train, y_train, scoring=\"neg_log_loss\")\n",
    "\n",
    "baseline_log_loss = -(baseline_neg_log_loss_cv.mean())\n",
    "baseline_log_loss"
   ]
  },
  {
   "cell_type": "code",
   "execution_count": 17,
   "metadata": {},
   "outputs": [
    {
     "data": {
      "text/plain": [
       "2.7546263382444107"
      ]
     },
     "execution_count": 17,
     "metadata": {},
     "output_type": "execute_result"
    }
   ],
   "source": [
    "from sklearn.metrics import log_loss\n",
    "import numpy as np\n",
    "\n",
    "log_loss(y_train, np.zeros(len(y_train)))"
   ]
  },
  {
   "cell_type": "code",
   "execution_count": 19,
   "metadata": {},
   "outputs": [
    {
     "name": "stderr",
     "output_type": "stream",
     "text": [
      "/Users/lucaswilkerson/anaconda3/envs/learn-env/lib/python3.8/site-packages/sklearn/linear_model/_logistic.py:762: ConvergenceWarning: lbfgs failed to converge (status=1):\n",
      "STOP: TOTAL NO. of ITERATIONS REACHED LIMIT.\n",
      "\n",
      "Increase the number of iterations (max_iter) or scale the data as shown in:\n",
      "    https://scikit-learn.org/stable/modules/preprocessing.html\n",
      "Please also refer to the documentation for alternative solver options:\n",
      "    https://scikit-learn.org/stable/modules/linear_model.html#logistic-regression\n",
      "  n_iter_i = _check_optimize_result(\n",
      "/Users/lucaswilkerson/anaconda3/envs/learn-env/lib/python3.8/site-packages/sklearn/linear_model/_logistic.py:762: ConvergenceWarning: lbfgs failed to converge (status=1):\n",
      "STOP: TOTAL NO. of ITERATIONS REACHED LIMIT.\n",
      "\n",
      "Increase the number of iterations (max_iter) or scale the data as shown in:\n",
      "    https://scikit-learn.org/stable/modules/preprocessing.html\n",
      "Please also refer to the documentation for alternative solver options:\n",
      "    https://scikit-learn.org/stable/modules/linear_model.html#logistic-regression\n",
      "  n_iter_i = _check_optimize_result(\n",
      "/Users/lucaswilkerson/anaconda3/envs/learn-env/lib/python3.8/site-packages/sklearn/linear_model/_logistic.py:762: ConvergenceWarning: lbfgs failed to converge (status=1):\n",
      "STOP: TOTAL NO. of ITERATIONS REACHED LIMIT.\n",
      "\n",
      "Increase the number of iterations (max_iter) or scale the data as shown in:\n",
      "    https://scikit-learn.org/stable/modules/preprocessing.html\n",
      "Please also refer to the documentation for alternative solver options:\n",
      "    https://scikit-learn.org/stable/modules/linear_model.html#logistic-regression\n",
      "  n_iter_i = _check_optimize_result(\n",
      "/Users/lucaswilkerson/anaconda3/envs/learn-env/lib/python3.8/site-packages/sklearn/linear_model/_logistic.py:762: ConvergenceWarning: lbfgs failed to converge (status=1):\n",
      "STOP: TOTAL NO. of ITERATIONS REACHED LIMIT.\n",
      "\n",
      "Increase the number of iterations (max_iter) or scale the data as shown in:\n",
      "    https://scikit-learn.org/stable/modules/preprocessing.html\n",
      "Please also refer to the documentation for alternative solver options:\n",
      "    https://scikit-learn.org/stable/modules/linear_model.html#logistic-regression\n",
      "  n_iter_i = _check_optimize_result(\n",
      "/Users/lucaswilkerson/anaconda3/envs/learn-env/lib/python3.8/site-packages/sklearn/linear_model/_logistic.py:762: ConvergenceWarning: lbfgs failed to converge (status=1):\n",
      "STOP: TOTAL NO. of ITERATIONS REACHED LIMIT.\n",
      "\n",
      "Increase the number of iterations (max_iter) or scale the data as shown in:\n",
      "    https://scikit-learn.org/stable/modules/preprocessing.html\n",
      "Please also refer to the documentation for alternative solver options:\n",
      "    https://scikit-learn.org/stable/modules/linear_model.html#logistic-regression\n",
      "  n_iter_i = _check_optimize_result(\n"
     ]
    },
    {
     "data": {
      "text/plain": [
       "0.17656128058654402"
      ]
     },
     "execution_count": 19,
     "metadata": {},
     "output_type": "execute_result"
    }
   ],
   "source": [
    "from sklearn.metrics import make_scorer\n",
    "from sklearn.model_selection import StratifiedKFold\n",
    "from sklearn.base import clone\n",
    "\n",
    "# Negative log loss doesn't exist as something we can import,\n",
    "# but we can create it\n",
    "neg_log_loss = make_scorer(log_loss, greater_is_better=False, needs_proba=True)\n",
    "\n",
    "# Instantiate the model (same as previous example)\n",
    "baseline_model = LogisticRegression(random_state=42)\n",
    "\n",
    "# Create a list to hold the score from each fold\n",
    "kfold_scores = np.ndarray(5)\n",
    "\n",
    "# Instantiate a splitter object and loop over its result\n",
    "kfold = StratifiedKFold()\n",
    "for fold, (train_index, val_index) in enumerate(kfold.split(X_train, y_train)):\n",
    "    # Extract train and validation subsets using the provided indices\n",
    "    X_t, X_val = X_train.iloc[train_index], X_train.iloc[val_index]\n",
    "    y_t, y_val = y_train.iloc[train_index], y_train.iloc[val_index]\n",
    "    \n",
    "    # Clone the provided model and fit it on the train subset\n",
    "    temp_model = clone(baseline_model)\n",
    "    temp_model.fit(X_t, y_t)\n",
    "    \n",
    "    # Evaluate the provided model on the validation subset\n",
    "    neg_log_loss_score = neg_log_loss(temp_model, X_val, y_val)\n",
    "    kfold_scores[fold] = neg_log_loss_score\n",
    "    \n",
    "-(kfold_scores.mean())"
   ]
  },
  {
   "cell_type": "code",
   "execution_count": 20,
   "metadata": {},
   "outputs": [
    {
     "name": "stdout",
     "output_type": "stream",
     "text": [
      "[-0.18501777 -0.15587395 -0.19802172 -0.16200619 -0.18188678]\n",
      "[-0.18501777 -0.15587395 -0.19802172 -0.16200619 -0.18188678]\n"
     ]
    }
   ],
   "source": [
    "#Baseline Log loss and k fold scores\n",
    "print(baseline_neg_log_loss_cv)\n",
    "print(kfold_scores)"
   ]
  },
  {
   "cell_type": "markdown",
   "metadata": {},
   "source": [
    "### Applying Standard Scaler and SMOTE to Data"
   ]
  },
  {
   "cell_type": "code",
   "execution_count": 21,
   "metadata": {},
   "outputs": [
    {
     "data": {
      "text/plain": [
       "0.16098713166982828"
      ]
     },
     "execution_count": 21,
     "metadata": {},
     "output_type": "execute_result"
    }
   ],
   "source": [
    "\n",
    "# Import relevant sklearn and imblearn classes\n",
    "from sklearn.preprocessing import StandardScaler\n",
    "from imblearn.over_sampling import SMOTE\n",
    "\n",
    "def custom_cross_val_score(estimator, X, y):\n",
    "    # Create a list to hold the scores from each fold\n",
    "    kfold_train_scores = np.ndarray(5)\n",
    "    kfold_val_scores = np.ndarray(5)\n",
    "\n",
    "    # Instantiate a splitter object and loop over its result\n",
    "    kfold = StratifiedKFold(n_splits=5)\n",
    "    for fold, (train_index, val_index) in enumerate(kfold.split(X, y)):\n",
    "        # Extract train and validation subsets using the provided indices\n",
    "        X_t, X_val = X.iloc[train_index], X.iloc[val_index]\n",
    "        y_t, y_val = y.iloc[train_index], y.iloc[val_index]\n",
    "        \n",
    "        # Instantiate StandardScaler\n",
    "        scaler = StandardScaler()\n",
    "        # Fit and transform X_t\n",
    "        X_t_scaled = scaler.fit_transform(X_t)\n",
    "        # Transform X_val\n",
    "        X_val_scaled = scaler.transform(X_val)\n",
    "        \n",
    "        # Instantiate SMOTE with random_state=42 and sampling_strategy=0.28\n",
    "        sm = SMOTE(random_state=42, sampling_strategy=0.28)\n",
    "        # Fit and transform X_t_scaled and y_t using sm\n",
    "        X_t_oversampled, y_t_oversampled = sm.fit_resample(X_t_scaled, y_t)\n",
    "        \n",
    "        # Clone the provided model and fit it on the train subset\n",
    "        temp_model = clone(estimator)\n",
    "        temp_model.fit(X_t_oversampled, y_t_oversampled)\n",
    "        \n",
    "        # Evaluate the provided model on the train and validation subsets\n",
    "        neg_log_loss_score_train = neg_log_loss(temp_model, X_t_oversampled, y_t_oversampled)\n",
    "        neg_log_loss_score_val = neg_log_loss(temp_model, X_val_scaled, y_val)\n",
    "        kfold_train_scores[fold] = neg_log_loss_score_train\n",
    "        kfold_val_scores[fold] = neg_log_loss_score_val\n",
    "        \n",
    "    return kfold_train_scores, kfold_val_scores\n",
    "\n",
    "model_with_preprocessing = LogisticRegression(random_state=42, class_weight={1: 0.28})\n",
    "preprocessed_train_scores, preprocessed_neg_log_loss_cv = custom_cross_val_score(model_with_preprocessing, X_train, y_train)\n",
    "- (preprocessed_neg_log_loss_cv.mean())"
   ]
  },
  {
   "cell_type": "code",
   "execution_count": 22,
   "metadata": {},
   "outputs": [
    {
     "name": "stdout",
     "output_type": "stream",
     "text": [
      "0.17656128058654402\n",
      "0.16098713166982828\n"
     ]
    }
   ],
   "source": [
    "print(-baseline_neg_log_loss_cv.mean())\n",
    "print(-preprocessed_neg_log_loss_cv.mean())"
   ]
  },
  {
   "cell_type": "code",
   "execution_count": 23,
   "metadata": {},
   "outputs": [
    {
     "name": "stdout",
     "output_type": "stream",
     "text": [
      "Train:      [0.28256227 0.29992155 0.28631083 0.28364321 0.28110979]\n",
      "Validation: [0.15977684 0.14725909 0.1918101  0.15228148 0.15380815]\n"
     ]
    }
   ],
   "source": [
    "print(\"Train:     \", -preprocessed_train_scores)\n",
    "print(\"Validation:\", -preprocessed_neg_log_loss_cv)"
   ]
  },
  {
   "cell_type": "markdown",
   "metadata": {},
   "source": [
    "Looking at the training and validation scores, being that the validation scores are performing better, it does not seem that we are overfitting."
   ]
  },
  {
   "cell_type": "code",
   "execution_count": 24,
   "metadata": {},
   "outputs": [
    {
     "data": {
      "text/plain": [
       "{'C': 1.0,\n",
       " 'class_weight': {1: 0.28},\n",
       " 'dual': False,\n",
       " 'fit_intercept': True,\n",
       " 'intercept_scaling': 1,\n",
       " 'l1_ratio': None,\n",
       " 'max_iter': 100,\n",
       " 'multi_class': 'auto',\n",
       " 'n_jobs': None,\n",
       " 'penalty': 'l2',\n",
       " 'random_state': 42,\n",
       " 'solver': 'lbfgs',\n",
       " 'tol': 0.0001,\n",
       " 'verbose': 0,\n",
       " 'warm_start': False}"
      ]
     },
     "execution_count": 24,
     "metadata": {},
     "output_type": "execute_result"
    }
   ],
   "source": [
    "model_with_preprocessing.get_params()"
   ]
  },
  {
   "cell_type": "code",
   "execution_count": 25,
   "metadata": {},
   "outputs": [],
   "source": [
    "#Reducing Regularization\n",
    "model_less_regularization = LogisticRegression(\n",
    "    random_state=42,\n",
    "    class_weight={1: 0.28},\n",
    "    C=1e5\n",
    ")"
   ]
  },
  {
   "cell_type": "code",
   "execution_count": 26,
   "metadata": {},
   "outputs": [
    {
     "name": "stdout",
     "output_type": "stream",
     "text": [
      "Previous Model\n",
      "Train average:      0.28670952891537066\n",
      "Validation average: 0.16098713166982828\n",
      "Current Model\n",
      "Train average:      0.2865266126186202\n",
      "Validation average: 0.16185320979576806\n"
     ]
    }
   ],
   "source": [
    "less_regularization_train_scores, less_regularization_val_scores = custom_cross_val_score(\n",
    "    model_less_regularization,\n",
    "    X_train,\n",
    "    y_train\n",
    ")\n",
    "\n",
    "print(\"Previous Model\")\n",
    "print(\"Train average:     \", -preprocessed_train_scores.mean())\n",
    "print(\"Validation average:\", -preprocessed_neg_log_loss_cv.mean())\n",
    "print(\"Current Model\")\n",
    "print(\"Train average:     \", -less_regularization_train_scores.mean())\n",
    "print(\"Validation average:\", -less_regularization_val_scores.mean())"
   ]
  },
  {
   "cell_type": "code",
   "execution_count": 27,
   "metadata": {},
   "outputs": [
    {
     "name": "stdout",
     "output_type": "stream",
     "text": [
      "solver: lbfgs\n",
      "penalty: l2\n"
     ]
    }
   ],
   "source": [
    "#Looking at an Alternative Solver\n",
    "\n",
    "print(\"solver:\", model_less_regularization.get_params()[\"solver\"])\n",
    "print(\"penalty:\", model_less_regularization.get_params()[\"penalty\"])"
   ]
  },
  {
   "cell_type": "code",
   "execution_count": 28,
   "metadata": {},
   "outputs": [
    {
     "name": "stderr",
     "output_type": "stream",
     "text": [
      "/Users/lucaswilkerson/anaconda3/envs/learn-env/lib/python3.8/site-packages/sklearn/linear_model/_sag.py:329: ConvergenceWarning: The max_iter was reached which means the coef_ did not converge\n",
      "  warnings.warn(\"The max_iter was reached which means \"\n",
      "/Users/lucaswilkerson/anaconda3/envs/learn-env/lib/python3.8/site-packages/sklearn/linear_model/_sag.py:329: ConvergenceWarning: The max_iter was reached which means the coef_ did not converge\n",
      "  warnings.warn(\"The max_iter was reached which means \"\n",
      "/Users/lucaswilkerson/anaconda3/envs/learn-env/lib/python3.8/site-packages/sklearn/linear_model/_sag.py:329: ConvergenceWarning: The max_iter was reached which means the coef_ did not converge\n",
      "  warnings.warn(\"The max_iter was reached which means \"\n"
     ]
    },
    {
     "name": "stdout",
     "output_type": "stream",
     "text": [
      "Previous Model (Less Regularization)\n",
      "Train average:      0.2865266126186202\n",
      "Validation average: 0.16185320979576806\n",
      "Current Model\n",
      "Train average:      0.28646219146970175\n",
      "Validation average: 0.16156105034078988\n"
     ]
    },
    {
     "name": "stderr",
     "output_type": "stream",
     "text": [
      "/Users/lucaswilkerson/anaconda3/envs/learn-env/lib/python3.8/site-packages/sklearn/linear_model/_sag.py:329: ConvergenceWarning: The max_iter was reached which means the coef_ did not converge\n",
      "  warnings.warn(\"The max_iter was reached which means \"\n",
      "/Users/lucaswilkerson/anaconda3/envs/learn-env/lib/python3.8/site-packages/sklearn/linear_model/_sag.py:329: ConvergenceWarning: The max_iter was reached which means the coef_ did not converge\n",
      "  warnings.warn(\"The max_iter was reached which means \"\n"
     ]
    }
   ],
   "source": [
    "model_alternative_solver = LogisticRegression(\n",
    "    random_state=42,\n",
    "    class_weight={1: 0.28},\n",
    "    C=1e5,\n",
    "    solver=\"saga\",\n",
    "    penalty=\"elasticnet\",\n",
    "    l1_ratio=0.5\n",
    ")\n",
    "\n",
    "alternative_solver_train_scores, alternative_solver_val_scores = custom_cross_val_score(\n",
    "    model_alternative_solver,\n",
    "    X_train,\n",
    "    y_train\n",
    ")\n",
    "\n",
    "print(\"Previous Model (Less Regularization)\")\n",
    "print(\"Train average:     \", -less_regularization_train_scores.mean())\n",
    "print(\"Validation average:\", -less_regularization_val_scores.mean())\n",
    "print(\"Current Model\")\n",
    "print(\"Train average:     \", -alternative_solver_train_scores.mean())\n",
    "print(\"Validation average:\", -alternative_solver_val_scores.mean())"
   ]
  },
  {
   "cell_type": "code",
   "execution_count": 29,
   "metadata": {},
   "outputs": [
    {
     "name": "stdout",
     "output_type": "stream",
     "text": [
      "Previous Best Model (Less Regularization)\n",
      "Train average:      0.2865266126186202\n",
      "Validation average: 0.16185320979576806\n",
      "Previous Model with This Solver\n",
      "Train average:      0.28646219146970175\n",
      "Validation average: 0.16156105034078988\n",
      "Current Model\n",
      "Train average:      0.2865230701908308\n",
      "Validation average: 0.16184548701023682\n"
     ]
    }
   ],
   "source": [
    "# Adjusting MaxIter param to correct the warning\n",
    "\n",
    "model_more_iterations = LogisticRegression(\n",
    "    random_state=42,\n",
    "    class_weight={1: 0.28},\n",
    "    C=1e5,\n",
    "    solver=\"saga\",\n",
    "    penalty=\"elasticnet\",\n",
    "    l1_ratio=0.5,\n",
    "    max_iter=2000\n",
    ")\n",
    "\n",
    "more_iterations_train_scores, more_iterations_val_scores = custom_cross_val_score(\n",
    "    model_more_iterations,\n",
    "    X_train,\n",
    "    y_train\n",
    ")\n",
    "\n",
    "print(\"Previous Best Model (Less Regularization)\")\n",
    "print(\"Train average:     \", -less_regularization_train_scores.mean())\n",
    "print(\"Validation average:\", -less_regularization_val_scores.mean())\n",
    "print(\"Previous Model with This Solver\")\n",
    "print(\"Train average:     \", -alternative_solver_train_scores.mean())\n",
    "print(\"Validation average:\", -alternative_solver_val_scores.mean())\n",
    "print(\"Current Model\")\n",
    "print(\"Train average:     \", -more_iterations_train_scores.mean())\n",
    "print(\"Validation average:\", -more_iterations_val_scores.mean())"
   ]
  },
  {
   "cell_type": "markdown",
   "metadata": {},
   "source": [
    "### Final Model through this Iteration \n",
    "#### Preprocessing with the Full Dataset"
   ]
  },
  {
   "cell_type": "code",
   "execution_count": 46,
   "metadata": {},
   "outputs": [],
   "source": [
    "final_model = model_with_preprocessing"
   ]
  },
  {
   "cell_type": "code",
   "execution_count": 47,
   "metadata": {},
   "outputs": [],
   "source": [
    "# Instantiate StandardScaler\n",
    "scaler = StandardScaler()\n",
    "# Fit and transform X_train\n",
    "X_train_scaled = scaler.fit_transform(X_train)\n",
    "# Transform X_test\n",
    "X_test_scaled = scaler.transform(X_test)\n",
    "\n",
    "# Instantiate SMOTE with random_state=42 and sampling_strategy=0.28\n",
    "sm = SMOTE(random_state=42, sampling_strategy=0.28)\n",
    "# Fit and transform X_train_scaled and y_train using sm\n",
    "X_train_oversampled, y_train_oversampled = sm.fit_resample(X_train_scaled, y_train)"
   ]
  },
  {
   "cell_type": "markdown",
   "metadata": {},
   "source": [
    "#### Fitting the Model on the Full Training Data"
   ]
  },
  {
   "cell_type": "code",
   "execution_count": 48,
   "metadata": {},
   "outputs": [
    {
     "data": {
      "text/plain": [
       "LogisticRegression(class_weight={1: 0.28}, random_state=42)"
      ]
     },
     "execution_count": 48,
     "metadata": {},
     "output_type": "execute_result"
    }
   ],
   "source": [
    "final_model.fit(X_train_oversampled, y_train_oversampled)"
   ]
  },
  {
   "cell_type": "code",
   "execution_count": 49,
   "metadata": {},
   "outputs": [
    {
     "data": {
      "text/plain": [
       "LogisticRegression(C=100000.0, class_weight={1: 0.28}, random_state=42)"
      ]
     },
     "execution_count": 49,
     "metadata": {},
     "output_type": "execute_result"
    }
   ],
   "source": [
    "LogisticRegression(C=100000.0, class_weight={1: 0.28}, random_state=42)"
   ]
  },
  {
   "cell_type": "code",
   "execution_count": 51,
   "metadata": {},
   "outputs": [
    {
     "data": {
      "text/plain": [
       "0.17079665558072943"
      ]
     },
     "execution_count": 51,
     "metadata": {},
     "output_type": "execute_result"
    }
   ],
   "source": [
    "#Checking Log Loss\n",
    "log_loss(y_test, final_model.predict_proba(X_test_scaled))"
   ]
  },
  {
   "cell_type": "code",
   "execution_count": 53,
   "metadata": {},
   "outputs": [
    {
     "data": {
      "text/plain": [
       "0.9349693251533743"
      ]
     },
     "execution_count": 53,
     "metadata": {},
     "output_type": "execute_result"
    }
   ],
   "source": [
    "# Checking Accuracy Score\n",
    "\n",
    "from sklearn.metrics import accuracy_score\n",
    "\n",
    "accuracy_score(y_test, final_model.predict(X_test_scaled))"
   ]
  },
  {
   "cell_type": "code",
   "execution_count": 54,
   "metadata": {},
   "outputs": [
    {
     "data": {
      "text/plain": [
       "0.7307692307692307"
      ]
     },
     "execution_count": 54,
     "metadata": {},
     "output_type": "execute_result"
    }
   ],
   "source": [
    "# Checking Precision Score\n",
    "\n",
    "# Import the relevant function\n",
    "from sklearn.metrics import precision_score\n",
    "\n",
    "# Display the precision score\n",
    "precision_score(y_test, final_model.predict(X_test_scaled))"
   ]
  },
  {
   "cell_type": "code",
   "execution_count": 55,
   "metadata": {},
   "outputs": [
    {
     "data": {
      "text/plain": [
       "0.2923076923076923"
      ]
     },
     "execution_count": 55,
     "metadata": {},
     "output_type": "execute_result"
    }
   ],
   "source": [
    "# Checking Recall Score\n",
    "\n",
    "\n",
    "# Import the relevant function\n",
    "from sklearn.metrics import recall_score\n",
    "\n",
    "# Display the recall score\n",
    "recall_score(y_test, final_model.predict(X_test_scaled))"
   ]
  },
  {
   "cell_type": "code",
   "execution_count": null,
   "metadata": {},
   "outputs": [],
   "source": []
  },
  {
   "cell_type": "markdown",
   "metadata": {},
   "source": [
    "# Splitting Data into Train/Test for Additional Models"
   ]
  },
  {
   "cell_type": "code",
   "execution_count": null,
   "metadata": {},
   "outputs": [],
   "source": []
  },
  {
   "cell_type": "code",
   "execution_count": null,
   "metadata": {},
   "outputs": [],
   "source": []
  },
  {
   "cell_type": "code",
   "execution_count": null,
   "metadata": {},
   "outputs": [],
   "source": []
  },
  {
   "cell_type": "code",
   "execution_count": null,
   "metadata": {},
   "outputs": [],
   "source": []
  },
  {
   "cell_type": "code",
   "execution_count": null,
   "metadata": {},
   "outputs": [],
   "source": []
  },
  {
   "cell_type": "code",
   "execution_count": null,
   "metadata": {},
   "outputs": [],
   "source": []
  },
  {
   "cell_type": "code",
   "execution_count": null,
   "metadata": {},
   "outputs": [],
   "source": []
  },
  {
   "cell_type": "code",
   "execution_count": null,
   "metadata": {},
   "outputs": [],
   "source": []
  },
  {
   "cell_type": "markdown",
   "metadata": {},
   "source": [
    "# Additional Modeling and Tuning"
   ]
  },
  {
   "cell_type": "code",
   "execution_count": 64,
   "metadata": {},
   "outputs": [],
   "source": [
    "#Instantiate a scaler and transform values\n",
    "\n",
    "from sklearn.preprocessing import MinMaxScaler\n",
    "\n",
    "scaler = MinMaxScaler()\n",
    "scaler.fit(X_train)\n",
    "\n",
    "X_train_scaled= scaler.transform(X_train)\n",
    "X_test_scaled= scaler.transform(X_test)"
   ]
  },
  {
   "cell_type": "code",
   "execution_count": null,
   "metadata": {},
   "outputs": [],
   "source": []
  },
  {
   "cell_type": "markdown",
   "metadata": {},
   "source": [
    "# Modeling "
   ]
  },
  {
   "cell_type": "markdown",
   "metadata": {},
   "source": [
    "## Building Baseline Model\n",
    "\n",
    "### Vanilla Model "
   ]
  },
  {
   "cell_type": "code",
   "execution_count": 29,
   "metadata": {},
   "outputs": [
    {
     "data": {
      "text/plain": [
       "LogisticRegression(C=1000000000000.0, fit_intercept=False, random_state=42,\n",
       "                   solver='liblinear')"
      ]
     },
     "execution_count": 29,
     "metadata": {},
     "output_type": "execute_result"
    }
   ],
   "source": [
    "#Instantiate a LR model, adjusting for weight and fitting it to the scaled data\n",
    "\n",
    "#baseline_logreg = LogisticRegression(random_state = 42, class_weight = 'balanced').fit(X_train_scaled, y_train)\n",
    "\n",
    "logreg = LogisticRegression(fit_intercept=False, C=1e12, solver='liblinear', random_state = 42)\n",
    "baseline_logreg = logreg.fit(X_train_scaled, y_train)\n",
    "baseline_logreg"
   ]
  },
  {
   "cell_type": "code",
   "execution_count": 65,
   "metadata": {},
   "outputs": [
    {
     "data": {
      "text/plain": [
       "0.17561480077553698"
      ]
     },
     "execution_count": 65,
     "metadata": {},
     "output_type": "execute_result"
    }
   ],
   "source": [
    "#Calculating log loss\n",
    "baseline_neg_log_loss_cv = cross_val_score(baseline_logreg, X_train_scaled, y_train, scoring=\"neg_log_loss\")\n",
    "\n",
    "baseline_log_loss = -(baseline_neg_log_loss_cv.mean())\n",
    "baseline_log_loss"
   ]
  },
  {
   "cell_type": "code",
   "execution_count": 51,
   "metadata": {},
   "outputs": [
    {
     "name": "stdout",
     "output_type": "stream",
     "text": [
      "***  BASELINE TEST SCORES ***\n",
      "accuracy:  0.947239263803681\n",
      "precision: 0.9425229780444504\n",
      "recall:    0.947239263803681\n",
      "F1:   0.9396771729077397\n"
     ]
    }
   ],
   "source": [
    "# Printing off some baseline metric scores\n",
    "\n",
    "preds= baseline_logreg.predict(X_test_scaled)\n",
    "#probs = baseline_logreg.predict_proba(X_test_scaled)\n",
    "\n",
    "print('***  BASELINE TEST SCORES ***')\n",
    "#print(\"log loss: \", log_loss(y_test, probs))\n",
    "print(\"accuracy: \", accuracy_score(y_test, preds))\n",
    "print(\"precision:\", precision_score(y_test, preds, average = \"weighted\"))\n",
    "print(\"recall:   \", recall_score(y_test, preds, average = \"weighted\"))\n",
    "print(\"F1:  \", f1_score(y_test, preds, average = \"weighted\"))\n"
   ]
  },
  {
   "cell_type": "code",
   "execution_count": 52,
   "metadata": {},
   "outputs": [
    {
     "name": "stdout",
     "output_type": "stream",
     "text": [
      "              precision    recall  f1-score   support\n",
      "\n",
      "           0       0.95      0.99      0.97       749\n",
      "           1       0.83      0.44      0.57        66\n",
      "\n",
      "    accuracy                           0.95       815\n",
      "   macro avg       0.89      0.72      0.77       815\n",
      "weighted avg       0.94      0.95      0.94       815\n",
      "\n"
     ]
    }
   ],
   "source": [
    "print(classification_report(y_pred = preds, y_true = y_test))"
   ]
  },
  {
   "cell_type": "code",
   "execution_count": 53,
   "metadata": {},
   "outputs": [
    {
     "data": {
      "image/png": "[encoded data removed]",
      "text/plain": [
       "<Figure size 432x288 with 2 Axes>"
      ]
     },
     "metadata": {
      "needs_background": "light"
     },
     "output_type": "display_data"
    }
   ],
   "source": [
    "# Displaying a confusion matrix \n",
    "plot_confusion_matrix(baseline_logreg, X_test_scaled, y_test,\n",
    "                     cmap=plt.cm.Blues, normalize = 'true')\n",
    "plt.grid(False)\n",
    "plt.show()"
   ]
  },
  {
   "cell_type": "markdown",
   "metadata": {},
   "source": [
    "## Smote "
   ]
  },
  {
   "cell_type": "code",
   "execution_count": 40,
   "metadata": {},
   "outputs": [],
   "source": [
    "from imblearn.over_sampling import SMOTE"
   ]
  },
  {
   "cell_type": "code",
   "execution_count": 43,
   "metadata": {},
   "outputs": [
    {
     "name": "stdout",
     "output_type": "stream",
     "text": [
      "Original class distribution: \n",
      "\n",
      "0    3000\n",
      "1     260\n",
      "Name: Diabetes, dtype: int64\n",
      "-----------------------------------------\n",
      "Synthetic sample class distribution: \n",
      "\n",
      "1    2251\n",
      "0    2251\n",
      "Name: Diabetes, dtype: int64\n"
     ]
    }
   ],
   "source": [
    "# Previous original class distribution\n",
    "print('Original class distribution: \\n')\n",
    "print(y_target.value_counts())\n",
    "smote = SMOTE()\n",
    "X_train_resampled, y_train_resampled = smote.fit_resample(X_train_scaled, y_train) \n",
    "# Preview synthetic sample class distribution\n",
    "print('-----------------------------------------')\n",
    "print('Synthetic sample class distribution: \\n')\n",
    "print(pd.Series(y_train_resampled).value_counts()) "
   ]
  },
  {
   "cell_type": "code",
   "execution_count": 54,
   "metadata": {},
   "outputs": [
    {
     "name": "stdout",
     "output_type": "stream",
     "text": [
      "***  BASELINE TEST SCORES ***\n",
      "accuracy:  0.8662576687116564\n",
      "precision: 0.9358492056299712\n",
      "recall:    0.8662576687116564\n",
      "F1:   0.8892209014625899\n"
     ]
    }
   ],
   "source": [
    "#Instantiate a LR model, adjusting for weight and fitting it to the scaled data\n",
    "\n",
    "#baseline_logreg = LogisticRegression(random_state = 42, class_weight = 'balanced').fit(X_train_scaled, y_train)\n",
    "\n",
    "logreg = LogisticRegression(fit_intercept=False, C=1e12, solver='liblinear', random_state = 42)\n",
    "smote_logreg = logreg.fit(X_train_resampled, y_train_resampled)\n",
    "smote_logreg\n",
    "\n",
    "# Printing off some baseline metric scores\n",
    "\n",
    "preds_smote= smote_logreg.predict(X_test_scaled)\n",
    "#probs = baseline_logreg.predict_proba(X_test_scaled)\n",
    "\n",
    "print('***  BASELINE TEST SCORES ***')\n",
    "#print(\"log loss: \", log_loss(y_test, probs))\n",
    "print(\"accuracy: \", accuracy_score(y_test, preds_smote))\n",
    "print(\"precision:\", precision_score(y_test, preds_smote))\n",
    "print(\"recall:   \", recall_score(y_test, preds_smote))\n",
    "print(\"F1:  \", f1_score(y_test, preds_smote))\n"
   ]
  },
  {
   "cell_type": "code",
   "execution_count": 45,
   "metadata": {},
   "outputs": [
    {
     "name": "stdout",
     "output_type": "stream",
     "text": [
      "              precision    recall  f1-score   support\n",
      "\n",
      "           0       0.99      0.87      0.92       749\n",
      "           1       0.36      0.86      0.51        66\n",
      "\n",
      "    accuracy                           0.87       815\n",
      "   macro avg       0.67      0.87      0.72       815\n",
      "weighted avg       0.94      0.87      0.89       815\n",
      "\n"
     ]
    }
   ],
   "source": [
    "print(classification_report(y_pred = preds_smote, y_true = y_test))"
   ]
  },
  {
   "cell_type": "markdown",
   "metadata": {},
   "source": [
    "## Finding Best Classifer Model "
   ]
  },
  {
   "cell_type": "code",
   "execution_count": 48,
   "metadata": {},
   "outputs": [
    {
     "name": "stdout",
     "output_type": "stream",
     "text": [
      "Model: RandomForestClassifier(class_weight='balanced')\n",
      "Training F1: 1.0\n",
      "Test F1: 0.9250963083443026\n",
      "F1-Score Delta: 0.0749\n",
      "\n",
      "****************************\n",
      "\n",
      "Model: KNeighborsClassifier()\n",
      "Training F1: 0.9286014711022473\n",
      "Test F1: 0.9114493521879148\n",
      "F1-Score Delta: 0.0172\n",
      "\n",
      "****************************\n",
      "\n",
      "Model: DecisionTreeClassifier(class_weight='balanced')\n",
      "Training F1: 1.0\n",
      "Test F1: 0.9210608425585519\n",
      "F1-Score Delta: 0.0789\n",
      "\n",
      "****************************\n",
      "\n",
      "Model: LogisticRegression(C=1000000000000.0, fit_intercept=False, random_state=42,\n",
      "                   solver='liblinear')\n",
      "Training F1: 0.9321354736200238\n",
      "Test F1: 0.9396771729077397\n",
      "F1-Score Delta: -0.00754\n",
      "\n",
      "****************************\n",
      "\n"
     ]
    }
   ],
   "source": [
    "# Finding best classifier:\n",
    "\n",
    "rf = RandomForestClassifier(class_weight = 'balanced')\n",
    "knn = KNeighborsClassifier( )\n",
    "dt = DecisionTreeClassifier(class_weight = 'balanced')\n",
    "\n",
    "models = [rf, knn, dt, baseline_logreg]\n",
    "\n",
    "for model in models:\n",
    "    model.fit(X_train_scaled, y_train)\n",
    "    y_preds_test = model.predict(X_test_scaled)\n",
    "    training_preds = model.predict(X_train_scaled)\n",
    "    delta = ((f1_score(y_train, training_preds, average = 'weighted'))-f1_score(y_test, y_preds_test, average = 'weighted'))\n",
    "    print('Model:', model)\n",
    "    print('Training F1:', f1_score(y_train, training_preds, average = 'weighted'))\n",
    "    print('Test F1:', f1_score(y_test, y_preds_test, average = 'weighted'))\n",
    "    print('F1-Score Delta: {:.3}'.format(delta))\n",
    "    print('\\n****************************\\n')\n",
    "    "
   ]
  },
  {
   "cell_type": "code",
   "execution_count": null,
   "metadata": {},
   "outputs": [],
   "source": []
  },
  {
   "cell_type": "markdown",
   "metadata": {},
   "source": [
    "## Random Forest Confusion Matrix"
   ]
  },
  {
   "cell_type": "code",
   "execution_count": 55,
   "metadata": {},
   "outputs": [
    {
     "data": {
      "image/png": "[encoded data removed]",
      "text/plain": [
       "<Figure size 432x288 with 2 Axes>"
      ]
     },
     "metadata": {
      "needs_background": "light"
     },
     "output_type": "display_data"
    }
   ],
   "source": [
    "# Displaying a confusion matrix \n",
    "plot_confusion_matrix(rf, X_test_scaled, y_test,\n",
    "                     cmap=plt.cm.Blues, normalize = 'true')\n",
    "plt.grid(False)\n",
    "\n",
    "plt.show()"
   ]
  },
  {
   "cell_type": "markdown",
   "metadata": {},
   "source": [
    "## K-Nearest Neighbors Confusion Matrix"
   ]
  },
  {
   "cell_type": "code",
   "execution_count": 56,
   "metadata": {},
   "outputs": [
    {
     "data": {
      "image/png": "[encoded data removed]",
      "text/plain": [
       "<Figure size 432x288 with 2 Axes>"
      ]
     },
     "metadata": {
      "needs_background": "light"
     },
     "output_type": "display_data"
    }
   ],
   "source": [
    "# Displaying a confusion matrix \n",
    "plot_confusion_matrix(knn, X_test_scaled, y_test,\n",
    "                     cmap=plt.cm.Blues, normalize = 'true')\n",
    "plt.grid(False)\n",
    "\n",
    "plt.show()"
   ]
  },
  {
   "cell_type": "markdown",
   "metadata": {},
   "source": [
    "## Decision Tree Confusion Matrix"
   ]
  },
  {
   "cell_type": "code",
   "execution_count": 57,
   "metadata": {},
   "outputs": [
    {
     "data": {
      "image/png": "[encoded data removed]",
      "text/plain": [
       "<Figure size 432x288 with 2 Axes>"
      ]
     },
     "metadata": {
      "needs_background": "light"
     },
     "output_type": "display_data"
    }
   ],
   "source": [
    "# Displaying a confusion matrix \n",
    "plot_confusion_matrix(dt, X_test_scaled, y_test,\n",
    "                     cmap=plt.cm.Blues, normalize = 'true')\n",
    "plt.grid(False)\n",
    "\n",
    "plt.show()"
   ]
  },
  {
   "cell_type": "markdown",
   "metadata": {},
   "source": [
    "## Baseline Model Confusion Matrix"
   ]
  },
  {
   "cell_type": "code",
   "execution_count": 59,
   "metadata": {},
   "outputs": [
    {
     "data": {
      "image/png": "[encoded data removed]",
      "text/plain": [
       "<Figure size 432x288 with 2 Axes>"
      ]
     },
     "metadata": {
      "needs_background": "light"
     },
     "output_type": "display_data"
    }
   ],
   "source": [
    "# Displaying a confusion matrix \n",
    "plot_confusion_matrix(baseline_logreg, X_test_scaled, y_test,\n",
    "                     cmap=plt.cm.Blues, normalize = 'true')\n",
    "plt.grid(False)\n",
    "plt.show()"
   ]
  },
  {
   "cell_type": "code",
   "execution_count": null,
   "metadata": {},
   "outputs": [],
   "source": []
  },
  {
   "cell_type": "code",
   "execution_count": 61,
   "metadata": {},
   "outputs": [
    {
     "name": "stdout",
     "output_type": "stream",
     "text": [
      "Model: RandomForestClassifier(class_weight='balanced')\n",
      "[[0.98931909 0.01068091]\n",
      " [0.68181818 0.31818182]]\n",
      "\n",
      "*******************\n",
      "\n",
      "Model: KNeighborsClassifier()\n",
      "[[0.99599466 0.00400534]\n",
      " [0.8030303  0.1969697 ]]\n",
      "\n",
      "*******************\n",
      "\n",
      "Model: DecisionTreeClassifier(class_weight='balanced')\n",
      "[[0.96528705 0.03471295]\n",
      " [0.59090909 0.40909091]]\n",
      "\n",
      "*******************\n",
      "\n",
      "Model: LogisticRegression(C=1000000000000.0, fit_intercept=False, random_state=42,\n",
      "                   solver='liblinear')\n",
      "[[0.99198932 0.00801068]\n",
      " [0.56060606 0.43939394]]\n",
      "\n",
      "*******************\n",
      "\n"
     ]
    }
   ],
   "source": [
    "# Print confusion all in one cell for comparison\n",
    "\n",
    "rf = RandomForestClassifier(class_weight = 'balanced')\n",
    "knn = KNeighborsClassifier()\n",
    "dt = DecisionTreeClassifier(class_weight = 'balanced')\n",
    "\n",
    "models = [rf, knn, dt, baseline_logreg]\n",
    "\n",
    "for model in models:\n",
    "    model.fit(X_train_scaled, y_train)\n",
    "    y_preds_test = model.predict(X_test_scaled)\n",
    "    training_preds = model.predict(X_train_scaled)\n",
    "    cnf_matrix = confusion_matrix(y_test, y_preds_test, normalize = 'true')\n",
    "    print('Model:', model)\n",
    "    print(cnf_matrix)\n",
    "    print('\\n*******************\\n')\n"
   ]
  },
  {
   "cell_type": "code",
   "execution_count": null,
   "metadata": {},
   "outputs": [],
   "source": []
  },
  {
   "cell_type": "code",
   "execution_count": null,
   "metadata": {},
   "outputs": [],
   "source": []
  },
  {
   "cell_type": "markdown",
   "metadata": {},
   "source": [
    "## Baseline Linear Regression Model "
   ]
  },
  {
   "cell_type": "code",
   "execution_count": 29,
   "metadata": {},
   "outputs": [
    {
     "name": "stdout",
     "output_type": "stream",
     "text": [
      "Train Mean Squared Error: 0.04959349219744427\n",
      "Test Mean Squared Error:  0.048820173308270695\n"
     ]
    }
   ],
   "source": [
    "#Creating baseline linear regression model \n",
    "linreg = LinearRegression()\n",
    "linreg.fit(X_train, y_train)\n",
    "\n",
    "y_hat_train = linreg.predict(X_train)\n",
    "y_hat_test = linreg.predict(X_test)\n",
    "\n",
    "\n",
    "train_mse = mean_squared_error(y_train, y_hat_train)\n",
    "test_mse = mean_squared_error(y_test, y_hat_test)\n",
    "print('Train Mean Squared Error:', train_mse)\n",
    "print('Test Mean Squared Error: ', test_mse)\n",
    "\n"
   ]
  },
  {
   "cell_type": "code",
   "execution_count": 31,
   "metadata": {},
   "outputs": [
    {
     "name": "stdout",
     "output_type": "stream",
     "text": [
      "                            OLS Regression Results                            \n",
      "==============================================================================\n",
      "Dep. Variable:               Diabetes   R-squared:                       0.321\n",
      "Model:                            OLS   Adj. R-squared:                  0.316\n",
      "Method:                 Least Squares   F-statistic:                     67.52\n",
      "Date:                Mon, 02 Oct 2023   Prob (F-statistic):          1.57e-189\n",
      "Time:                        15:46:34   Log-Likelihood:                 202.96\n",
      "No. Observations:                2445   AIC:                            -369.9\n",
      "Df Residuals:                    2427   BIC:                            -265.5\n",
      "Df Model:                          17                                         \n",
      "Covariance Type:            nonrobust                                         \n",
      "==================================================================================\n",
      "                     coef    std err          t      P>|t|      [0.025      0.975]\n",
      "----------------------------------------------------------------------------------\n",
      "const             -0.8968      0.081    -11.022      0.000      -1.056      -0.737\n",
      "Age                0.0032      0.000      7.998      0.000       0.002       0.004\n",
      "Gender            -0.0185      0.015     -1.230      0.219      -0.048       0.011\n",
      "BMI                0.0021      0.002      1.213      0.225      -0.001       0.005\n",
      "SBP                0.0004      0.000      1.098      0.272      -0.000       0.001\n",
      "DBP               -0.0011      0.001     -1.888      0.059      -0.002    4.32e-05\n",
      "FPG                0.0535      0.008      6.664      0.000       0.038       0.069\n",
      "Chol               0.0175      0.014      1.285      0.199      -0.009       0.044\n",
      "Tri               -0.0080      0.006     -1.386      0.166      -0.019       0.003\n",
      "HDL               -0.0321      0.019     -1.732      0.083      -0.068       0.004\n",
      "LDL               -0.0257      0.016     -1.607      0.108      -0.057       0.006\n",
      "ALT             2.594e-05      0.000      0.106      0.915      -0.000       0.001\n",
      "BUN               -0.0004      0.004     -0.092      0.927      -0.008       0.008\n",
      "CCR               -0.0008      0.000     -1.893      0.058      -0.002     2.9e-05\n",
      "FFPG               0.1179      0.006     19.781      0.000       0.106       0.130\n",
      "smoking           -0.0084      0.006     -1.337      0.181      -0.021       0.004\n",
      "drinking           0.0222      0.010      2.147      0.032       0.002       0.042\n",
      "family_histroy     0.0441      0.019      2.302      0.021       0.007       0.082\n",
      "==============================================================================\n",
      "Omnibus:                      988.233   Durbin-Watson:                   1.930\n",
      "Prob(Omnibus):                  0.000   Jarque-Bera (JB):             5301.159\n",
      "Skew:                           1.852   Prob(JB):                         0.00\n",
      "Kurtosis:                       9.190   Cond. No.                     3.10e+03\n",
      "==============================================================================\n",
      "\n",
      "Notes:\n",
      "[1] Standard Errors assume that the covariance matrix of the errors is correctly specified.\n",
      "[2] The condition number is large, 3.1e+03. This might indicate that there are\n",
      "strong multicollinearity or other numerical problems.\n"
     ]
    }
   ],
   "source": [
    "baseline_model_all = sm.OLS(y_train, sm.add_constant(X_train))\n",
    "baseline_model  = baseline_model_all.fit()\n",
    "\n",
    "print(baseline_model.summary())"
   ]
  },
  {
   "cell_type": "code",
   "execution_count": 33,
   "metadata": {},
   "outputs": [
    {
     "data": {
      "text/plain": [
       "array([-0.01831558, -0.01917737, -0.02700964, -0.01923626, -0.39877301])"
      ]
     },
     "execution_count": 33,
     "metadata": {},
     "output_type": "execute_result"
    }
   ],
   "source": [
    "cross_val_score(linreg, X_df, y_target, scoring=\"neg_mean_squared_error\")\n"
   ]
  },
  {
   "cell_type": "markdown",
   "metadata": {},
   "source": [
    "## Baseline Logistic Regression Model "
   ]
  },
  {
   "cell_type": "code",
   "execution_count": 35,
   "metadata": {},
   "outputs": [],
   "source": [
    "#Separating target variable from predictors\n",
    "y = diabetes_df['Diabetes']\n",
    "X = diabetes_df.drop('Diabetes', axis=1)\n",
    "\n",
    "# Split the data into training and test sets\n",
    "X_train, X_test, y_train, y_test = train_test_split(X, y, test_size=0.25, random_state=42)"
   ]
  },
  {
   "cell_type": "code",
   "execution_count": null,
   "metadata": {},
   "outputs": [],
   "source": [
    "scaler = StandardScaler()\n",
    "\n",
    "X_V = X_val.values\n",
    "scaled_x_train = scaler.fit_transform(X_train)\n",
    "scaled_x_val = scaler.transform(X_V)"
   ]
  },
  {
   "cell_type": "code",
   "execution_count": null,
   "metadata": {},
   "outputs": [],
   "source": []
  },
  {
   "cell_type": "code",
   "execution_count": null,
   "metadata": {},
   "outputs": [],
   "source": []
  },
  {
   "cell_type": "code",
   "execution_count": null,
   "metadata": {},
   "outputs": [],
   "source": [
    "#Separating target variable from predictors\n",
    "target = df['Outcome']\n",
    "df = df.drop('Outcome', axis=1)\n",
    "\n",
    "# Split the data into training and test sets\n",
    "X_train, X_test, y_train, y_test = train_test_split(df, target, test_size=0.25, random_state=42)\n",
    "\n",
    "\n",
    "Train the Models\n",
    "\n",
    "# Instantiate an AdaBoostClassifier\n",
    "adaboost_clf = AdaBoostClassifier(random_state=42)\n",
    "\n",
    "# Instantiate an GradientBoostingClassifier\n",
    "gbt_clf = GradientBoostingClassifier(random_state=42)\n",
    "\n",
    "\n",
    "# Fit AdaBoostClassifier\n",
    "adaboost_clf.fit(X_train, y_train)\n",
    "\n",
    "# Fit GradientBoostingClassifier\n",
    "gbt_clf.fit(X_train, y_train)\n",
    "\n",
    "Model Predictions\n",
    "\n",
    "# AdaBoost model predictions\n",
    "adaboost_train_preds = adaboost_clf.predict(X_train)\n",
    "adaboost_test_preds = adaboost_clf.predict(X_test)\n",
    "\n",
    "# GradientBoosting model predictions\n",
    "gbt_clf_train_preds = gbt_clf.predict(X_train)\n",
    "gbt_clf_test_preds = gbt_clf.predict(X_test)\n",
    "\n",
    "#Defining function to calculate accuracy and F1 score for each model\n",
    "\n",
    "def display_acc_and_f1_score(true, preds, model_name):\n",
    "    acc = accuracy_score(true, preds)\n",
    "    f1 = f1_score(true, preds)\n",
    "    print(\"Model: {}\".format(model_name))\n",
    "    print(\"Accuracy: {}\".format(acc))\n",
    "    print(\"F1-Score: {}\".format(f1))\n",
    "    \n",
    "print(\"Training Metrics\")\n",
    "display_acc_and_f1_score(y_train, adaboost_train_preds, model_name='AdaBoost')\n",
    "print(\"\")\n",
    "display_acc_and_f1_score(y_train, gbt_clf_train_preds, model_name='Gradient Boosted Trees')\n",
    "print(\"\")\n",
    "print(\"Testing Metrics\")\n",
    "display_acc_and_f1_score(y_test, adaboost_test_preds, model_name='AdaBoost')\n",
    "print(\"\")\n",
    "display_acc_and_f1_score(y_test, gbt_clf_test_preds, model_name='Gradient Boosted Trees')\n",
    "\n",
    "\n",
    "#Confusion Matrix for each \n",
    "\n",
    "adaboost_confusion_matrix = confusion_matrix(y_test, adaboost_test_preds)\n",
    "adaboost_confusion_matrix\n",
    "\n",
    "\n",
    "gbt_confusion_matrix = confusion_matrix(y_test, gbt_clf_test_preds)\n",
    "gbt_confusion_matrix\n",
    "\n",
    "\n",
    "#Classification Report for Each\n",
    "\n",
    "adaboost_classification_report = classification_report(y_test, adaboost_test_preds)\n",
    "print(adaboost_classification_report)\n",
    "\n",
    "gbt_classification_report = classification_report(y_test, gbt_clf_test_preds)\n",
    "print(gbt_classification_report)\n",
    "\n",
    "\n",
    "Computing Cross-Validation Scores for Each Model\n",
    "\n",
    "print('Mean Adaboost Cross-Val Score (k=5):')\n",
    "print(cross_val_score(adaboost_clf, df, target, cv=5).mean())\n",
    "\n",
    "print('Mean GBT Cross-Val Score (k=5):')\n",
    "print(cross_val_score(gbt_clf, df, target, cv=5).mean())\n"
   ]
  },
  {
   "cell_type": "code",
   "execution_count": null,
   "metadata": {},
   "outputs": [],
   "source": [
    "Building an XGBoost Model\n",
    "\n",
    "# Instantiate XGBClassifier\n",
    "clf = XGBClassifier()\n",
    "\n",
    "# Fit XGBClassifier\n",
    "clf.fit(X_train, y_train)\n",
    "\n",
    "# Predict on training and test sets\n",
    "training_preds = clf.predict(X_train)\n",
    "test_preds = clf.predict(X_test)\n",
    "\n",
    "# Accuracy of training and test sets\n",
    "training_accuracy = accuracy_score(y_train, training_preds)\n",
    "test_accuracy = accuracy_score(y_test, test_preds)\n",
    "\n",
    "print('Training Accuracy: {:.4}%'.format(training_accuracy * 100))\n",
    "print('Validation accuracy: {:.4}%'.format(test_accuracy * 100))\n",
    "\n",
    "\n",
    "Tuning XGBoost\n",
    "\n",
    "#Constructing our params dictionary \n",
    "param_grid = {\n",
    "    'learning_rate': [0.1, 0.2],\n",
    "    'max_depth': [6],\n",
    "    'min_child_weight': [1, 2],\n",
    "    'subsample': [0.5, 0.7],\n",
    "    'n_estimators': [100],\n",
    "}\n",
    "\n",
    "\n",
    "#Building GridSearchCV model and getting best parameters\n",
    "\n",
    "grid_clf = GridSearchCV(clf, param_grid, scoring='accuracy', cv=None, n_jobs=1)\n",
    "grid_clf.fit(X_train, y_train)\n",
    "\n",
    "best_parameters = grid_clf.best_params_\n",
    "\n",
    "print('Grid Search found the following optimal parameters: ')\n",
    "for param_name in sorted(best_parameters.keys()):\n",
    "    print('%s: %r' % (param_name, best_parameters[param_name]))\n",
    "\n",
    "\n",
    "#Getting predictions and accuracy of model \n",
    "\n",
    "training_preds = grid_clf.predict(X_train)\n",
    "test_preds = grid_clf.predict(X_test)\n",
    "training_accuracy = accuracy_score(y_train, training_preds)\n",
    "test_accuracy = accuracy_score(y_test, test_preds)\n",
    "\n",
    "print('')\n",
    "print('Training Accuracy: {:.4}%'.format(training_accuracy * 100))\n",
    "print('Validation accuracy: {:.4}%'.format(test_accuracy * 100))\n"
   ]
  },
  {
   "cell_type": "code",
   "execution_count": null,
   "metadata": {},
   "outputs": [],
   "source": []
  },
  {
   "cell_type": "markdown",
   "metadata": {},
   "source": [
    "## Modeling "
   ]
  },
  {
   "cell_type": "markdown",
   "metadata": {},
   "source": [
    "## Evaluation"
   ]
  },
  {
   "cell_type": "markdown",
   "metadata": {},
   "source": [
    "## Conclusion/Recommendations"
   ]
  },
  {
   "cell_type": "markdown",
   "metadata": {},
   "source": [
    "## Limitations"
   ]
  },
  {
   "cell_type": "markdown",
   "metadata": {},
   "source": []
  }
 ],
 "metadata": {
  "kernelspec": {
   "display_name": "Python 3",
   "language": "python",
   "name": "python3"
  },
  "language_info": {
   "codemirror_mode": {
    "name": "ipython",
    "version": 3
   },
   "file_extension": ".py",
   "mimetype": "text/x-python",
   "name": "python",
   "nbconvert_exporter": "python",
   "pygments_lexer": "ipython3",
   "version": "3.8.5"
  }
 },
 "nbformat": 4,
 "nbformat_minor": 4
}
